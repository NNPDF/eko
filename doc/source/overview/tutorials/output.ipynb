{
 "cells": [
  {
   "cell_type": "markdown",
   "id": "c994a02e-d0f1-405d-bf47-07eddc5ed51a",
   "metadata": {},
   "source": [
    "# Output"
   ]
  },
  {
   "cell_type": "markdown",
   "id": "c37992a7-17a9-4e21-9962-15a22c5a8773",
   "metadata": {},
   "source": [
    "In the [former tutorial](./dglap.ipynb) we computed an evolution operator, but we didn't use it\n",
    "In this one, we'll then explore the content a structure of a computed operator."
   ]
  },
  {
   "cell_type": "code",
   "execution_count": 1,
   "id": "51dbf608-ccfb-4fb5-aca3-723a5f280f65",
   "metadata": {},
   "outputs": [],
   "source": [
    "import eko"
   ]
  },
  {
   "cell_type": "markdown",
   "id": "2f8f0666-c6ab-40f6-86f5-15773f205b51",
   "metadata": {},
   "source": [
    "First of all, we need to recompute the operator, since we didn't save it."
   ]
  },
  {
   "cell_type": "code",
   "execution_count": 2,
   "id": "6c9026ab-e74d-451d-895f-344573f970fc",
   "metadata": {},
   "outputs": [
    {
     "name": "stdout",
     "output_type": "stream",
     "text": [
      "Evolution: computing operators: - 5/5 took: 0.106152 s\n",
      "Evolution: computing operators: - 4/5 took: 0.125419 s\n",
      "Evolution: computing operators: - 2/5 took: 0.158712 sEvolution: computing operators: - 3/5 took: 0.158775 s\n",
      "\n",
      "Evolution: computing operators: - 1/5 took: 0.161731 s\n",
      "Evolution: computing operators: - 5/5 took: 0.102229 s\n",
      "Evolution: computing operators: - 4/5 took: 0.121632 s\n",
      "Evolution: computing operators: - 3/5 took: 0.142097 s\n",
      "Evolution: computing operators: - 1/5 took: 0.154657 s\n",
      "Evolution: computing operators: - 2/5 took: 0.160252 s\n",
      "Evolution: computing operators: - 5/5 took: 0.103914 s\n",
      "Evolution: computing operators: - 4/5 took: 0.129496 s\n",
      "Evolution: computing operators: - 3/5 took: 0.150699 s\n",
      "Evolution: computing operators: - 2/5 took: 0.158504 s\n",
      "Evolution: computing operators: - 1/5 took: 0.169050 s\n"
     ]
    }
   ],
   "source": [
    "from banana.data.theories import default_card as th_card\n",
    "from ekomark.data.operators import default_card as op_card\n",
    "\n",
    "# here we replace the grid with a very minimal one, to speed up the example\n",
    "op_card[\"interpolation_xgrid\"] = [1e-3, 1e-2, 1e-1, 5e-1, 1.]\n",
    "evolution_operator = eko.run_dglap(th_card, op_card)"
   ]
  },
  {
   "cell_type": "markdown",
   "id": "f26bf77f-9999-42d0-8ebf-2c1607214ea7",
   "metadata": {},
   "source": [
    "Now that we have it, we can actually use one of the available formats to dump it."
   ]
  },
  {
   "cell_type": "code",
   "execution_count": 3,
   "id": "daae3811-e7a6-4a7c-9f55-eef8ea1564b8",
   "metadata": {},
   "outputs": [],
   "source": [
    "evolution_operator.dump_tar(\"myeko.tar\")"
   ]
  },
  {
   "cell_type": "markdown",
   "id": "a0d115e4-43cd-4f83-bcb5-922dcbfc56d4",
   "metadata": {},
   "source": [
    "Once dumped, we con always use the paired method to load it, at any later time."
   ]
  },
  {
   "cell_type": "code",
   "execution_count": 4,
   "id": "b62dc52e-ff36-4621-a772-502ff495456f",
   "metadata": {},
   "outputs": [
    {
     "data": {
      "text/plain": [
       "eko.output.Output"
      ]
     },
     "execution_count": 4,
     "metadata": {},
     "output_type": "execute_result"
    }
   ],
   "source": [
    "myeko = eko.output.Output.load_tar(\"myeko.tar\")\n",
    "type(myeko)"
   ]
  },
  {
   "cell_type": "markdown",
   "id": "91b17b27-e423-43fe-87f2-a1eaff027c7a",
   "metadata": {},
   "source": [
    "Now, let's inspect the content of the operator."
   ]
  },
  {
   "cell_type": "code",
   "execution_count": 5,
   "id": "e5c5b8af-d478-48ca-bb61-9a0de680252a",
   "metadata": {},
   "outputs": [
    {
     "name": "stdout",
     "output_type": "stream",
     "text": [
      "Q2grid\n",
      "eko_version\n",
      "inputgrid\n",
      "inputpids\n",
      "interpolation_is_log\n",
      "interpolation_polynomial_degree\n",
      "interpolation_xgrid\n",
      "q2_ref\n",
      "targetgrid\n",
      "targetpids\n"
     ]
    },
    {
     "data": {
      "text/plain": [
       "'0.0.0'"
      ]
     },
     "execution_count": 5,
     "metadata": {},
     "output_type": "execute_result"
    }
   ],
   "source": [
    "print(*myeko.keys(), sep=\"\\n\")\n",
    "myeko[\"eko_version\"]"
   ]
  },
  {
   "cell_type": "markdown",
   "id": "3d610d9f-b2cb-4ddf-ab02-a47d9c9638c3",
   "metadata": {},
   "source": [
    "In the last step, we proved that an `eko.output.Output` object essentially behaves like a dictionary. Indeed, it is a dictionary."
   ]
  },
  {
   "cell_type": "code",
   "execution_count": 6,
   "id": "fcca9db4-a266-4abb-8aea-2390fc3aaa72",
   "metadata": {},
   "outputs": [
    {
     "data": {
      "text/plain": [
       "True"
      ]
     },
     "execution_count": 6,
     "metadata": {},
     "output_type": "execute_result"
    }
   ],
   "source": [
    "isinstance(myeko, dict)"
   ]
  },
  {
   "cell_type": "markdown",
   "id": "7b1baedd-8a95-4b5c-a1a0-03716534ecf3",
   "metadata": {},
   "source": [
    "At the moment we have only seen one attribute in action: an `Output` object records the version of `eko` that has generated.\n",
    "Let's have a look at some other ones."
   ]
  },
  {
   "cell_type": "code",
   "execution_count": 7,
   "id": "593038bf-d8db-46ce-8a19-fbb2ae1908b6",
   "metadata": {},
   "outputs": [
    {
     "name": "stdout",
     "output_type": "stream",
     "text": [
      "INTERNAL\n",
      "log? True, degree? 4\n",
      "[0.001 0.01  0.1   0.5   1.   ]\n",
      "\n",
      "INPUT\n",
      "grid: (5,) float64\n",
      "pids: 14 <class 'int'>\n",
      "Q0^2: 1.0 GeV^2\n",
      "TARGET\n",
      "grid: (5,) float64\n",
      "pids: 14 <class 'int'>\n",
      "\n",
      "All grid the same? True\n"
     ]
    }
   ],
   "source": [
    "interpl = myeko[\"interpolation_is_log\"]\n",
    "interpd = myeko[\"interpolation_polynomial_degree\"]\n",
    "interpg = myeko[\"interpolation_xgrid\"]\n",
    "print(f\"INTERNAL\\nlog? {interpl}, degree? {interpd}\\n{interpg}\\n\")\n",
    "\n",
    "ig = myeko[\"inputgrid\"]\n",
    "ip = myeko[\"inputpids\"]\n",
    "q0 = myeko[\"q2_ref\"]\n",
    "print(f\"INPUT\\ngrid: {ig.shape} {ig.dtype}\\npids: {len(ip)} {type(ip[0])}\\nQ0^2: {q0} GeV^2\")\n",
    "tg = myeko[\"targetgrid\"]\n",
    "tp = myeko[\"targetpids\"]\n",
    "print(f\"TARGET\\ngrid: {tg.shape} {tg.dtype}\\npids: {len(tp)} {type(tp[0])}\")\n",
    "\n",
    "print(\"\\nAll grid the same?\", (interpg == ig).all() and (interpg == tg).all())"
   ]
  },
  {
   "cell_type": "markdown",
   "id": "b8600930-2690-4101-8bca-9f01ae81b441",
   "metadata": {},
   "source": [
    "So an `Output` object has some internal parameters, related to the interpolation used for the calculation, and then some external attributes, related to the final operator delivered.\n",
    "But actually, we have not accessed yet the actual operator."
   ]
  },
  {
   "cell_type": "code",
   "execution_count": 8,
   "id": "c82e6733-946f-4210-a6fa-95f995ee5be5",
   "metadata": {},
   "outputs": [
    {
     "data": {
      "text/plain": [
       "dict_keys([100.0])"
      ]
     },
     "execution_count": 8,
     "metadata": {},
     "output_type": "execute_result"
    }
   ],
   "source": [
    "opgrid = myeko[\"Q2grid\"]\n",
    "opgrid.keys()"
   ]
  },
  {
   "cell_type": "markdown",
   "id": "075734fa-8108-44ff-9070-cb4e5baab072",
   "metadata": {},
   "source": [
    "Even the operator grid is a dictionary, mapping $Q^2$ values to the operator evolving to that scale (from the unique starting scale $Q_0^2$).\n",
    "In the present case there is a unique final scale, but in the general case there might be many."
   ]
  },
  {
   "cell_type": "code",
   "execution_count": 9,
   "id": "15262aee-1cfa-40f3-b072-b53ec5517784",
   "metadata": {},
   "outputs": [
    {
     "name": "stdout",
     "output_type": "stream",
     "text": [
      "dict_keys(['operators', 'alphas', 'operator_errors'])\n",
      "\n",
      "OPERATOR\n",
      "(14, 5, 14, 5) float64\n",
      "\n",
      "ERROR\n",
      "(14, 5, 14, 5) float64\n",
      "\n",
      "ALPHA_S: 0.1730886068066815\n"
     ]
    }
   ],
   "source": [
    "print(opgrid[100.].keys())\n",
    "op = opgrid[100.][\"operators\"]\n",
    "operr = opgrid[100.][\"operator_errors\"]\n",
    "alphas = opgrid[100.][\"alphas\"]\n",
    "\n",
    "print(f\"\\nOPERATOR\\n{op.shape} {op.dtype}\")\n",
    "print(f\"\\nERROR\\n{operr.shape} {operr.dtype}\")\n",
    "print(f\"\\nALPHA_S: {alphas}\")"
   ]
  }
 ],
 "metadata": {
  "kernelspec": {
   "display_name": "eko",
   "language": "python",
   "name": "eko"
  },
  "language_info": {
   "codemirror_mode": {
    "name": "ipython",
    "version": 3
   },
   "file_extension": ".py",
   "mimetype": "text/x-python",
   "name": "python",
   "nbconvert_exporter": "python",
   "pygments_lexer": "ipython3",
   "version": "3.9.7"
  }
 },
 "nbformat": 4,
 "nbformat_minor": 5
}
