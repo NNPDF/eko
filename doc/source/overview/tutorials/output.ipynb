{
 "cells": [
  {
   "cell_type": "markdown",
   "id": "c994a02e-d0f1-405d-bf47-07eddc5ed51a",
   "metadata": {},
   "source": [
    "# Exploring the Output"
   ]
  },
  {
   "cell_type": "markdown",
   "id": "c37992a7-17a9-4e21-9962-15a22c5a8773",
   "metadata": {},
   "source": [
    "In the [former tutorial](./dglap.ipynb) we computed an evolution operator, but we didn't use it.\n",
    "In this one, we'll then explore the content a structure of a computed operator."
   ]
  },
  {
   "cell_type": "code",
   "execution_count": 1,
   "id": "51dbf608-ccfb-4fb5-aca3-723a5f280f65",
   "metadata": {},
   "outputs": [],
   "source": [
    "import eko"
   ]
  },
  {
   "cell_type": "markdown",
   "id": "2f8f0666-c6ab-40f6-86f5-15773f205b51",
   "metadata": {},
   "source": [
    "We can access the operator, by using the `open` method (similar to python's `open`):"
   ]
  },
  {
   "cell_type": "code",
   "execution_count": 2,
   "id": "daae3811-e7a6-4a7c-9f55-eef8ea1564b8",
   "metadata": {},
   "outputs": [
    {
     "name": "stdout",
     "output_type": "stream",
     "text": [
      "<class 'eko.io.struct.EKO'>\n"
     ]
    }
   ],
   "source": [
    "with eko.EKO.open(\"./myeko.tar\") as evolution_operator:\n",
    "    print(type(evolution_operator))"
   ]
  },
  {
   "cell_type": "markdown",
   "id": "91b17b27-e423-43fe-87f2-a1eaff027c7a",
   "metadata": {},
   "source": [
    "Now, let's inspect the content of the operator: e.g. you can extract the theory and operator card"
   ]
  },
  {
   "cell_type": "code",
   "execution_count": 3,
   "id": "e5c5b8af-d478-48ca-bb61-9a0de680252a",
   "metadata": {},
   "outputs": [
    {
     "name": "stdout",
     "output_type": "stream",
     "text": [
      "TheoryCard(order=(1, 0), couplings=CouplingsRef(alphas=reference_running.<locals>.ReferenceRunning(value=0.118, scale=91.2), alphaem=reference_running.<locals>.ReferenceRunning(value=0.007496252, scale=nan), num_flavs_ref=None, max_num_flavs=6), num_flavs_init=None, num_flavs_max_pdf=6, intrinsic_flavors=[4], quark_masses=heavy_quark.<locals>.HeavyQuarks(c=reference_running.<locals>.ReferenceRunning(value=2.0, scale=nan), b=reference_running.<locals>.ReferenceRunning(value=4.5, scale=nan), t=reference_running.<locals>.ReferenceRunning(value=173.07, scale=nan)), quark_masses_scheme=<QuarkMassSchemes.POLE: 'pole'>, matching=heavy_quark.<locals>.HeavyQuarks(c=1.0, b=1.0, t=1.0), xif=1.0)\n",
      "OperatorCard(mu0=1.65, configs=Configs(evolution_method=<EvolutionMethod.ITERATE_EXACT: 'iterate-exact'>, ev_op_max_order=(10, 0), ev_op_iterations=10, interpolation_polynomial_degree=4, interpolation_is_log=True, scvar_method=None, inversion_method=None, n_integration_cores=0), debug=Debug(skip_singlet=False, skip_non_singlet=False), rotations=Rotations(xgrid=<eko.interpolation.XGrid object at 0x7f911b7ab130>, pids=array([22, -6, -5, -4, -3, -2, -1, 21,  1,  2,  3,  4,  5,  6]), _targetgrid=None, _inputgrid=None, _targetpids=None, _inputpids=None), _mugrid=array([100.]), _mu2grid=None, eko_version='0.0.0')\n"
     ]
    }
   ],
   "source": [
    "with eko.EKO.open(\"./myeko.tar\") as evolution_operator:\n",
    "    # obtain theory card\n",
    "    print(evolution_operator.theory_card)\n",
    "    # or operator card\n",
    "    print(evolution_operator.operator_card)"
   ]
  },
  {
   "cell_type": "markdown",
   "id": "b8600930-2690-4101-8bca-9f01ae81b441",
   "metadata": {},
   "source": [
    "So an `EKO` object has some internal parameters, related to the interpolation used for the calculation, and then some external attributes, related to the final operator delivered.\n",
    "But actually, we have not accessed yet the actual operator - let's first find out again which final scales we computed:"
   ]
  },
  {
   "cell_type": "code",
   "execution_count": 4,
   "id": "c82e6733-946f-4210-a6fa-95f995ee5be5",
   "metadata": {},
   "outputs": [
    {
     "name": "stdout",
     "output_type": "stream",
     "text": [
      "[10000.]\n"
     ]
    }
   ],
   "source": [
    "with eko.EKO.open(\"./myeko.tar\") as evolution_operator:\n",
    "    print(evolution_operator.mu2grid)"
   ]
  },
  {
   "cell_type": "markdown",
   "id": "075734fa-8108-44ff-9070-cb4e5baab072",
   "metadata": {},
   "source": [
    "Remember that the unique starting scale is $Q_0^2$. In the present case there is a unique final scale, but in the general one there might be many.\n",
    "Now, let's use this operator! The recommended way to load an operator is by using again a context manager:"
   ]
  },
  {
   "cell_type": "code",
   "execution_count": 5,
   "id": "15262aee-1cfa-40f3-b072-b53ec5517784",
   "metadata": {},
   "outputs": [
    {
     "name": "stdout",
     "output_type": "stream",
     "text": [
      "operator: (14, 5, 14, 5)\n",
      "error: (14, 5, 14, 5)\n"
     ]
    }
   ],
   "source": [
    "with eko.EKO.open(\"./myeko.tar\") as evolution_operator:\n",
    "    with evolution_operator.operator(10000.) as op:\n",
    "        print(f\"operator: {op.operator.shape}\")\n",
    "        print(f\"error: {op.error.shape}\")"
   ]
  },
  {
   "cell_type": "markdown",
   "id": "54380618-bebd-490e-911c-a9c34be40373",
   "metadata": {},
   "source": [
    "This is the final product we expected from the beginning: the evolution operator, delivered as a numerical array.\n",
    "It is actually composed by two elements:\n",
    "\n",
    "- the **operator** itself,  whose dimensions are `(flavor_out, x_out, flavor_in, x_in)`\n",
    "- the *error* on each operator element, propagated from the integration error on the numerical Mellin inversion (no other source is taken into account)"
   ]
  },
  {
   "cell_type": "markdown",
   "id": "4842fb58-d995-4305-b04d-ee0ea6c90dbc",
   "metadata": {},
   "source": [
    "How to use this object is now completely up to the user, but a few helpers are included in another package: `ekobox`!\n",
    "\n",
    "This package will be explored in [a separate tutorial](./pdf.ipynb)."
   ]
  }
 ],
 "metadata": {
  "kernelspec": {
   "display_name": "eko-KkPVjVhh-py3.10",
   "language": "python",
   "name": "eko-kkpvjvhh-py3.10"
  },
  "language_info": {
   "codemirror_mode": {
    "name": "ipython",
    "version": 3
   },
   "file_extension": ".py",
   "mimetype": "text/x-python",
   "name": "python",
   "nbconvert_exporter": "python",
   "pygments_lexer": "ipython3",
   "version": "3.10.9"
  }
 },
 "nbformat": 4,
 "nbformat_minor": 5
}
