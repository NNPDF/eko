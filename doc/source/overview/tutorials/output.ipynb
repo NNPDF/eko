{
 "cells": [
  {
   "cell_type": "markdown",
   "id": "c994a02e-d0f1-405d-bf47-07eddc5ed51a",
   "metadata": {},
   "source": [
    "# Exploring the Output"
   ]
  },
  {
   "cell_type": "markdown",
   "id": "c37992a7-17a9-4e21-9962-15a22c5a8773",
   "metadata": {},
   "source": [
    "In the [former tutorial](./dglap.ipynb) we computed an evolution operator, but we didn't use it.\n",
    "In this one, we'll then explore the content a structure of a computed operator."
   ]
  },
  {
   "cell_type": "code",
   "execution_count": 1,
   "id": "51dbf608-ccfb-4fb5-aca3-723a5f280f65",
   "metadata": {},
   "outputs": [],
   "source": [
    "import eko"
   ]
  },
  {
   "cell_type": "markdown",
   "id": "2f8f0666-c6ab-40f6-86f5-15773f205b51",
   "metadata": {},
   "source": [
    "First of all, we need to recompute the operator, since we didn't save it."
   ]
  },
  {
   "cell_type": "code",
   "execution_count": 2,
   "id": "6c9026ab-e74d-451d-895f-344573f970fc",
   "metadata": {},
   "outputs": [],
   "source": [
    "from banana.data.theories import default_card as th_card\n",
    "from ekomark.data.operators import default_card as op_card\n",
    "\n",
    "# here we replace the grid with a very minimal one, to speed up the example\n",
    "op_card[\"interpolation_xgrid\"] = [1e-3, 1e-2, 1e-1, 5e-1, 1.]\n",
    "evolution_operator = eko.run_dglap(th_card, op_card)"
   ]
  },
  {
   "cell_type": "markdown",
   "id": "f26bf77f-9999-42d0-8ebf-2c1607214ea7",
   "metadata": {},
   "source": [
    "The computed operator is now it's own type (that no longer inherits from dictionary as in previous eko versions):"
   ]
  },
  {
   "cell_type": "code",
   "execution_count": 3,
   "id": "daae3811-e7a6-4a7c-9f55-eef8ea1564b8",
   "metadata": {},
   "outputs": [
    {
     "data": {
      "text/plain": [
       "eko.output.struct.EKO"
      ]
     },
     "execution_count": 3,
     "metadata": {},
     "output_type": "execute_result"
    }
   ],
   "source": [
    "type(evolution_operator)"
   ]
  },
  {
   "cell_type": "markdown",
   "id": "91b17b27-e423-43fe-87f2-a1eaff027c7a",
   "metadata": {},
   "source": [
    "Now, let's inspect the content of the operator: e.g. you can extract the theory and operator card"
   ]
  },
  {
   "cell_type": "code",
   "execution_count": 4,
   "id": "e5c5b8af-d478-48ca-bb61-9a0de680252a",
   "metadata": {},
   "outputs": [
    {
     "name": "stdout",
     "output_type": "stream",
     "text": [
      "{'CKM': '0.97428 0.22530 0.003470 0.22520 0.97345 0.041000 0.00862 0.04030 0.999152', 'Comments': 'LO baseline for small-x res', 'DAMP': 0, 'EScaleVar': 1, 'FNS': 'FFNS', 'GF': 1.1663787e-05, 'HQ': 'POLE', 'IB': 0, 'IC': 0, 'ID': 0, 'MP': 0.938, 'MW': 80.398, 'MZ': 91.1876, 'MaxNfAs': 6, 'MaxNfPdf': 6, 'ModEv': 'EXA', 'ModSV': None, 'NfFF': 3, 'PTO': 0, 'Q0': 1.0, 'QED': 0, 'Qedref': 1.777, 'Qmb': 4.5, 'Qmc': 2.0, 'Qmt': 173.07, 'Qref': 91.2, 'SIN2TW': 0.23126, 'SxOrd': 'LL', 'SxRes': 0, 'TMC': 0, 'XIF': 1.0, 'XIR': 1.0, 'alphaqed': 0.007496251999999999, 'alphas': 0.11800000000000001, 'fact_to_ren_scale_ratio': 1.0, 'global_nx': 0, 'kDISbThr': 1.0, 'kDIScThr': 1.0, 'kDIStThr': 1.0, 'kbThr': 1.0, 'kcThr': 1.0, 'ktThr': 1.0, 'mb': 4.5, 'mc': 2.0, 'mt': 173.07, 'nf0': None, 'nfref': None}\n",
      "{'Q0': 1.0, 'Q2grid': [100], 'backward_inversion': 'expanded', 'configs': {'backward_inversion': 'expanded', 'ev_op_iterations': 10, 'ev_op_max_order': [10, 0], 'interpolation_is_log': True, 'interpolation_polynomial_degree': 4, 'n_integration_cores': 0}, 'debug': {'skip_non_singlet': False, 'skip_singlet': False}, 'debug_skip_non_singlet': False, 'debug_skip_singlet': False, 'ev_op_iterations': 10, 'ev_op_max_order': 10, 'inputgrid': None, 'inputpids': None, 'interpolation_is_log': True, 'interpolation_polynomial_degree': 4, 'interpolation_xgrid': [0.001, 0.01, 0.1, 0.5, 1.0], 'n_integration_cores': 0, 'rotations': {'inputgrid': None, 'inputpids': None, 'targetgrid': None, 'targetpids': None, 'xgrid': [0.001, 0.01, 0.1, 0.5, 1.0]}, 'targetgrid': None, 'targetpids': None}\n"
     ]
    }
   ],
   "source": [
    "# obtain theory card\n",
    "print(evolution_operator.theory_card)\n",
    "# or operator card\n",
    "print(evolution_operator.operator_card)"
   ]
  },
  {
   "cell_type": "markdown",
   "id": "b8600930-2690-4101-8bca-9f01ae81b441",
   "metadata": {},
   "source": [
    "So an `Output` object has some internal parameters, related to the interpolation used for the calculation, and then some external attributes, related to the final operator delivered.\n",
    "But actually, we have not accessed yet the actual operator - let's first find out again which final scales we computed:"
   ]
  },
  {
   "cell_type": "code",
   "execution_count": 5,
   "id": "c82e6733-946f-4210-a6fa-95f995ee5be5",
   "metadata": {},
   "outputs": [
    {
     "data": {
      "text/plain": [
       "array([100])"
      ]
     },
     "execution_count": 5,
     "metadata": {},
     "output_type": "execute_result"
    }
   ],
   "source": [
    "evolution_operator.Q2grid"
   ]
  },
  {
   "cell_type": "markdown",
   "id": "075734fa-8108-44ff-9070-cb4e5baab072",
   "metadata": {},
   "source": [
    "Remember that the unique starting scale is $Q_0^2$. In the present case there is a unique final scale, but in the general one there might be many.\n",
    "Now, let's use this operator! The recommended way to load an operator is by using a context manager:"
   ]
  },
  {
   "cell_type": "code",
   "execution_count": 6,
   "id": "15262aee-1cfa-40f3-b072-b53ec5517784",
   "metadata": {},
   "outputs": [
    {
     "name": "stdout",
     "output_type": "stream",
     "text": [
      "operator: (14, 5, 14, 5)\n",
      "error: (14, 5, 14, 5)\n"
     ]
    }
   ],
   "source": [
    "with evolution_operator.operator(100) as op:\n",
    "    print(f\"operator: {op.operator.shape}\")\n",
    "    print(f\"error: {op.error.shape}\")"
   ]
  },
  {
   "cell_type": "markdown",
   "id": "54380618-bebd-490e-911c-a9c34be40373",
   "metadata": {},
   "source": [
    "This is the final product we expected from the beginning: the evolution operator, delivered as a numerical array.\n",
    "It is actually composed by two elements:\n",
    "\n",
    "- the **operator** itself,  whose dimensions are `(flavor_out, x_out, flavor_in, x_in)`\n",
    "- the *error* on each operator element, propagated from the integration error on the numerical Mellin inversion (no other source is taken into account)"
   ]
  },
  {
   "cell_type": "markdown",
   "id": "4842fb58-d995-4305-b04d-ee0ea6c90dbc",
   "metadata": {},
   "source": [
    "How to use this object is now completely up to the user, but a few helpers are included in another package: `ekobox`!\n",
    "\n",
    "This package will be explored in [a separate tutorial](./pdf.ipynb)."
   ]
  }
 ],
 "metadata": {
  "kernelspec": {
   "display_name": "eko-KkPVjVhh-py3.10",
   "language": "python",
   "name": "eko-kkpvjvhh-py3.10"
  },
  "language_info": {
   "codemirror_mode": {
    "name": "ipython",
    "version": 3
   },
   "file_extension": ".py",
   "mimetype": "text/x-python",
   "name": "python",
   "nbconvert_exporter": "python",
   "pygments_lexer": "ipython3",
   "version": "3.10.6"
  }
 },
 "nbformat": 4,
 "nbformat_minor": 5
}
