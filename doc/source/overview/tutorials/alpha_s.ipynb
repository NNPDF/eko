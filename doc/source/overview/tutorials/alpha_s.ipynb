{
 "cells": [
  {
   "cell_type": "markdown",
   "id": "32efc754-532f-4896-ae93-4c02790e6efc",
   "metadata": {},
   "source": [
    "# Strong Coupling"
   ]
  },
  {
   "cell_type": "markdown",
   "id": "b01c5ee6-2afa-49a5-9fb4-3812db491b1a",
   "metadata": {},
   "source": [
    "`eko` can be used to compute the value of the strong coupling at a given scale, \n",
    "in this tutorial we show how to do it.\n",
    "\n",
    "\n",
    "In `eko` the running of $\\alpha_s$ is managed by an independent class `eko.strong_coupling.StrongCoupling`.\n",
    " \n",
    "To instantiate this object you need to specify at least the boundary conditions on $\\alpha_s(\\mu_{R,0})$ (`alpha_s_ref`,`scale_ref`),\n",
    "and the masses of the heavy quarks with the relative thresholds ratios (`heavy_quark_masses`, `thresholds_ratios`). \n",
    "Note that all scales have to be given squared. \n",
    "\n",
    "You can also pass some optional arguments such as the QCD perturbative order (`order`), \n",
    "see [here](https://eko.readthedocs.io/en/latest/modules/eko/eko.html#module-eko.strong_coupling)\n",
    "for the complete list.\n"
   ]
  },
  {
   "cell_type": "code",
   "execution_count": 1,
   "id": "2cdb5e10-4c68-4cf6-b15d-f464cafae04f",
   "metadata": {},
   "outputs": [],
   "source": [
    "import numpy as np\n",
    "from eko.strong_coupling import StrongCoupling\n",
    "\n",
    "alpha_s_ref = 0.118\n",
    "scale_ref = 91**2\n",
    "heavy_quark_masses = np.power([1.51,4.92,172],2)\n",
    "thresholds_ratios = np.power([1,1,1],2)\n",
    "order = 2\n",
    "sc = StrongCoupling(alpha_s_ref, scale_ref, heavy_quark_masses, thresholds_ratios, order)"
   ]
  },
  {
   "cell_type": "markdown",
   "id": "ccb4a599-41bb-4f1c-8d0f-ca7148c54f04",
   "metadata": {},
   "source": [
    "Now evaluating $\\alpha_s$ at different scale it's rather simple, \n",
    "as you just need to call the method `eko.strong_coupling.StrongCoupling.a_s`.\n",
    "\n",
    "**Warining**: this will return the value of $a_s$, but the class takes $\\alpha_s$ as input! "
   ]
  },
  {
   "cell_type": "code",
   "execution_count": 4,
   "id": "8b908bb3-cbcc-4d7f-b631-27f1f37464f8",
   "metadata": {},
   "outputs": [
    {
     "name": "stdout",
     "output_type": "stream",
     "text": [
      "The value of alpha_s at Q^2=10 is:  0.17805952806666525\n"
     ]
    }
   ],
   "source": [
    "target_scale = 10 ** 2\n",
    "a_s = sc.a_s(target_scale)\n",
    "print(\"The value of alpha_s at Q^2=10 is: \", 4 * np.pi * a_s)"
   ]
  },
  {
   "cell_type": "markdown",
   "id": "39977ebc",
   "metadata": {},
   "source": [
    "You can read more about the strong coupling running in the relative [documentation](https://eko.readthedocs.io/en/latest/theory/pQCD.html#strong-coupling)\n",
    "\n",
    "To see how the flavor path are sorted, you can read [this page](https://eko.readthedocs.io/en/latest/code/Utilities.html)"
   ]
  }
 ],
 "metadata": {
  "interpreter": {
   "hash": "0a84ba3ac8703c04e87bc503a7d00188dfd591ad56130da93c406115a1e4a408"
  },
  "kernelspec": {
   "display_name": "Python 3.10.4 ('eko-KkPVjVhh-py3.10')",
   "language": "python",
   "name": "python3"
  },
  "language_info": {
   "codemirror_mode": {
    "name": "ipython",
    "version": 3
   },
   "file_extension": ".py",
   "mimetype": "text/x-python",
   "name": "python",
   "nbconvert_exporter": "python",
   "pygments_lexer": "ipython3",
   "version": "3.10.4"
  }
 },
 "nbformat": 4,
 "nbformat_minor": 5
}
