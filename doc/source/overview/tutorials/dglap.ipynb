{
 "cells": [
  {
   "cell_type": "markdown",
   "id": "32efc754-532f-4896-ae93-4c02790e6efc",
   "metadata": {},
   "source": [
    "# Computing an EKO"
   ]
  },
  {
   "cell_type": "markdown",
   "id": "b01c5ee6-2afa-49a5-9fb4-3812db491b1a",
   "metadata": {},
   "source": [
    "First things first, we need to import our beloved package :)"
   ]
  },
  {
   "cell_type": "code",
   "execution_count": 1,
   "id": "3f5cd86b-d551-4746-bb20-1db249f1a47e",
   "metadata": {},
   "outputs": [
    {
     "data": {
      "text/plain": [
       "'0.0.0'"
      ]
     },
     "execution_count": 1,
     "metadata": {},
     "output_type": "execute_result"
    }
   ],
   "source": [
    "import pathlib\n",
    "import eko\n",
    "\n",
    "eko.version.__version__"
   ]
  },
  {
   "cell_type": "markdown",
   "id": "0282e916-4eae-4d96-8897-358023f18ee4",
   "metadata": {},
   "source": [
    "At this point, we are already almost ready to run an `eko` calculation, but we need to tell to `eko` what to compute.\n",
    "\n",
    "By design, `eko` follows a \"no default\" approach, so the user has to spell out all the relevant options in order to start a calculation, and no sensible defaults are applied by the program itself.\n",
    "This is done in order to reduce the amount of unexpected behavior, that can result in unpredictable and difficult to debug differences for the end user.\n",
    "\n",
    "In order to avoid surprises, please take care to review your choices, and their meaning.\n",
    "\n",
    "In this example, we are going to use some runcards internally used for debugging. The options in there are in **no way better** than any other.\n",
    "For the calculation you are going to run, you are expected to know which are the appropriate values. In case of doubts, read the [docs](https://eko.readthedocs.io/), or contact the authors (e.g. through the [repository](https://github.com/N3PDF/eko/) issues)."
   ]
  },
  {
   "cell_type": "code",
   "execution_count": 2,
   "id": "2cdb5e10-4c68-4cf6-b15d-f464cafae04f",
   "metadata": {},
   "outputs": [],
   "source": [
    "from ekobox.cards import example\n",
    "\n",
    "th_card = example.theory()\n",
    "op_card = example.operator()\n",
    "# here we replace the grid with a very minimal one, to speed up the example\n",
    "op_card.xgrid = [1e-3, 1e-2, 1e-1, 5e-1, 1.0]"
   ]
  },
  {
   "cell_type": "markdown",
   "id": "ccb4a599-41bb-4f1c-8d0f-ca7148c54f04",
   "metadata": {},
   "source": [
    "Before starting, let's have a look to these cards."
   ]
  },
  {
   "cell_type": "code",
   "execution_count": 3,
   "id": "d39dcb7b-7891-4f56-812d-1c343d7f434e",
   "metadata": {},
   "outputs": [
    {
     "data": {
      "text/plain": [
       "{'order': [1, 0],\n",
       " 'couplings': {'alphas': 0.118,\n",
       "  'alphaem': 0.007496252,\n",
       "  'ref': [91.2, 5],\n",
       "  'em_running': False},\n",
       " 'heavy': {'masses': [[2.0, nan], [4.5, nan], [173.07, nan]],\n",
       "  'masses_scheme': 'pole',\n",
       "  'matching_ratios': [1.0, 1.0, 1.0]},\n",
       " 'xif': 1.0,\n",
       " 'n3lo_ad_variation': [0, 0, 0, 0]}"
      ]
     },
     "execution_count": 3,
     "metadata": {},
     "output_type": "execute_result"
    }
   ],
   "source": [
    "th_card.raw"
   ]
  },
  {
   "cell_type": "code",
   "execution_count": 4,
   "id": "ee14671f-16c3-47c6-b765-09702a28923a",
   "metadata": {},
   "outputs": [
    {
     "data": {
      "text/plain": [
       "{'init': [1.65, 4],\n",
       " 'mugrid': [[100.0, 5]],\n",
       " 'xgrid': [0.001, 0.01, 0.1, 0.5, 1.0],\n",
       " 'configs': {'evolution_method': 'iterate-exact',\n",
       "  'ev_op_max_order': [10, 0],\n",
       "  'ev_op_iterations': 10,\n",
       "  'scvar_method': None,\n",
       "  'inversion_method': None,\n",
       "  'interpolation_polynomial_degree': 4,\n",
       "  'interpolation_is_log': True,\n",
       "  'polarized': False,\n",
       "  'time_like': False,\n",
       "  'n_integration_cores': 0},\n",
       " 'debug': {'skip_singlet': False, 'skip_non_singlet': False},\n",
       " 'eko_version': '0.0.0'}"
      ]
     },
     "execution_count": 4,
     "metadata": {},
     "output_type": "execute_result"
    }
   ],
   "source": [
    "op_card.raw"
   ]
  },
  {
   "cell_type": "markdown",
   "id": "f7fabbbd-5595-4f15-858f-de6b1b75680e",
   "metadata": {},
   "source": [
    "And now, let's run our first `eko` calculation:"
   ]
  },
  {
   "cell_type": "code",
   "execution_count": 5,
   "id": "8b908bb3-cbcc-4d7f-b631-27f1f37464f8",
   "metadata": {},
   "outputs": [],
   "source": [
    "path = pathlib.Path(\"./myeko.tar\")\n",
    "path.unlink(missing_ok=True)\n",
    "eko.solve(th_card, op_card, path)"
   ]
  },
  {
   "cell_type": "markdown",
   "id": "880aadcf-8f87-4918-a0bc-09581d0d3579",
   "metadata": {},
   "source": [
    "The actual result is a complicate EKO object, which we will discuss it in a separate tutorial.\n",
    "\n",
    "You have just run your first DGLAP calculation!"
   ]
  }
 ],
 "metadata": {
  "kernelspec": {
   "display_name": "eko-KkPVjVhh-py3.10",
   "language": "python",
   "name": "eko-kkpvjvhh-py3.10"
  },
  "language_info": {
   "codemirror_mode": {
    "name": "ipython",
    "version": 3
   },
   "file_extension": ".py",
   "mimetype": "text/x-python",
   "name": "python",
   "nbconvert_exporter": "python",
   "pygments_lexer": "ipython3",
   "version": "3.10.9"
  }
 },
 "nbformat": 4,
 "nbformat_minor": 5
}
