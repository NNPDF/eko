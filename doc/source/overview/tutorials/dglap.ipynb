{
 "cells": [
  {
   "cell_type": "markdown",
   "id": "32efc754-532f-4896-ae93-4c02790e6efc",
   "metadata": {},
   "source": [
    "# Computing an EKO"
   ]
  },
  {
   "cell_type": "markdown",
   "id": "b01c5ee6-2afa-49a5-9fb4-3812db491b1a",
   "metadata": {},
   "source": [
    "First things first, we need to import our beloved package :)"
   ]
  },
  {
   "cell_type": "code",
   "execution_count": 1,
   "id": "3f5cd86b-d551-4746-bb20-1db249f1a47e",
   "metadata": {},
   "outputs": [
    {
     "data": {
      "text/plain": [
       "'0.0.0'"
      ]
     },
     "execution_count": 1,
     "metadata": {},
     "output_type": "execute_result"
    }
   ],
   "source": [
    "import eko\n",
    "\n",
    "eko.version.__version__"
   ]
  },
  {
   "cell_type": "markdown",
   "id": "0282e916-4eae-4d96-8897-358023f18ee4",
   "metadata": {},
   "source": [
    "At this point, we are already almost ready to run an `eko` calculation, but we need to tell to `eko` what to compute.\n",
    "\n",
    "By design, `eko` follows a \"no default\" approach, so the user has to spell out all the relevant options in order to start a calculation, and no sensible defaults are applied by the program itself.\n",
    "This is done in order to reduce the amount of unexpected behavior, that can result in unpredictable and difficult to debug differences for the end user.\n",
    "\n",
    "In order to avoid surprises, please take care to review your choices, and their meaning.\n",
    "\n",
    "In this example, we are going to use some runcards internally used for debugging. The options in there are in **no way better** than any other.\n",
    "For the calculation you are going to run, you are expected to know which are the appropriate values. In case of doubts, read the [docs](https://eko.readthedocs.io/), or contact the authors (e.g. through the [repository](https://github.com/N3PDF/eko/) issues)."
   ]
  },
  {
   "cell_type": "code",
   "execution_count": 2,
   "id": "2cdb5e10-4c68-4cf6-b15d-f464cafae04f",
   "metadata": {},
   "outputs": [],
   "source": [
    "from ekobox.cards import example\n",
    "\n",
    "th_card = example.theory()\n",
    "op_card = example.operator()\n",
    "# here we replace the grid with a very minimal one, to speed up the example\n",
    "op_card.rotations.xgrid = [1e-3, 1e-2, 1e-1, 5e-1, 1.]"
   ]
  },
  {
   "cell_type": "markdown",
   "id": "ccb4a599-41bb-4f1c-8d0f-ca7148c54f04",
   "metadata": {},
   "source": [
    "Before starting, let's have a look to these cards."
   ]
  },
  {
   "cell_type": "code",
   "execution_count": 3,
   "id": "d39dcb7b-7891-4f56-812d-1c343d7f434e",
   "metadata": {},
   "outputs": [
    {
     "data": {
      "text/plain": [
       "{'order': [1, 0],\n",
       " 'couplings': {'alphas': {'value': 0.118, 'scale': 91.2},\n",
       "  'alphaem': {'value': 0.007496252, 'scale': nan},\n",
       "  'num_flavs_ref': None,\n",
       "  'max_num_flavs': 6},\n",
       " 'num_flavs_init': None,\n",
       " 'num_flavs_max_pdf': 6,\n",
       " 'intrinsic_flavors': [4],\n",
       " 'quark_masses': {'c': {'value': 2.0, 'scale': nan},\n",
       "  'b': {'value': 4.5, 'scale': nan},\n",
       "  't': {'value': 173.07, 'scale': nan}},\n",
       " 'quark_masses_scheme': 'pole',\n",
       " 'matching': {'c': 1.0, 'b': 1.0, 't': 1.0},\n",
       " 'xif': 1.0}"
      ]
     },
     "execution_count": 3,
     "metadata": {},
     "output_type": "execute_result"
    }
   ],
   "source": [
    "th_card.raw"
   ]
  },
  {
   "cell_type": "code",
   "execution_count": 4,
   "id": "ee14671f-16c3-47c6-b765-09702a28923a",
   "metadata": {},
   "outputs": [
    {
     "data": {
      "text/plain": [
       "{'mu0': 1.65,\n",
       " 'configs': {'evolution_method': 'iterate-exact',\n",
       "  'ev_op_max_order': [10, 0],\n",
       "  'ev_op_iterations': 10,\n",
       "  'interpolation_polynomial_degree': 4,\n",
       "  'interpolation_is_log': True,\n",
       "  'scvar_method': None,\n",
       "  'inversion_method': None,\n",
       "  'n_integration_cores': 0},\n",
       " 'debug': {'skip_singlet': False, 'skip_non_singlet': False},\n",
       " 'rotations': {'xgrid': [0.001, 0.01, 0.1, 0.5, 1.0],\n",
       "  'pids': [22, -6, -5, -4, -3, -2, -1, 21, 1, 2, 3, 4, 5, 6],\n",
       "  '_targetgrid': None,\n",
       "  '_inputgrid': None,\n",
       "  '_targetpids': None,\n",
       "  '_inputpids': None},\n",
       " '_mugrid': [100.0],\n",
       " '_mu2grid': None,\n",
       " 'eko_version': '0.0.0'}"
      ]
     },
     "execution_count": 4,
     "metadata": {},
     "output_type": "execute_result"
    }
   ],
   "source": [
    "op_card.raw"
   ]
  },
  {
   "cell_type": "markdown",
   "id": "f7fabbbd-5595-4f15-858f-de6b1b75680e",
   "metadata": {},
   "source": [
    "And now, let's run our first `eko` calculation:"
   ]
  },
  {
   "cell_type": "code",
   "execution_count": 5,
   "id": "8b908bb3-cbcc-4d7f-b631-27f1f37464f8",
   "metadata": {},
   "outputs": [
    {
     "ename": "OutputExistsError",
     "evalue": "/tmp/tmpghgoalu4",
     "output_type": "error",
     "traceback": [
      "\u001b[0;31m---------------------------------------------------------------------------\u001b[0m",
      "\u001b[0;31mOutputExistsError\u001b[0m                         Traceback (most recent call last)",
      "Input \u001b[0;32mIn [5]\u001b[0m, in \u001b[0;36m<cell line: 2>\u001b[0;34m()\u001b[0m\n\u001b[1;32m      1\u001b[0m path \u001b[38;5;241m=\u001b[39m \u001b[38;5;124m\"\u001b[39m\u001b[38;5;124m./myeko.tar\u001b[39m\u001b[38;5;124m\"\u001b[39m\n\u001b[0;32m----> 2\u001b[0m \u001b[43meko\u001b[49m\u001b[38;5;241;43m.\u001b[39;49m\u001b[43msolve\u001b[49m\u001b[43m(\u001b[49m\u001b[43mth_card\u001b[49m\u001b[43m,\u001b[49m\u001b[43m \u001b[49m\u001b[43mop_card\u001b[49m\u001b[43m,\u001b[49m\u001b[43m \u001b[49m\u001b[43mpath\u001b[49m\u001b[43m)\u001b[49m\n",
      "File \u001b[0;32m~/Physik/N3PDF/EKO/eko/src/eko/runner/__init__.py:43\u001b[0m, in \u001b[0;36msolve\u001b[0;34m(theory_card, operators_card, path)\u001b[0m\n\u001b[1;32m     10\u001b[0m \u001b[38;5;28;01mdef\u001b[39;00m \u001b[38;5;21msolve\u001b[39m(\n\u001b[1;32m     11\u001b[0m     theory_card: Union[RawCard, TheoryCard],\n\u001b[1;32m     12\u001b[0m     operators_card: Union[RawCard, OperatorCard],\n\u001b[1;32m     13\u001b[0m     path: os\u001b[38;5;241m.\u001b[39mPathLike,\n\u001b[1;32m     14\u001b[0m ):\n\u001b[1;32m     15\u001b[0m     \u001b[38;5;124mr\u001b[39m\u001b[38;5;124;03m\"\"\"Solve DGLAP equations in terms of evolution kernel operators (EKO).\u001b[39;00m\n\u001b[1;32m     16\u001b[0m \n\u001b[1;32m     17\u001b[0m \u001b[38;5;124;03m    The EKO :math:`\\mathbf E_{k,j}(a_s^1\\leftarrow a_s^0)` is determined in order\u001b[39;00m\n\u001b[0;32m   (...)\u001b[0m\n\u001b[1;32m     41\u001b[0m \n\u001b[1;32m     42\u001b[0m \u001b[38;5;124;03m    \"\"\"\u001b[39;00m\n\u001b[0;32m---> 43\u001b[0m     \u001b[43mlegacy\u001b[49m\u001b[38;5;241;43m.\u001b[39;49m\u001b[43mRunner\u001b[49m\u001b[43m(\u001b[49m\u001b[43mtheory_card\u001b[49m\u001b[43m,\u001b[49m\u001b[43m \u001b[49m\u001b[43moperators_card\u001b[49m\u001b[43m,\u001b[49m\u001b[43m \u001b[49m\u001b[43mpath\u001b[49m\u001b[43m)\u001b[49m\u001b[38;5;241m.\u001b[39mcompute()\n",
      "File \u001b[0;32m~/Physik/N3PDF/EKO/eko/src/eko/runner/legacy.py:112\u001b[0m, in \u001b[0;36mRunner.__init__\u001b[0;34m(self, theory_card, operators_card, path)\u001b[0m\n\u001b[1;32m     97\u001b[0m \u001b[38;5;66;03m# setup operator grid\u001b[39;00m\n\u001b[1;32m     98\u001b[0m \u001b[38;5;28mself\u001b[39m\u001b[38;5;241m.\u001b[39mop_grid \u001b[38;5;241m=\u001b[39m OperatorGrid(\n\u001b[1;32m     99\u001b[0m     mu2grid\u001b[38;5;241m=\u001b[39mnew_operator\u001b[38;5;241m.\u001b[39mmu2grid,\n\u001b[1;32m    100\u001b[0m     order\u001b[38;5;241m=\u001b[39mnew_theory\u001b[38;5;241m.\u001b[39morder,\n\u001b[0;32m   (...)\u001b[0m\n\u001b[1;32m    109\u001b[0m     interpol_dispatcher\u001b[38;5;241m=\u001b[39mbfd,\n\u001b[1;32m    110\u001b[0m )\n\u001b[0;32m--> 112\u001b[0m \u001b[38;5;28;01mwith\u001b[39;00m \u001b[43mEKO\u001b[49m\u001b[38;5;241;43m.\u001b[39;49m\u001b[43mcreate\u001b[49m\u001b[43m(\u001b[49m\u001b[43mpath\u001b[49m\u001b[43m)\u001b[49m \u001b[38;5;28;01mas\u001b[39;00m builder:\n\u001b[1;32m    113\u001b[0m     builder\u001b[38;5;241m.\u001b[39mload_cards(  \u001b[38;5;66;03m# pylint: disable=E1101\u001b[39;00m\n\u001b[1;32m    114\u001b[0m         new_theory, new_operator\n\u001b[1;32m    115\u001b[0m     )\u001b[38;5;241m.\u001b[39mbuild()\n",
      "File \u001b[0;32m~/Physik/N3PDF/EKO/eko/src/eko/io/struct.py:910\u001b[0m, in \u001b[0;36mEKO.create\u001b[0;34m(cls, path)\u001b[0m\n\u001b[1;32m    901\u001b[0m \u001b[38;5;129m@classmethod\u001b[39m\n\u001b[1;32m    902\u001b[0m \u001b[38;5;28;01mdef\u001b[39;00m \u001b[38;5;21mcreate\u001b[39m(\u001b[38;5;28mcls\u001b[39m, path: os\u001b[38;5;241m.\u001b[39mPathLike):\n\u001b[1;32m    903\u001b[0m     \u001b[38;5;124;03m\"\"\"Create a new EKO.\u001b[39;00m\n\u001b[1;32m    904\u001b[0m \n\u001b[1;32m    905\u001b[0m \u001b[38;5;124;03m    Type-safe alias for::\u001b[39;00m\n\u001b[0;32m   (...)\u001b[0m\n\u001b[1;32m    908\u001b[0m \n\u001b[1;32m    909\u001b[0m \u001b[38;5;124;03m    \"\"\"\u001b[39;00m\n\u001b[0;32m--> 910\u001b[0m     builder \u001b[38;5;241m=\u001b[39m \u001b[38;5;28;43mcls\u001b[39;49m\u001b[38;5;241;43m.\u001b[39;49m\u001b[43mopen\u001b[49m\u001b[43m(\u001b[49m\u001b[43mpath\u001b[49m\u001b[43m,\u001b[49m\u001b[43m \u001b[49m\u001b[38;5;124;43m\"\u001b[39;49m\u001b[38;5;124;43mw\u001b[39;49m\u001b[38;5;124;43m\"\u001b[39;49m\u001b[43m)\u001b[49m\n\u001b[1;32m    911\u001b[0m     \u001b[38;5;28;01massert\u001b[39;00m \u001b[38;5;28misinstance\u001b[39m(builder, Builder)\n\u001b[1;32m    912\u001b[0m     \u001b[38;5;28;01mreturn\u001b[39;00m builder\n",
      "File \u001b[0;32m~/Physik/N3PDF/EKO/eko/src/eko/io/struct.py:884\u001b[0m, in \u001b[0;36mEKO.open\u001b[0;34m(cls, path, mode)\u001b[0m\n\u001b[1;32m    878\u001b[0m     opened \u001b[38;5;241m=\u001b[39m \u001b[38;5;28mcls\u001b[39m(\n\u001b[1;32m    879\u001b[0m         _operators\u001b[38;5;241m=\u001b[39m{mu2: \u001b[38;5;28;01mNone\u001b[39;00m \u001b[38;5;28;01mfor\u001b[39;00m mu2 \u001b[38;5;129;01min\u001b[39;00m InternalPaths(metadata\u001b[38;5;241m.\u001b[39mpath)\u001b[38;5;241m.\u001b[39mmu2grid},\n\u001b[1;32m    880\u001b[0m         metadata\u001b[38;5;241m=\u001b[39mmetadata,\n\u001b[1;32m    881\u001b[0m         access\u001b[38;5;241m=\u001b[39maccess,\n\u001b[1;32m    882\u001b[0m     )\n\u001b[1;32m    883\u001b[0m \u001b[38;5;28;01melse\u001b[39;00m:\n\u001b[0;32m--> 884\u001b[0m     opened \u001b[38;5;241m=\u001b[39m \u001b[43mBuilder\u001b[49m\u001b[43m(\u001b[49m\u001b[43mpath\u001b[49m\u001b[38;5;241;43m=\u001b[39;49m\u001b[43mtmpdir\u001b[49m\u001b[43m,\u001b[49m\u001b[43m \u001b[49m\u001b[43maccess\u001b[49m\u001b[38;5;241;43m=\u001b[39;49m\u001b[43maccess\u001b[49m\u001b[43m)\u001b[49m\n\u001b[1;32m    886\u001b[0m \u001b[38;5;28;01mreturn\u001b[39;00m opened\n",
      "File \u001b[0;32m<string>:8\u001b[0m, in \u001b[0;36m__init__\u001b[0;34m(self, path, access, theory, operator, eko)\u001b[0m\n",
      "File \u001b[0;32m~/Physik/N3PDF/EKO/eko/src/eko/io/struct.py:1011\u001b[0m, in \u001b[0;36mBuilder.__post_init__\u001b[0;34m(self)\u001b[0m\n\u001b[1;32m   1009\u001b[0m     \u001b[38;5;28;01mraise\u001b[39;00m exceptions\u001b[38;5;241m.\u001b[39mOutputNotTar(\u001b[38;5;28mself\u001b[39m\u001b[38;5;241m.\u001b[39mpath)\n\u001b[1;32m   1010\u001b[0m \u001b[38;5;28;01mif\u001b[39;00m \u001b[38;5;28mself\u001b[39m\u001b[38;5;241m.\u001b[39maccess\u001b[38;5;241m.\u001b[39mpath\u001b[38;5;241m.\u001b[39mexists():\n\u001b[0;32m-> 1011\u001b[0m     \u001b[38;5;28;01mraise\u001b[39;00m exceptions\u001b[38;5;241m.\u001b[39mOutputExistsError(\u001b[38;5;28mself\u001b[39m\u001b[38;5;241m.\u001b[39mpath)\n",
      "\u001b[0;31mOutputExistsError\u001b[0m: /tmp/tmpghgoalu4"
     ]
    }
   ],
   "source": [
    "path = \"./myeko.tar\"\n",
    "eko.solve(th_card, op_card, path)"
   ]
  },
  {
   "cell_type": "markdown",
   "id": "880aadcf-8f87-4918-a0bc-09581d0d3579",
   "metadata": {},
   "source": [
    "The actual result is a complicate EKO object, we will discuss it in a separate tutorial.\n",
    "\n",
    "You have just run your first DGLAP calculation!"
   ]
  }
 ],
 "metadata": {
  "kernelspec": {
   "display_name": "eko-KkPVjVhh-py3.10",
   "language": "python",
   "name": "eko-kkpvjvhh-py3.10"
  },
  "language_info": {
   "codemirror_mode": {
    "name": "ipython",
    "version": 3
   },
   "file_extension": ".py",
   "mimetype": "text/x-python",
   "name": "python",
   "nbconvert_exporter": "python",
   "pygments_lexer": "ipython3",
   "version": "3.10.9"
  }
 },
 "nbformat": 4,
 "nbformat_minor": 5
}
