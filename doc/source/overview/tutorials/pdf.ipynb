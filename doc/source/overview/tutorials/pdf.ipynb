{
 "cells": [
  {
   "cell_type": "markdown",
   "id": "6a4ccad5-2d9d-44ae-802f-455a9cc17c05",
   "metadata": {},
   "source": [
    "# Evolving a PDF"
   ]
  },
  {
   "cell_type": "markdown",
   "id": "3e0dcd0f",
   "metadata": {},
   "source": [
    "## Method 1: Using eko and ekomark.apply_pdf\n",
    "\n",
    "In this first part we will compute the eko and subsequently apply the initial PDF \"maually\" calling a dedicated function. "
   ]
  },
  {
   "cell_type": "code",
   "execution_count": 1,
   "id": "6e722df7-60a9-4462-ae3d-8dec615af404",
   "metadata": {},
   "outputs": [],
   "source": [
    "import eko"
   ]
  },
  {
   "cell_type": "markdown",
   "id": "2d2fcc5d-abe9-44b4-ba29-65346f8a9be6",
   "metadata": {},
   "source": [
    "Again, we need to recompute the operator, since we didn't save it."
   ]
  },
  {
   "cell_type": "code",
   "execution_count": 2,
   "id": "920d2a1d-dfa9-42b4-9ae0-5902f4549d26",
   "metadata": {},
   "outputs": [],
   "source": [
    "from banana.data.theories import default_card as th_card\n",
    "from ekomark.data.operators import default_card as op_card\n",
    "\n",
    "# here we replace the grid with a very minimal one, to speed up the example\n",
    "op_card[\"interpolation_xgrid\"] = [1e-3, 1e-2, 1e-1, 5e-1, 1.]\n",
    "# let's compute two operators: one reaching up to Q2=100 GeV^2 and a second reaching up to Q2=10000 GeV^2\n",
    "op_card[\"Q2grid\"] = [100., 10000.]\n",
    "evolution_operator = eko.run_dglap(th_card, op_card)"
   ]
  },
  {
   "cell_type": "markdown",
   "id": "23fcf9a1-f18a-4178-8b67-062df92abbdc",
   "metadata": {},
   "source": [
    "Next, we need to load the PDF that we want to evolve. EKO uses the same interface as lhapdf to query for the actual values of PDFs. However, for the scope of this tutorial we want to avoid the complication of dealing with an external dependency. Therefore we will use the toy PDFs as they were established by the Les Houches benchmark setting."
   ]
  },
  {
   "cell_type": "code",
   "execution_count": 3,
   "id": "8bd8824b-de64-491f-b279-3ffaed97a6d9",
   "metadata": {},
   "outputs": [],
   "source": [
    "from banana import toy\n",
    "pdf = toy.mkPDF(\"\",0)"
   ]
  },
  {
   "cell_type": "markdown",
   "id": "5de940ea-1dbe-455c-91ae-274b26de62b1",
   "metadata": {},
   "source": [
    "Now, we have all ingredients at hand to evolve the PDF set with the operator:"
   ]
  },
  {
   "cell_type": "code",
   "execution_count": 4,
   "id": "e110fe95-7f57-4b09-a224-ab66da5d7d64",
   "metadata": {},
   "outputs": [],
   "source": [
    "from ekomark.apply import apply_pdf\n",
    "evolved_pdfs = apply_pdf(evolution_operator, pdf)"
   ]
  },
  {
   "cell_type": "markdown",
   "id": "0c2e752c-4a7c-4e2a-bd97-94f54907184a",
   "metadata": {},
   "source": [
    "The returned object `evolved_pdfs` is a dictionary which maps the requested final scales onto further dictionaries:"
   ]
  },
  {
   "cell_type": "code",
   "execution_count": 5,
   "id": "74ddb375-82a6-449f-984d-171ad315ef3e",
   "metadata": {},
   "outputs": [
    {
     "data": {
      "text/plain": [
       "dict_keys([100.0, 10000.0])"
      ]
     },
     "execution_count": 5,
     "metadata": {},
     "output_type": "execute_result"
    }
   ],
   "source": [
    "evolved_pdfs.keys()"
   ]
  },
  {
   "cell_type": "markdown",
   "id": "0ddf91bb-bc2c-4833-b624-32c5ac2d717a",
   "metadata": {},
   "source": [
    "Each final scale contains a dictionary with a key `pdfs`, where all PDF values are hold, and a key `errors` , where the integration errors are hold.\n",
    "Finally, inside each of those there is a mapping of Monte Carlo particle identifiers onto a the PDF value at the requested interpolation points.\n",
    "\n",
    "E.g. to access the gluon PDF at `Q^2 = 100 GeV^2` you can run:"
   ]
  },
  {
   "cell_type": "code",
   "execution_count": 6,
   "id": "6cab9fd1-f4c0-4fc4-aad8-6b6a6b91340c",
   "metadata": {},
   "outputs": [
    {
     "data": {
      "text/plain": [
       "array([ 2.17034797e+04,  3.40247532e+02,  6.64325189e+01, -2.09652559e+01,\n",
       "        0.00000000e+00])"
      ]
     },
     "execution_count": 6,
     "metadata": {},
     "output_type": "execute_result"
    }
   ],
   "source": [
    "evolved_pdfs[100.0][\"pdfs\"][21]"
   ]
  },
  {
   "cell_type": "markdown",
   "id": "ead0923f-d7b7-4ce2-afba-3300c72c467a",
   "metadata": {},
   "source": [
    "Note that we return the actual PDF and not the momentum fraction times the PDF."
   ]
  },
  {
   "cell_type": "markdown",
   "id": "e925d2c9",
   "metadata": {},
   "source": [
    "## Method 2: Using ekobox\n",
    "\n",
    "In this second part we illustrate how to get (and install) directly a LHAPDF set evolved with eko. "
   ]
  },
  {
   "cell_type": "markdown",
   "id": "6799ff5f",
   "metadata": {},
   "source": [
    "First, we define our initial pdf. Here, we will use the same toy PDF as in the previous example, but any LHAPDF-like object will do the job!"
   ]
  },
  {
   "cell_type": "code",
   "execution_count": 7,
   "id": "ca2ed7a8",
   "metadata": {},
   "outputs": [],
   "source": [
    "from banana import toy\n",
    "pdf = toy.mkPDF(\"\",0)"
   ]
  },
  {
   "cell_type": "markdown",
   "id": "bbbae6d6",
   "metadata": {},
   "source": [
    "Now, we set the theory inputs: in this example we will evolve our toy pdf at LO and create a new LHAPDF object with\n",
    "a size two `Q2grid`."
   ]
  },
  {
   "cell_type": "code",
   "execution_count": 8,
   "id": "4a68494f",
   "metadata": {},
   "outputs": [],
   "source": [
    "from banana.data.theories import default_card as th_card\n",
    "\n",
    "# here we replace the grid with a very minimal one, to speed up the example\n",
    "op_card[\"interpolation_xgrid\"] = [1e-3, 1e-2, 1e-1, 5e-1, 1.]\n",
    "op_card[\"Q2grid\"] = [100., 10000.]\n",
    "# set QCD LO evolution\n",
    "th_card[\"PTO\"] = 0"
   ]
  },
  {
   "cell_type": "markdown",
   "id": "4f1323db",
   "metadata": {},
   "source": [
    "Finally, we are ready to run eko and install the new pdf set.\n",
    "Note that if the evolved pdf already exist the code will raise an error and return.\n",
    "\n",
    "Additionally, you can set `path` to load a precomputed EKO, while setting `store_path` you can save the produced EKO and reuse it later.\n",
    "You can also iterate on the given pdf objects."
   ]
  },
  {
   "cell_type": "code",
   "execution_count": 9,
   "id": "8c18c327",
   "metadata": {},
   "outputs": [
    {
     "name": "stdout",
     "output_type": "stream",
     "text": [
      "install_pdf Evolved_PDF\n"
     ]
    }
   ],
   "source": [
    "from ekobox.evol_pdf import evolve_pdfs\n",
    "evolve_pdfs(\n",
    "    [pdf],\n",
    "    th_card,\n",
    "    op_card,\n",
    "    install=True,\n",
    "    name=\"Evolved_PDF\",\n",
    ")"
   ]
  },
  {
   "cell_type": "markdown",
   "id": "888e659d",
   "metadata": {},
   "source": [
    "Now, you can access the evolved pdf as all the other PDF sets (note that this requires the Python interface of lhapdf)."
   ]
  },
  {
   "cell_type": "code",
   "execution_count": 10,
   "id": "cf532a93-7a56-4e45-abd0-50e8652e9a59",
   "metadata": {},
   "outputs": [
    {
     "name": "stdout",
     "output_type": "stream",
     "text": [
      "LHAPDF 6.4.0 loading /home/felix/local/share/LHAPDF/Evolved_PDF/Evolved_PDF_0000.dat\n",
      "Evolved_PDF PDF set, member #0, version 1\n"
     ]
    }
   ],
   "source": [
    "import lhapdf\n",
    "evolved_pdf = lhapdf.mkPDF(\"Evolved_PDF\", 0)"
   ]
  },
  {
   "cell_type": "markdown",
   "id": "4622dc19",
   "metadata": {},
   "source": [
    "To obtain the value of the gluon pdf at a given scale you can simply do:"
   ]
  },
  {
   "cell_type": "code",
   "execution_count": 11,
   "id": "9a85c78d",
   "metadata": {},
   "outputs": [
    {
     "name": "stdout",
     "output_type": "stream",
     "text": [
      "has gluon? True\n",
      "xg(x=0.01, Q2=89.1) = 3.4255366354811705\n"
     ]
    }
   ],
   "source": [
    "pid = 21 # gluon id\n",
    "Q2 = 89.10 #  Q^2 in Gev^2\n",
    "x = 0.01 # momentum fraction \n",
    "\n",
    "# check that the particle is present\n",
    "print(\"has gluon?\",evolved_pdf.hasFlavor(pid))\n",
    "# now do the lookup\n",
    "xg = evolved_pdf.xfxQ2(pid, x, Q2)\n",
    "print(f\"xg(x={x}, Q2={Q2}) = {xg}\")"
   ]
  }
 ],
 "metadata": {
  "kernelspec": {
   "display_name": "Python 3",
   "language": "python",
   "name": "python3"
  },
  "language_info": {
   "codemirror_mode": {
    "name": "ipython",
    "version": 3
   },
   "file_extension": ".py",
   "mimetype": "text/x-python",
   "name": "python",
   "nbconvert_exporter": "python",
   "pygments_lexer": "ipython3",
   "version": "3.10.5"
  },
  "vscode": {
   "interpreter": {
    "hash": "7e472fcaae86e99be842e6a461f25738bfe926fddef76aeba76e9314d132dd8f"
   }
  }
 },
 "nbformat": 4,
 "nbformat_minor": 5
}
