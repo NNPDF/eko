{
 "cells": [
  {
   "cell_type": "markdown",
   "id": "6a4ccad5-2d9d-44ae-802f-455a9cc17c05",
   "metadata": {},
   "source": [
    "# Evolving a PDF"
   ]
  },
  {
   "cell_type": "markdown",
   "id": "3e0dcd0f",
   "metadata": {},
   "source": [
    "## Method 1: Using eko and ekomark.apply_pdf\n",
    "\n",
    "In this first part we will compute the eko and subsequently apply the initial PDF \"manually\" calling a dedicated function. "
   ]
  },
  {
   "cell_type": "code",
   "execution_count": 1,
   "id": "6e722df7-60a9-4462-ae3d-8dec615af404",
   "metadata": {},
   "outputs": [],
   "source": [
    "import eko"
   ]
  },
  {
   "cell_type": "markdown",
   "id": "2d2fcc5d-abe9-44b4-ba29-65346f8a9be6",
   "metadata": {},
   "source": [
    "Again, we need to recompute the operator, since we didn't save it."
   ]
  },
  {
   "cell_type": "code",
   "execution_count": 2,
   "id": "920d2a1d-dfa9-42b4-9ae0-5902f4549d26",
   "metadata": {},
   "outputs": [],
   "source": [
    "from banana.data.theories import default_card as th_card\n",
    "from ekomark.data.operators import default_card as op_card\n",
    "\n",
    "# here we replace the grid with a very minimal one, to speed up the example\n",
    "op_card[\"interpolation_xgrid\"] = [1e-3, 1e-2, 1e-1, 5e-1, 1.]\n",
    "# let's compute two operators: one reaching up to Q2=100 GeV^2 and a second reaching up to Q2=10000 GeV^2\n",
    "op_card[\"Q2grid\"] = [100., 10000.]\n",
    "evolution_operator = eko.run_dglap(th_card, op_card)"
   ]
  },
  {
   "cell_type": "markdown",
   "id": "23fcf9a1-f18a-4178-8b67-062df92abbdc",
   "metadata": {},
   "source": [
    "Next, we need to load the PDF that we want to evolve. EKO uses the same interface as lhapdf to query for the actual values of PDFs. However, for the scope of this tutorial we want to avoid the complication of dealing with an external dependency. Therefore we will use the toy PDFs as they were established by the Les Houches benchmark setting."
   ]
  },
  {
   "cell_type": "code",
   "execution_count": 3,
   "id": "8bd8824b-de64-491f-b279-3ffaed97a6d9",
   "metadata": {},
   "outputs": [],
   "source": [
    "from banana import toy\n",
    "pdf = toy.mkPDF(\"\", 0)"
   ]
  },
  {
   "cell_type": "markdown",
   "id": "5de940ea-1dbe-455c-91ae-274b26de62b1",
   "metadata": {},
   "source": [
    "Now, we have all ingredients at hand to evolve the PDF set with the operator:"
   ]
  },
  {
   "cell_type": "code",
   "execution_count": 4,
   "id": "e110fe95-7f57-4b09-a224-ab66da5d7d64",
   "metadata": {},
   "outputs": [],
   "source": [
    "from ekomark.apply import apply_pdf\n",
    "evolved_pdfs = apply_pdf(evolution_operator, pdf)"
   ]
  },
  {
   "cell_type": "markdown",
   "id": "0c2e752c-4a7c-4e2a-bd97-94f54907184a",
   "metadata": {},
   "source": [
    "The returned object `evolved_pdfs` is a dictionary which maps the requested final scales onto further dictionaries:"
   ]
  },
  {
   "cell_type": "code",
   "execution_count": 5,
   "id": "74ddb375-82a6-449f-984d-171ad315ef3e",
   "metadata": {},
   "outputs": [
    {
     "data": {
      "text/plain": [
       "dict_keys([100.0, 10000.0])"
      ]
     },
     "execution_count": 5,
     "metadata": {},
     "output_type": "execute_result"
    }
   ],
   "source": [
    "evolved_pdfs.keys()"
   ]
  },
  {
   "cell_type": "markdown",
   "id": "0ddf91bb-bc2c-4833-b624-32c5ac2d717a",
   "metadata": {},
   "source": [
    "Each final scale contains a dictionary with a key `pdfs`, where all PDF values are hold, and a key `errors` , where the integration errors are hold.\n",
    "Finally, inside each of those there is a mapping of Monte Carlo particle identifiers onto a the PDF value at the requested interpolation points.\n",
    "\n",
    "E.g. to access the gluon PDF at `Q^2 = 100 GeV^2` you can run:"
   ]
  },
  {
   "cell_type": "code",
   "execution_count": 6,
   "id": "6cab9fd1-f4c0-4fc4-aad8-6b6a6b91340c",
   "metadata": {},
   "outputs": [
    {
     "data": {
      "text/plain": [
       "array([ 2.17034797e+04,  3.40247532e+02,  6.64325189e+01, -2.09652559e+01,\n",
       "        0.00000000e+00])"
      ]
     },
     "execution_count": 6,
     "metadata": {},
     "output_type": "execute_result"
    }
   ],
   "source": [
    "evolved_pdfs[100.0][\"pdfs\"][21]"
   ]
  },
  {
   "cell_type": "markdown",
   "id": "ead0923f-d7b7-4ce2-afba-3300c72c467a",
   "metadata": {},
   "source": [
    "Note that we return the actual PDF and not the momentum fraction times the PDF."
   ]
  },
  {
   "cell_type": "markdown",
   "id": "e925d2c9",
   "metadata": {},
   "source": [
    "## Method 2: Using ekobox\n",
    "\n",
    "In this second part we illustrate how to get (and install) directly a LHAPDF set evolved with eko. "
   ]
  },
  {
   "cell_type": "markdown",
   "id": "6799ff5f",
   "metadata": {},
   "source": [
    "First, we define our initial PDF. Here, we will use the same toy PDF as in the previous example, but any LHAPDF-like object will do the job!"
   ]
  },
  {
   "cell_type": "code",
   "execution_count": 7,
   "id": "ca2ed7a8",
   "metadata": {},
   "outputs": [],
   "source": [
    "from banana import toy\n",
    "pdf = toy.mkPDF(\"\", 0)"
   ]
  },
  {
   "cell_type": "markdown",
   "id": "bbbae6d6",
   "metadata": {},
   "source": [
    "Now, we set the theory inputs: in this example we will evolve our toy PDF at LO and create a new LHAPDF object with\n",
    "a size two `Q2grid`."
   ]
  },
  {
   "cell_type": "code",
   "execution_count": 8,
   "id": "4a68494f",
   "metadata": {},
   "outputs": [],
   "source": [
    "from banana.data.theories import default_card as th_card\n",
    "from ekomark.data.operators import default_card as op_card\n",
    "\n",
    "# here we replace the grid with a very minimal one, to speed up the example\n",
    "op_card[\"interpolation_xgrid\"] = [1e-3, 1e-2, 1e-1, 5e-1, 1.]\n",
    "op_card[\"Q2grid\"] = [100., 10000.]\n",
    "# set QCD LO evolution\n",
    "th_card[\"PTO\"] = 0"
   ]
  },
  {
   "cell_type": "markdown",
   "id": "4f1323db",
   "metadata": {},
   "source": [
    "Finally, we are ready to run eko and install the new PDF set.\n",
    "Note, that if the evolved PDF already exist the code will raise an error and return.\n",
    "\n",
    "Additionally, you can set `path` to load a precomputed EKO, while setting `store_path` you can save the produced EKO and reuse it later.\n",
    "You can also iterate on the given PDF objects (e.g. replicas)."
   ]
  },
  {
   "cell_type": "code",
   "execution_count": 9,
   "id": "8c18c327",
   "metadata": {},
   "outputs": [
    {
     "name": "stdout",
     "output_type": "stream",
     "text": [
      "install_pdf Evolved_PDF\n"
     ]
    }
   ],
   "source": [
    "from ekobox.evol_pdf import evolve_pdfs\n",
    "evolve_pdfs(\n",
    "    [pdf],\n",
    "    th_card,\n",
    "    op_card,\n",
    "    install=True,\n",
    "    name=\"Evolved_PDF\",\n",
    ")"
   ]
  },
  {
   "cell_type": "markdown",
   "id": "888e659d",
   "metadata": {},
   "source": [
    "Now, you can access the evolved PDF as all the other PDF sets (note that this requires the Python interface of lhapdf)."
   ]
  },
  {
   "cell_type": "code",
   "execution_count": 10,
   "id": "cf532a93-7a56-4e45-abd0-50e8652e9a59",
   "metadata": {},
   "outputs": [
    {
     "name": "stdout",
     "output_type": "stream",
     "text": [
      "LHAPDF 6.4.0 loading /home/felix/local/share/LHAPDF/Evolved_PDF/Evolved_PDF_0000.dat\n",
      "Evolved_PDF PDF set, member #0, version 1\n"
     ]
    }
   ],
   "source": [
    "import lhapdf\n",
    "evolved_pdf = lhapdf.mkPDF(\"Evolved_PDF\", 0)"
   ]
  },
  {
   "cell_type": "markdown",
   "id": "4622dc19",
   "metadata": {},
   "source": [
    "To obtain the value of the gluon PDF at a given scale you can simply do:"
   ]
  },
  {
   "cell_type": "code",
   "execution_count": 11,
   "id": "9a85c78d",
   "metadata": {},
   "outputs": [
    {
     "name": "stdout",
     "output_type": "stream",
     "text": [
      "has gluon? True\n",
      "xg(x=0.01, Q2=89.1) = 3.4255366354811705\n"
     ]
    }
   ],
   "source": [
    "pid = 21 # gluon pid\n",
    "Q2 = 89.10 #  Q^2 in Gev^2\n",
    "x = 0.01 # momentum fraction \n",
    "\n",
    "# check that the particle is present\n",
    "print(\"has gluon?\",evolved_pdf.hasFlavor(pid))\n",
    "# now do the lookup\n",
    "xg = evolved_pdf.xfxQ2(pid, x, Q2)\n",
    "print(f\"xg(x={x}, Q2={Q2}) = {xg}\")"
   ]
  },
  {
   "cell_type": "markdown",
   "id": "58b26d42",
   "metadata": {},
   "source": [
    "## A more Realistic Example: Benchmark to CT14llo\n",
    "\n",
    "In this part of the tutorial we do an eko benchmark showing how PDFs evolved with eko can reproduce the values from the original LHAPDF grids."
   ]
  },
  {
   "cell_type": "markdown",
   "id": "e5afc630",
   "metadata": {},
   "source": [
    "First, we need to set up the theory and operator runcards to match the settings used to produce the chosen PDF, here we will use `CT14llo`.\n",
    "\n",
    "We have to use LO evolution and we choose to dump our PDF into grids with 5 values of `Q2` and 60 points in x-space logarithmically spaced between 1e-7 and 0.1 and linearly spaced from 0.1 to 1. "
   ]
  },
  {
   "cell_type": "code",
   "execution_count": 12,
   "id": "00f4f8a4",
   "metadata": {},
   "outputs": [
    {
     "name": "stdout",
     "output_type": "stream",
     "text": [
      "LHAPDF 6.4.0 loading /home/felix/local/share/LHAPDF/CT14llo/CT14llo_0000.dat\n",
      "CT14llo PDF set, member #0, version 1; LHAPDF ID = 13205\n"
     ]
    }
   ],
   "source": [
    "import numpy as np\n",
    "import lhapdf\n",
    "from banana.data.theories import default_card as th_card\n",
    "from ekomark.data.operators import default_card as op_card\n",
    "from eko.interpolation import make_grid\n",
    "\n",
    "# get the PDF object\n",
    "ct14llo = lhapdf.mkPDF(\"CT14llo\")\n",
    "\n",
    "# setup the operator card\n",
    "op_card[\"interpolation_xgrid\"] = make_grid(30, 30).tolist() # x grid\n",
    "op_card[\"Q2grid\"] = np.geomspace(10., 1e5, 5).tolist() # Q2 grid\n",
    "\n",
    "# setup the theory card - this can be mostly inferred from the PDF's .info file\n",
    "th_card[\"PTO\"] = 0 # QCD LO\n",
    "th_card[\"mc\"] = 1.3 # charm mass\n",
    "th_card[\"mb\"] = 4.75 # bottom mass\n",
    "th_card[\"mt\"] = 172. # top mass\n",
    "th_card[\"alphas\"] = 0.130000 # reference value of alpha_s\n",
    "th_card[\"Qref\"] = 91.1876 # the reference scale at which alpha_s is provided\n",
    "th_card[\"nfref\"] = 5 # the number of flavors active at the alpha_s reference scale\n",
    "th_card[\"MaxNfAs\"]= 5  # the maximum number of flavors active in the alpha_s evolution\n",
    "th_card[\"Q0\"] = 1.295000 # starting point for the evolution \n",
    "th_card[\"nf0\"] = 3 # the number of flavors active at the reference scale\n",
    "th_card[\"MaxNfPdf\"] = 5  # the maximum number of flavors active in the pdf evolution"
   ]
  },
  {
   "cell_type": "markdown",
   "id": "a0a51d8b",
   "metadata": {},
   "source": [
    "Next, we run the evolution using method 2 and save the new PDF. Due to the extended x grid and Q2 grid this might take a minute so please be patient ..."
   ]
  },
  {
   "cell_type": "code",
   "execution_count": 13,
   "id": "05b81dca",
   "metadata": {},
   "outputs": [
    {
     "name": "stdout",
     "output_type": "stream",
     "text": [
      "install_pdf my_ct14llo\n"
     ]
    }
   ],
   "source": [
    "from ekobox.evol_pdf import evolve_pdfs\n",
    "\n",
    "evolve_pdfs(\n",
    "    [ct14llo],\n",
    "    th_card,\n",
    "    op_card,\n",
    "    install=True,\n",
    "    name=\"my_ct14llo\",\n",
    ")"
   ]
  },
  {
   "cell_type": "markdown",
   "id": "df0e805f",
   "metadata": {},
   "source": [
    "Now, we can compare the values given by the original PDF set and the one evolved with eko, both at different `x` and `Q2` scales, for a chosen parton,\n",
    "here we look at the gluon:"
   ]
  },
  {
   "cell_type": "code",
   "execution_count": 14,
   "id": "2b02aab1",
   "metadata": {},
   "outputs": [
    {
     "name": "stdout",
     "output_type": "stream",
     "text": [
      "LHAPDF 6.4.0 loading /home/felix/local/share/LHAPDF/my_ct14llo/my_ct14llo_0000.dat\n",
      "my_ct14llo PDF set, member #0, version 1\n",
      "           x        Q2       ct14llo    my_ct14llo  relative_diff\n",
      "0   0.000010      10.0  4.560628e+01  4.559560e+01       0.000234\n",
      "1   0.000173      10.0  2.185377e+01  2.184884e+01       0.000225\n",
      "2   0.003000      10.0  8.734759e+00  8.732856e+00       0.000218\n",
      "3   0.051962      10.0  1.873738e+00  1.874169e+00      -0.000230\n",
      "4   0.900000      10.0  4.278472e-05  4.346894e-05      -0.015992\n",
      "5   0.000010     100.0  1.288848e+02  1.287965e+02       0.000685\n",
      "6   0.000173     100.0  4.661146e+01  4.657867e+01       0.000703\n",
      "7   0.003000     100.0  1.323922e+01  1.322967e+01       0.000721\n",
      "8   0.051962     100.0  1.978974e+00  1.979055e+00      -0.000041\n",
      "9   0.900000     100.0  7.121784e-06  7.245044e-06      -0.017308\n",
      "10  0.000010    1000.0  2.272552e+02  2.270758e+02       0.000790\n",
      "11  0.000173    1000.0  6.959939e+01  6.954205e+01       0.000824\n",
      "12  0.003000    1000.0  1.620144e+01  1.618786e+01       0.000838\n",
      "13  0.051962    1000.0  1.924501e+00  1.924600e+00      -0.000051\n",
      "14  0.900000    1000.0  2.135864e-06  2.175017e-06      -0.018331\n",
      "15  0.000010   10000.0  3.314097e+02  3.311450e+02       0.000799\n",
      "16  0.000173   10000.0  9.023010e+01  9.015575e+01       0.000824\n",
      "17  0.003000   10000.0  1.825934e+01  1.824477e+01       0.000798\n",
      "18  0.051962   10000.0  1.830992e+00  1.831291e+00      -0.000163\n",
      "19  0.900000   10000.0  9.288458e-07  9.463689e-07      -0.018866\n",
      "20  0.000010  100000.0  4.363142e+02  4.359699e+02       0.000789\n",
      "21  0.000173  100000.0  1.085159e+02  1.084286e+02       0.000804\n",
      "22  0.003000  100000.0  1.972432e+01  1.970961e+01       0.000746\n",
      "23  0.051962  100000.0  1.730267e+00  1.730707e+00      -0.000254\n",
      "24  0.900000  100000.0  5.051592e-07  5.156517e-07      -0.020771\n"
     ]
    }
   ],
   "source": [
    "import pandas as pd\n",
    "\n",
    "# load evolved pdf\n",
    "my_ct14llo = lhapdf.mkPDF(\"my_ct14llo\", 0)\n",
    "\n",
    "pid = 21 # gluon pid\n",
    "\n",
    "# collect data\n",
    "log = {\"x\": [], \"Q2\" : [],  \"ct14llo\": [], \"my_ct14llo\": [], \"relative_diff\": []} \n",
    "for q2 in np.geomspace(10., 1e5, 5):\n",
    "    for x in np.geomspace(1e-5, 0.9, 5):\n",
    "        value = ct14llo.xfxQ2(pid, x, q2)\n",
    "        my_value =  my_ct14llo.xfxQ2(pid, x, q2)\n",
    "        log[\"x\"].append(x)\n",
    "        log[\"Q2\"].append(q2)\n",
    "        log[\"ct14llo\"].append(value)\n",
    "        log[\"my_ct14llo\"].append(my_value)\n",
    "        log[\"relative_diff\"].append((value - my_value) / value)\n",
    "\n",
    "print(pd.DataFrame(log))"
   ]
  },
  {
   "cell_type": "markdown",
   "id": "6805c26d",
   "metadata": {},
   "source": [
    "As you can see EKO is able to reproduce the numbers from the original LHAPDF grid mostly below the permille level.\n",
    "\n",
    "The accuracy is mainly limited by the number of points in the `x` and `Q2` grids that can be finer to achieve higher precision.\n",
    "\n",
    "You can also notice that at large-x the gluon pdf vanishes so the worst accuracy of our benchmark is not worrying at all. "
   ]
  }
 ],
 "metadata": {
  "kernelspec": {
   "display_name": "eko-KkPVjVhh-py3.10",
   "language": "python",
   "name": "eko-kkpvjvhh-py3.10"
  },
  "language_info": {
   "codemirror_mode": {
    "name": "ipython",
    "version": 3
   },
   "file_extension": ".py",
   "mimetype": "text/x-python",
   "name": "python",
   "nbconvert_exporter": "python",
   "pygments_lexer": "ipython3",
   "version": "3.10.5"
  },
  "vscode": {
   "interpreter": {
    "hash": "7e472fcaae86e99be842e6a461f25738bfe926fddef76aeba76e9314d132dd8f"
   }
  }
 },
 "nbformat": 4,
 "nbformat_minor": 5
}
