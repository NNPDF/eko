{
 "cells": [
  {
   "cell_type": "markdown",
   "id": "6a4ccad5-2d9d-44ae-802f-455a9cc17c05",
   "metadata": {},
   "source": [
    "# Evolving a PDF"
   ]
  },
  {
   "cell_type": "code",
   "execution_count": 1,
   "id": "6e722df7-60a9-4462-ae3d-8dec615af404",
   "metadata": {},
   "outputs": [],
   "source": [
    "import eko"
   ]
  },
  {
   "cell_type": "markdown",
   "id": "2d2fcc5d-abe9-44b4-ba29-65346f8a9be6",
   "metadata": {},
   "source": [
    "Again, we need to recompute the operator, since we didn't save it."
   ]
  },
  {
   "cell_type": "code",
   "execution_count": 2,
   "id": "920d2a1d-dfa9-42b4-9ae0-5902f4549d26",
   "metadata": {},
   "outputs": [],
   "source": [
    "from banana.data.theories import default_card as th_card\n",
    "from ekomark.data.operators import default_card as op_card\n",
    "\n",
    "# here we replace the grid with a very minimal one, to speed up the example\n",
    "op_card[\"interpolation_xgrid\"] = [1e-3, 1e-2, 1e-1, 5e-1, 1.]\n",
    "# let's compute two operators: one reaching up to Q2=100 GeV^2 and a second reaching up to Q2=10000 GeV^2\n",
    "op_card[\"Q2grid\"] = [100., 10000.]\n",
    "evolution_operator = eko.run_dglap(th_card, op_card)"
   ]
  },
  {
   "cell_type": "markdown",
   "id": "23fcf9a1-f18a-4178-8b67-062df92abbdc",
   "metadata": {},
   "source": [
    "Next, we need to load the PDF that we want to evolve. EKO uses the same interface as lhapdf to query for the actual values of PDFs. However, for the scope of this tutorial we want to avoid the complication of dealing with an external dependency. Therefore we will use the toy PDFs as they were established by the Les Houches benchmark setting."
   ]
  },
  {
   "cell_type": "code",
   "execution_count": 3,
   "id": "8bd8824b-de64-491f-b279-3ffaed97a6d9",
   "metadata": {},
   "outputs": [],
   "source": [
    "from banana import toy\n",
    "pdf = toy.mkPDF(\"\",0)"
   ]
  },
  {
   "cell_type": "markdown",
   "id": "5de940ea-1dbe-455c-91ae-274b26de62b1",
   "metadata": {},
   "source": [
    "Now, we have all ingredients at hand to evolve the PDF set with the operator:"
   ]
  },
  {
   "cell_type": "code",
   "execution_count": 4,
   "id": "e110fe95-7f57-4b09-a224-ab66da5d7d64",
   "metadata": {},
   "outputs": [],
   "source": [
    "from ekomark.apply import apply_pdf\n",
    "evolved_pdfs = apply_pdf(evolution_operator, pdf)"
   ]
  },
  {
   "cell_type": "markdown",
   "id": "0c2e752c-4a7c-4e2a-bd97-94f54907184a",
   "metadata": {},
   "source": [
    "The returned object `evolved_pdfs` is a dictionary which maps the requested final scales onto further dictionaries:"
   ]
  },
  {
   "cell_type": "code",
   "execution_count": 5,
   "id": "74ddb375-82a6-449f-984d-171ad315ef3e",
   "metadata": {},
   "outputs": [
    {
     "data": {
      "text/plain": [
       "dict_keys([100.0, 10000.0])"
      ]
     },
     "execution_count": 5,
     "metadata": {},
     "output_type": "execute_result"
    }
   ],
   "source": [
    "evolved_pdfs.keys()"
   ]
  },
  {
   "cell_type": "markdown",
   "id": "0ddf91bb-bc2c-4833-b624-32c5ac2d717a",
   "metadata": {},
   "source": [
    "Each final scale contains a dictionary with a key `pdfs`, where all PDF values are hold, and a key `errors` , where the integration errors are hold.\n",
    "Finally, inside each of those there is a mapping of Monte Carlo particle identifiers onto a the PDF value at the requested interpolation points.\n",
    "\n",
    "E.g. to access the gluon PDF at `Q^2 = 100 GeV^2` you can run:"
   ]
  },
  {
   "cell_type": "code",
   "execution_count": 6,
   "id": "6cab9fd1-f4c0-4fc4-aad8-6b6a6b91340c",
   "metadata": {},
   "outputs": [
    {
     "data": {
      "text/plain": [
       "array([ 2.17034797e+04,  3.40247532e+02,  6.64325189e+01, -2.09652559e+01,\n",
       "        0.00000000e+00])"
      ]
     },
     "execution_count": 6,
     "metadata": {},
     "output_type": "execute_result"
    }
   ],
   "source": [
    "evolved_pdfs[100.0][\"pdfs\"][21]"
   ]
  },
  {
   "cell_type": "markdown",
   "id": "ead0923f-d7b7-4ce2-afba-3300c72c467a",
   "metadata": {},
   "source": [
    "Note that we return the actual PDF and not the momentum fraction times the PDF."
   ]
  }
 ],
 "metadata": {
  "kernelspec": {
   "display_name": "eko-KkPVjVhh-py3.10",
   "language": "python",
   "name": "eko-kkpvjvhh-py3.10"
  },
  "language_info": {
   "codemirror_mode": {
    "name": "ipython",
    "version": 3
   },
   "file_extension": ".py",
   "mimetype": "text/x-python",
   "name": "python",
   "nbconvert_exporter": "python",
   "pygments_lexer": "ipython3",
   "version": "3.10.5"
  }
 },
 "nbformat": 4,
 "nbformat_minor": 5
}
