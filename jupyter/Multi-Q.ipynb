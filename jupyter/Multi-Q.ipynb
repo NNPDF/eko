{
 "cells": [
  {
   "cell_type": "markdown",
   "metadata": {},
   "source": [
    "## Tests for the implementation of the multi-$Q^2$ kernel evolution\n",
    "\n",
    "The return state of the dglap evolution should be a matrix not only in $x$ and flavour (as it is the case at the moment) but also on $Q^2$.\n",
    "\n",
    "The goals are:\n",
    "\n",
    "1. Minimize the amount of numba compilation. i.e., make sure we don't repeat calculations.\n",
    "2. Parallelize the computation of the different values of $Q^2$ on the CPU.\n",
    "\n",
    "Extra for the future:\n",
    "- Compile the numba code into a GPU so the grid of $Q^2$ is computed on a GPU."
   ]
  },
  {
   "cell_type": "code",
   "execution_count": 1,
   "metadata": {},
   "outputs": [],
   "source": [
    "%load_ext autoreload\n",
    "%autoreload 2\n",
    "import logging\n",
    "import numpy as np\n",
    "import json\n",
    "import eko.dglap as dglap\n",
    "import eko.interpolation as interpolation\n",
    "save_json = False"
   ]
  },
  {
   "cell_type": "code",
   "execution_count": 2,
   "metadata": {},
   "outputs": [],
   "source": [
    "# Compute the input parameters\n",
    "xgrid_low = interpolation.get_xgrid_linear_at_log(35,1e-7,0.1)\n",
    "xgrid_mid = interpolation.get_xgrid_linear_at_id(15,0.1,0.95)\n",
    "xgrid_high = 1.0-interpolation.get_xgrid_linear_at_log(5,1e-3,1.0 - 0.95)\n",
    "xgrid = np.unique(np.concatenate((xgrid_low,xgrid_mid,xgrid_high)))\n",
    "toy_xgrid = np.array([1e-7,1e-6,1e-5,1e-4,1e-3,1e-2,.1,.3,.5,.7,.9])\n",
    "polynom_rank = 4\n",
    "Qref = np.sqrt(2)\n",
    "Q0 = np.sqrt(2)\n",
    "nf = 4"
   ]
  },
  {
   "cell_type": "code",
   "execution_count": 3,
   "metadata": {},
   "outputs": [
    {
     "name": "stdout",
     "output_type": "stream",
     "text": [
      "CPU times: user 3min 22s, sys: 262 ms, total: 3min 22s\n",
      "Wall time: 3min 22s\n"
     ]
    }
   ],
   "source": [
    "%%time\n",
    "if save_json:\n",
    "    ret1 = dglap.run_dglap({\n",
    "        \"PTO\": 0,\n",
    "        'alphas': 0.35,\n",
    "        'Qref': Qref,\n",
    "        'Q0': Q0,\n",
    "        'NfFF': nf,\n",
    "\n",
    "        \"xgrid_type\": \"custom\",\n",
    "        \"xgrid\": xgrid,\n",
    "        \"xgrid_polynom_rank\": polynom_rank,\n",
    "        \"log_interpol\": True,\n",
    "        \"targetgrid\": toy_xgrid,\n",
    "        \"Q2grid\": [1e4]\n",
    "    })"
   ]
  },
  {
   "cell_type": "code",
   "execution_count": 4,
   "metadata": {},
   "outputs": [],
   "source": [
    "#Save/load the operator to/from a json file\n",
    "if save_json:\n",
    "    class NumpyEncoder(json.JSONEncoder):\n",
    "        def default(self, obj):\n",
    "            if isinstance(obj, np.ndarray):\n",
    "                return obj.tolist()\n",
    "            return json.JSONEncoder.default(self, obj)\n",
    "    f = open('operators.json', 'w')\n",
    "    json.dump(ret1[\"operators\"], f, cls = NumpyEncoder)\n",
    "    f.close()\n",
    "else:\n",
    "    f = open('operators.json', 'r')\n",
    "    ret_backup = json.load(f)\n",
    "    f.close()"
   ]
  },
  {
   "cell_type": "markdown",
   "metadata": {},
   "source": [
    "In this first try we join the compute_singlet and compute_nonsinglet functions"
   ]
  },
  {
   "cell_type": "code",
   "execution_count": 34,
   "metadata": {},
   "outputs": [
    {
     "name": "stdout",
     "output_type": "stream",
     "text": [
      "CPU times: user 4min 26s, sys: 160 ms, total: 4min 26s\n",
      "Wall time: 4min 26s\n"
     ]
    }
   ],
   "source": [
    "%%time\n",
    "if True:\n",
    "    ret2 = dglap.run_dglap({\n",
    "        \"PTO\": 0,\n",
    "        'alphas': 0.35,\n",
    "        'Qref': Qref,\n",
    "        'Q0': Q0,\n",
    "        'NfFF': nf,\n",
    "\n",
    "        \"xgrid_type\": \"custom\",\n",
    "        \"xgrid\": xgrid,\n",
    "        \"xgrid_polynom_rank\": polynom_rank,\n",
    "        \"log_interpol\": True,\n",
    "        \"targetgrid\": toy_xgrid,\n",
    "        \"Q2grid\": [1e4, 1e3]\n",
    "    })"
   ]
  },
  {
   "cell_type": "code",
   "execution_count": 35,
   "metadata": {},
   "outputs": [
    {
     "ename": "AssertionError",
     "evalue": "\nNot equal to tolerance rtol=1e-07, atol=0\n\n(shapes (11, 53), (53, 2) mismatch)\n x: array([[ 2.397777e-01,  6.202700e-01,  1.458833e-01,  3.188619e-01,\n         2.325961e-01,  2.403561e-01,  2.443478e-01,  2.525981e-01,\n         2.637448e-01,  2.770078e-01,  2.919232e-01,  3.082088e-01,...\n y: array([[ 2.397777e-01,  2.897303e-01],\n       [ 6.202700e-01,  6.193865e-01],\n       [ 1.458833e-01,  8.031964e-02],...",
     "output_type": "error",
     "traceback": [
      "\u001b[0;31m--------------------------------\u001b[0m",
      "\u001b[0;31mAssertionError\u001b[0mTraceback (most recent call last)",
      "\u001b[0;32m<ipython-input-35-ee7aa27faffc>\u001b[0m in \u001b[0;36m<module>\u001b[0;34m\u001b[0m\n\u001b[1;32m      1\u001b[0m \u001b[0;32mfor\u001b[0m \u001b[0mkey\u001b[0m\u001b[0;34m,\u001b[0m \u001b[0mitems\u001b[0m \u001b[0;32min\u001b[0m \u001b[0mret1\u001b[0m\u001b[0;34m[\u001b[0m\u001b[0;34m\"operators\"\u001b[0m\u001b[0;34m]\u001b[0m\u001b[0;34m.\u001b[0m\u001b[0mitems\u001b[0m\u001b[0;34m(\u001b[0m\u001b[0;34m)\u001b[0m\u001b[0;34m:\u001b[0m\u001b[0;34m\u001b[0m\u001b[0;34m\u001b[0m\u001b[0m\n\u001b[1;32m      2\u001b[0m     \u001b[0mir2\u001b[0m \u001b[0;34m=\u001b[0m \u001b[0mret2\u001b[0m\u001b[0;34m[\u001b[0m\u001b[0;34m\"operators\"\u001b[0m\u001b[0;34m]\u001b[0m\u001b[0;34m[\u001b[0m\u001b[0mkey\u001b[0m\u001b[0;34m]\u001b[0m\u001b[0;34m[\u001b[0m\u001b[0;36m0\u001b[0m\u001b[0;34m,\u001b[0m\u001b[0;34m:\u001b[0m\u001b[0;34m,\u001b[0m\u001b[0;34m:\u001b[0m\u001b[0;34m]\u001b[0m\u001b[0;34m\u001b[0m\u001b[0;34m\u001b[0m\u001b[0m\n\u001b[0;32m----> 3\u001b[0;31m     \u001b[0mnp\u001b[0m\u001b[0;34m.\u001b[0m\u001b[0mtesting\u001b[0m\u001b[0;34m.\u001b[0m\u001b[0massert_allclose\u001b[0m\u001b[0;34m(\u001b[0m\u001b[0mitems\u001b[0m\u001b[0;34m,\u001b[0m \u001b[0mir2\u001b[0m\u001b[0;34m)\u001b[0m\u001b[0;34m\u001b[0m\u001b[0;34m\u001b[0m\u001b[0m\n\u001b[0m",
      "\u001b[0;32m/usr/lib/python3.8/site-packages/numpy/testing/_private/utils.py\u001b[0m in \u001b[0;36massert_allclose\u001b[0;34m(actual, desired, rtol, atol, equal_nan, err_msg, verbose)\u001b[0m\n\u001b[1;32m   1512\u001b[0m     \u001b[0mactual\u001b[0m\u001b[0;34m,\u001b[0m \u001b[0mdesired\u001b[0m \u001b[0;34m=\u001b[0m \u001b[0mnp\u001b[0m\u001b[0;34m.\u001b[0m\u001b[0masanyarray\u001b[0m\u001b[0;34m(\u001b[0m\u001b[0mactual\u001b[0m\u001b[0;34m)\u001b[0m\u001b[0;34m,\u001b[0m \u001b[0mnp\u001b[0m\u001b[0;34m.\u001b[0m\u001b[0masanyarray\u001b[0m\u001b[0;34m(\u001b[0m\u001b[0mdesired\u001b[0m\u001b[0;34m)\u001b[0m\u001b[0;34m\u001b[0m\u001b[0;34m\u001b[0m\u001b[0m\n\u001b[1;32m   1513\u001b[0m     \u001b[0mheader\u001b[0m \u001b[0;34m=\u001b[0m \u001b[0;34m'Not equal to tolerance rtol=%g, atol=%g'\u001b[0m \u001b[0;34m%\u001b[0m \u001b[0;34m(\u001b[0m\u001b[0mrtol\u001b[0m\u001b[0;34m,\u001b[0m \u001b[0matol\u001b[0m\u001b[0;34m)\u001b[0m\u001b[0;34m\u001b[0m\u001b[0;34m\u001b[0m\u001b[0m\n\u001b[0;32m-> 1514\u001b[0;31m     assert_array_compare(compare, actual, desired, err_msg=str(err_msg),\n\u001b[0m\u001b[1;32m   1515\u001b[0m                          verbose=verbose, header=header, equal_nan=equal_nan)\n\u001b[1;32m   1516\u001b[0m \u001b[0;34m\u001b[0m\u001b[0m\n",
      "\u001b[0;32m/usr/lib/python3.8/site-packages/numpy/testing/_private/utils.py\u001b[0m in \u001b[0;36massert_array_compare\u001b[0;34m(comparison, x, y, err_msg, verbose, header, precision, equal_nan, equal_inf)\u001b[0m\n\u001b[1;32m    762\u001b[0m                                 \u001b[0mverbose\u001b[0m\u001b[0;34m=\u001b[0m\u001b[0mverbose\u001b[0m\u001b[0;34m,\u001b[0m \u001b[0mheader\u001b[0m\u001b[0;34m=\u001b[0m\u001b[0mheader\u001b[0m\u001b[0;34m,\u001b[0m\u001b[0;34m\u001b[0m\u001b[0;34m\u001b[0m\u001b[0m\n\u001b[1;32m    763\u001b[0m                                 names=('x', 'y'), precision=precision)\n\u001b[0;32m--> 764\u001b[0;31m             \u001b[0;32mraise\u001b[0m \u001b[0mAssertionError\u001b[0m\u001b[0;34m(\u001b[0m\u001b[0mmsg\u001b[0m\u001b[0;34m)\u001b[0m\u001b[0;34m\u001b[0m\u001b[0;34m\u001b[0m\u001b[0m\n\u001b[0m\u001b[1;32m    765\u001b[0m \u001b[0;34m\u001b[0m\u001b[0m\n\u001b[1;32m    766\u001b[0m         \u001b[0mflagged\u001b[0m \u001b[0;34m=\u001b[0m \u001b[0mbool_\u001b[0m\u001b[0;34m(\u001b[0m\u001b[0;32mFalse\u001b[0m\u001b[0;34m)\u001b[0m\u001b[0;34m\u001b[0m\u001b[0;34m\u001b[0m\u001b[0m\n",
      "\u001b[0;31mAssertionError\u001b[0m: \nNot equal to tolerance rtol=1e-07, atol=0\n\n(shapes (11, 53), (53, 2) mismatch)\n x: array([[ 2.397777e-01,  6.202700e-01,  1.458833e-01,  3.188619e-01,\n         2.325961e-01,  2.403561e-01,  2.443478e-01,  2.525981e-01,\n         2.637448e-01,  2.770078e-01,  2.919232e-01,  3.082088e-01,...\n y: array([[ 2.397777e-01,  2.897303e-01],\n       [ 6.202700e-01,  6.193865e-01],\n       [ 1.458833e-01,  8.031964e-02],..."
     ]
    }
   ],
   "source": [
    "for key, items in ret1[\"operators\"].items():\n",
    "    ir2 = ret2[\"operators\"][key][0,:,:]\n",
    "    np.testing.assert_allclose(items, ir2)"
   ]
  },
  {
   "cell_type": "code",
   "execution_count": null,
   "metadata": {},
   "outputs": [],
   "source": []
  }
 ],
 "metadata": {
  "kernelspec": {
   "display_name": "ekovortex",
   "language": "python",
   "name": "ekovortex"
  },
  "language_info": {
   "codemirror_mode": {
    "name": "ipython",
    "version": 3
   },
   "file_extension": ".py",
   "mimetype": "text/x-python",
   "name": "python",
   "nbconvert_exporter": "python",
   "pygments_lexer": "ipython3",
   "version": "3.8.0"
  }
 },
 "nbformat": 4,
 "nbformat_minor": 2
}
