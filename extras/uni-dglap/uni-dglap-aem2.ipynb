{
 "cells": [
  {
   "cell_type": "code",
   "execution_count": 2,
   "id": "c093db3d",
   "metadata": {},
   "outputs": [],
   "source": [
    "import sympy"
   ]
  },
  {
   "cell_type": "code",
   "execution_count": 3,
   "id": "66408b17",
   "metadata": {},
   "outputs": [],
   "source": [
    "# QCD\n",
    "Pv, Pp, Pm, Pqq, Pqg, Pgq, Pgg = sympy.symbols(\"P_V P_+ P_- P_qq P_qg P_gq P_gg\")\n",
    "# QED\n",
    "Pxv, Pxp, Pxpu, Pxpd, Pxm, Pxmu, Pxmd, Pxqq, Pxqg, Pxgq, Pxgg = sympy.symbols(\"P^x_V P^x_+ P^x_+u P^x_+d P^x_- P^x_-u P^x_-d P^x_qq P^x_qg P^x_gq P^x_gg\")\n",
    "Pxqy, Pxuy, Pxdy, Pxyq, Pxyu, Pxyd, Pxyg, Pxgy, Pxyy = sympy.symbols(\"P^x_q\\gamma P^x_u\\gamma P^x_d\\gamma P^x_\\gamma\\ q P^x_\\gamma\\ u P^x_\\gamma\\ d P^x_\\gamma\\ g P^x_g\\gamma P^x_\\gamma\\gamma\")\n",
    "eu2, ed2, es2 = sympy.symbols(\"e_u^2 e_d^2 e_\\Sigma^2\") # charges\n",
    "eu4, ed4 = sympy.symbols(\"e_u^4 e_d^4\") # charges"
   ]
  },
  {
   "cell_type": "code",
   "execution_count": 4,
   "id": "558d64a5",
   "metadata": {},
   "outputs": [],
   "source": [
    "P = {}\n",
    "ns, s, qed, qcd = \"ns\", \"s\", \"qed\", \"qcd\"\n",
    "P[ns, qcd] = sympy.Array.zeros(14,14).as_mutable()\n",
    "P[ns, qed] = sympy.Array.zeros(14,14).as_mutable()\n",
    "P[s, qcd] =  sympy.Array.zeros(14,14).as_mutable()\n",
    "P[s, qed] =  sympy.Array.zeros(14,14).as_mutable()\n",
    "\n",
    "ei2=[eu2, ed2, ed2, eu2, ed2, eu2]\n",
    "ei4=[eu4, ed4, ed4, eu4, ed4, eu4]\n",
    "def es2_(nf):\n",
    "    nu = int(nf/2)\n",
    "    nd = nf - nu\n",
    "    return nu*eu2 + nd*ed2\n",
    "\n",
    "def es4_(nf):\n",
    "    nu = int(nf/2)\n",
    "    nd = nf - nu\n",
    "    return nu*eu4 + nd*ed4\n",
    "\n",
    "def P_qcd(nf):\n",
    "    res = sympy.Matrix.zeros(14,14).as_mutable()\n",
    "    res[0, 0]=Pgg\n",
    "    for i in range(1, nf+1):\n",
    "        res[0, 2*i] = Pgq #g q+\n",
    "        res[2*i, 0] = 2 * Pqg #q+ g\n",
    "        res[2*i,2*i] = Pp #q+ q+\n",
    "        res[1 + 2*i,1 + 2*i] = Pm #q- q-\n",
    "    return res\n",
    "\n",
    "def P_qed(nf):\n",
    "    es2=es2_(nf)\n",
    "    es4=es4_(nf)\n",
    "    res = sympy.Matrix.zeros(14,14).as_mutable()\n",
    "    res[0, 0]=es2*Pxgg\n",
    "    res[1, 1]=Pxyy #the factor es2 ar O(aem1) and O(as1aem1) and the factor es4 at O(aem2) are inside Pxyy\n",
    "    res[0, 1]=es2*Pxgy\n",
    "    res[1, 0]=es2*Pxyg\n",
    "    for i in [1, 4, 6]:\n",
    "        if i <= nf:\n",
    "            res[0, 2*i] = ei2[i-1]*Pxgq\n",
    "            res[2*i, 0] = 2*ei2[i-1]*Pxqg\n",
    "            res[1, 2*i] = ei2[i-1]*Pxyu #a factor of eu^2 at O(aem2) is inside Pxyu\n",
    "            res[2*i, 1] = 2*ei2[i-1]*Pxuy #a factor of eu^2 at O(aem2) is inside Pxuy\n",
    "            res[2*i,2*i] = ei2[i-1]*Pxpu #a factor of eu^2 at O(aem2) is inside Pxpu\n",
    "            res[1 + 2*i,1 + 2*i] = ei2[i-1]*Pxmu #a factor of eu^2 at O(aem2) is inside Pxmu\n",
    "    for i in [2, 3, 5]:\n",
    "        if i <= nf:\n",
    "            res[0, 2*i] = ei2[i-1]*Pxgq\n",
    "            res[2*i, 0] = 2*ei2[i-1]*Pxqg\n",
    "            res[1, 2*i] = ei2[i-1]*Pxyd #a factor of ed^2 at O(aem2) is inside Pxyd\n",
    "            res[2*i, 1] = 2*ei2[i-1]*Pxdy #a factor of ed^2 at O(aem2) is inside Pxdy\n",
    "            res[2*i,2*i] = ei2[i-1]*Pxpd #a factor of ed^2 at O(aem2) is inside Pxpd\n",
    "            res[1 + 2*i,1 + 2*i] = ei2[i-1]*Pxmd #a factor of ed^2 at O(aem2) is inside Pxmd\n",
    "    return res\n",
    "\n",
    "def Ps_qcd(nf):\n",
    "    res = sympy.Matrix.zeros(14,14).as_mutable()\n",
    "    for i in range(1, nf+1):\n",
    "        res[2*i, 2] = Pqq - Pp\n",
    "        res[2*i, 3] = Pqq - Pp\n",
    "        res[1 + 2*i, 4] = Pv - Pm\n",
    "        res[1 + 2*i, 5] = Pv - Pm\n",
    "    return res/nf\n",
    "\n",
    "def Ps_qed(nf):\n",
    "    res = sympy.Matrix.zeros(14,14).as_mutable()\n",
    "    for i in range(1, nf+1):\n",
    "        res[2*i, 2] = ei2[i-1]*eu2*(Pxqq - Pxp)\n",
    "        res[2*i, 3] = ei2[i-1]*ed2*(Pxqq - Pxp)\n",
    "    return res/nf\n",
    "\n",
    "def P_uni(nf):\n",
    "    return P_qcd(nf)+P_qed(nf)\n",
    "\n",
    "def Ps_uni(nf):\n",
    "    return Ps_qcd(nf)+Ps_qed(nf)"
   ]
  },
  {
   "cell_type": "code",
   "execution_count": 5,
   "id": "58ce83af",
   "metadata": {},
   "outputs": [],
   "source": [
    "def rot_fl_to_ev(nf):\n",
    "    nu = int(nf/2)\n",
    "    nd = nf - nu\n",
    "    res = sympy.Matrix.zeros(14,14).as_mutable()\n",
    "    res[0, 0]=1\n",
    "    res[1, 1]=1\n",
    "    for i in range(2 + 2*nf, 14): \n",
    "        res[i,i] = 1\n",
    "    for i in range(1,nf+1): #Sigma and V\n",
    "        res[2, 2*i] = 1\n",
    "        res[4, 1 + 2*i] = 1\n",
    "    for i in [1, 4, 6]:#loop on up quarks\n",
    "        if i <= nf:\n",
    "            res[3, 2*i] = nd/nu\n",
    "            res[5,1 + 2*i] = nd/nu\n",
    "    for i in [2, 3, 5]:#loop on down quarks\n",
    "        if i <= nf:\n",
    "            res[3, 2*i] = -1\n",
    "            res[5, 1 + 2*i] = -1\n",
    "    if nf >= 3 :\n",
    "        res[6, 4] = 1\n",
    "        res[6, 6] = -1\n",
    "        res[7, 5] = 1\n",
    "        res[7, 7] = -1\n",
    "    if nf >= 4 :\n",
    "        res[8, 2] = 1\n",
    "        res[8, 8] = -1\n",
    "        res[9, 3] = 1\n",
    "        res[9, 9] = -1\n",
    "    if nf >= 5 :\n",
    "        res[10, 4] = 1\n",
    "        res[10, 6] = 1\n",
    "        res[10, 10] = -2\n",
    "        res[11, 5] = 1\n",
    "        res[11, 7] = 1\n",
    "        res[11, 11] = -2\n",
    "    if nf == 6 :\n",
    "        res[12, 2] = 1\n",
    "        res[12, 8] = 1\n",
    "        res[12, 12] = -2\n",
    "        res[13, 3] = 1\n",
    "        res[13, 9] = 1\n",
    "        res[13, 13] = -2\n",
    "    return res\n",
    "\n",
    "def rot_ev_to_fl(nf):\n",
    "    return rot_fl_to_ev(nf).inv()"
   ]
  },
  {
   "cell_type": "code",
   "execution_count": 8,
   "id": "28585067",
   "metadata": {},
   "outputs": [],
   "source": [
    "def rot_sin_to_ev(nf):\n",
    "    nu = int(nf/2)\n",
    "    nd = nf - nu\n",
    "    res = sympy.Matrix.zeros(14,14).as_mutable()\n",
    "    res[0, 0]=1\n",
    "    res[1, 1]=1\n",
    "    res[2,2]=1\n",
    "    res[2,3]=1\n",
    "    res[3,2]=nd/nu\n",
    "    res[3,3]=-1\n",
    "    res[4,4]=1\n",
    "    res[4,5]=1\n",
    "    res[5,4]=nd/nu\n",
    "    res[5,5]=-1\n",
    "    for i in range(6,14):\n",
    "        res[i,i]=1\n",
    "    return res\n",
    "\n",
    "def rot_ev_to_sin(nf):\n",
    "    return rot_sin_to_ev(nf).inv()"
   ]
  },
  {
   "cell_type": "code",
   "execution_count": 9,
   "id": "a0c9e31d",
   "metadata": {},
   "outputs": [],
   "source": [
    "def P_ev(nf):\n",
    "    res = rot_fl_to_ev(nf) * P_uni(nf) * rot_ev_to_fl(nf) + rot_fl_to_ev(nf) * Ps_uni(nf) * rot_ev_to_sin(nf)\n",
    "    return res\n",
    "\n",
    "def P_ev_sing(nf):\n",
    "    return P_ev(nf)[:4,:4]\n",
    "\n",
    "def P_ev_val(nf):\n",
    "    return P_ev(nf)[4:6,4:6]"
   ]
  },
  {
   "cell_type": "code",
   "execution_count": 11,
   "id": "75bfa63a",
   "metadata": {},
   "outputs": [
    {
     "data": {
      "text/latex": [
       "$\\displaystyle \\left[\\begin{matrix}P^{x}_{gg} \\left(3 e^{2}_{d} + 3 e^{2}_{u}\\right) + P_{gg} & P^{x}_{g\\gamma} \\left(3 e^{2}_{d} + 3 e^{2}_{u}\\right) & 0.5 P^{x}_{gq} e^{2}_{d} + 0.5 P^{x}_{gq} e^{2}_{u} + 1.0 P_{gq} & - 0.5 P^{x}_{gq} e^{2}_{d} + 0.5 P^{x}_{gq} e^{2}_{u}\\\\P^{x}_{\\gamma g} \\left(3 e^{2}_{d} + 3 e^{2}_{u}\\right) & P^{x}_{\\gamma\\gamma} & 0.5 P^{x}_{\\gamma d} e^{2}_{d} + 0.5 P^{x}_{\\gamma u} e^{2}_{u} & - 0.5 P^{x}_{\\gamma d} e^{2}_{d} + 0.5 P^{x}_{\\gamma u} e^{2}_{u}\\\\6 P^{x}_{qg} e^{2}_{d} + 6 P^{x}_{qg} e^{2}_{u} + 12 P_{qg} & 6 P^{x}_{d\\gamma} e^{2}_{d} + 6 P^{x}_{u\\gamma} e^{2}_{u} & 0.5 P^{x}_{+d} e^{2}_{d} + 0.5 P^{x}_{+u} e^{2}_{u} - 1.11022302462516 \\cdot 10^{-16} P_{+} + 1.0 P_{qq} + 0.25 \\left(e^{2}_{d}\\right)^{2} \\left(- P^{x}_{+} + P^{x}_{qq}\\right) + 0.5 e^{2}_{d} e^{2}_{u} \\left(- P^{x}_{+} + P^{x}_{qq}\\right) + 0.25 \\left(e^{2}_{u}\\right)^{2} \\left(- P^{x}_{+} + P^{x}_{qq}\\right) & - 0.5 P^{x}_{+d} e^{2}_{d} + 0.5 P^{x}_{+u} e^{2}_{u} - 0.25 \\left(e^{2}_{d}\\right)^{2} \\left(- P^{x}_{+} + P^{x}_{qq}\\right) + 0.25 \\left(e^{2}_{u}\\right)^{2} \\left(- P^{x}_{+} + P^{x}_{qq}\\right)\\\\- 6 P^{x}_{qg} e^{2}_{d} + 6.0 P^{x}_{qg} e^{2}_{u} & - 6 P^{x}_{d\\gamma} e^{2}_{d} + 6.0 P^{x}_{u\\gamma} e^{2}_{u} & - 0.5 P^{x}_{+d} e^{2}_{d} + 0.5 P^{x}_{+u} e^{2}_{u} - 0.25 \\left(e^{2}_{d}\\right)^{2} \\left(- P^{x}_{+} + P^{x}_{qq}\\right) + 0.25 \\left(e^{2}_{u}\\right)^{2} \\left(- P^{x}_{+} + P^{x}_{qq}\\right) & 0.5 P^{x}_{+d} e^{2}_{d} + 0.5 P^{x}_{+u} e^{2}_{u} + 1.0 P_{+} + 0.25 \\left(e^{2}_{d}\\right)^{2} \\left(- P^{x}_{+} + P^{x}_{qq}\\right) - 0.5 e^{2}_{d} e^{2}_{u} \\left(- P^{x}_{+} + P^{x}_{qq}\\right) + 0.25 \\left(e^{2}_{u}\\right)^{2} \\left(- P^{x}_{+} + P^{x}_{qq}\\right)\\end{matrix}\\right]$"
      ],
      "text/plain": [
       "Matrix([\n",
       "[        P^x_gg*(3*e_d^2 + 3*e_u^2) + P_gg,              P^x_g\\gamma*(3*e_d^2 + 3*e_u^2),                                                                                                                                    0.5*P^x_gq*e_d^2 + 0.5*P^x_gq*e_u^2 + 1.0*P_gq,                                                                                                                  -0.5*P^x_gq*e_d^2 + 0.5*P^x_gq*e_u^2],\n",
       "[         P^x_\\gamma g*(3*e_d^2 + 3*e_u^2),                             P^x_\\gamma\\gamma,                                                                                                                                   0.5*P^x_\\gamma d*e_d^2 + 0.5*P^x_\\gamma u*e_u^2,                                                                                                      -0.5*P^x_\\gamma d*e_d^2 + 0.5*P^x_\\gamma u*e_u^2],\n",
       "[6*P^x_qg*e_d^2 + 6*P^x_qg*e_u^2 + 12*P_qg,    6*P^x_d\\gamma*e_d^2 + 6*P^x_u\\gamma*e_u^2, 0.5*P^x_+d*e_d^2 + 0.5*P^x_+u*e_u^2 - 1.11022302462516e-16*P_+ + 1.0*P_qq + 0.25*e_d^2**2*(-P^x_+ + P^x_qq) + 0.5*e_d^2*e_u^2*(-P^x_+ + P^x_qq) + 0.25*e_u^2**2*(-P^x_+ + P^x_qq),                                              -0.5*P^x_+d*e_d^2 + 0.5*P^x_+u*e_u^2 - 0.25*e_d^2**2*(-P^x_+ + P^x_qq) + 0.25*e_u^2**2*(-P^x_+ + P^x_qq)],\n",
       "[       -6*P^x_qg*e_d^2 + 6.0*P^x_qg*e_u^2, -6*P^x_d\\gamma*e_d^2 + 6.0*P^x_u\\gamma*e_u^2,                                                                          -0.5*P^x_+d*e_d^2 + 0.5*P^x_+u*e_u^2 - 0.25*e_d^2**2*(-P^x_+ + P^x_qq) + 0.25*e_u^2**2*(-P^x_+ + P^x_qq), 0.5*P^x_+d*e_d^2 + 0.5*P^x_+u*e_u^2 + 1.0*P_+ + 0.25*e_d^2**2*(-P^x_+ + P^x_qq) - 0.5*e_d^2*e_u^2*(-P^x_+ + P^x_qq) + 0.25*e_u^2**2*(-P^x_+ + P^x_qq)]])"
      ]
     },
     "execution_count": 11,
     "metadata": {},
     "output_type": "execute_result"
    }
   ],
   "source": [
    "P_ev_sing(6)"
   ]
  },
  {
   "cell_type": "code",
   "execution_count": 24,
   "id": "5999a68e",
   "metadata": {},
   "outputs": [
    {
     "data": {
      "text/latex": [
       "$\\displaystyle \\left[\\begin{matrix}0.5 P^{x}_{-d} e^{2}_{d} + 0.5 P^{x}_{-u} e^{2}_{u} - 1.11022302462516 \\cdot 10^{-16} P_{-} + 1.0 P_{V} & - 0.5 P^{x}_{-d} e^{2}_{d} + 0.5 P^{x}_{-u} e^{2}_{u}\\\\- 0.5 P^{x}_{-d} e^{2}_{d} + 0.5 P^{x}_{-u} e^{2}_{u} & 0.5 P^{x}_{-d} e^{2}_{d} + 0.5 P^{x}_{-u} e^{2}_{u} + 1.0 P_{-}\\end{matrix}\\right]$"
      ],
      "text/plain": [
       "Matrix([\n",
       "[0.5*P^x_-d*e_d^2 + 0.5*P^x_-u*e_u^2 - 1.11022302462516e-16*P_- + 1.0*P_V,          -0.5*P^x_-d*e_d^2 + 0.5*P^x_-u*e_u^2],\n",
       "[                                    -0.5*P^x_-d*e_d^2 + 0.5*P^x_-u*e_u^2, 0.5*P^x_-d*e_d^2 + 0.5*P^x_-u*e_u^2 + 1.0*P_-]])"
      ]
     },
     "execution_count": 24,
     "metadata": {},
     "output_type": "execute_result"
    }
   ],
   "source": [
    "P_ev_val(6)"
   ]
  },
  {
   "cell_type": "code",
   "execution_count": 13,
   "id": "525487e1",
   "metadata": {},
   "outputs": [],
   "source": [
    "def eD2_(nf):\n",
    "    nu = int(nf/2)\n",
    "    nd = nf - nu\n",
    "    return nd*eu2 + nu*ed2\n",
    "def etam_(nf):\n",
    "    nu = int(nf/2)\n",
    "    nd = nf - nu\n",
    "    return 0.5*(eu2 - ed2)\n",
    "def P_ev_sing2(nf):\n",
    "    es2=es2_(nf)\n",
    "    eD2=eD2_(nf)\n",
    "    etam=etam_(nf)\n",
    "    nu = int(nf/2)\n",
    "    nd = nf - nu\n",
    "    res = sympy.Matrix([\n",
    "        [Pgg + es2 * Pxgg, es2 * Pxgy, Pgq + es2/nf*Pxgq, 2*nu/nf*etam*Pxgq],\n",
    "        [es2 * Pxyg, Pxyy, nu/nf*eu2*Pxyu + nd/nf*ed2*Pxyd, 2*nu/nf*0.5*(eu2*Pxyu-ed2*Pxyd)],\n",
    "        [2*nf*Pqg + 2*es2*Pxqg, 2*(nu*eu2*Pxuy+nd*ed2*Pxdy), Pqq + (nu*eu2*Pxpu+nd*ed2*Pxpd)/nf +(es2/nf)**2*(Pxqq - Pxp), 2*nu/nf*0.5*(eu2*Pxpu - ed2*Pxpd) +2*nu*etam*es2/nf**2*(Pxqq - Pxp)],\n",
    "        [4*nd*etam*Pxqg, 4*nd*0.5*(eu2*Pxuy - ed2*Pxdy), 2*nd/nf*0.5*(eu2*Pxpu - ed2*Pxpd) +2*nd*etam*es2/nf**2*(Pxqq - Pxp), Pp + (nd*eu2*Pxpu + nu*ed2*Pxpd)/nf + 4*nu*nd/nf**2*etam**2*(Pxqq - Pxp)]\n",
    "    ])\n",
    "    return res\n",
    "\n",
    "def P_ev_val2(nf):\n",
    "    nu = int(nf/2)\n",
    "    nd = nf - nu\n",
    "    res = sympy.Matrix([\n",
    "        [Pv+(nu*eu2*Pxmu+nd*ed2*Pxmd)/nf, 2*nu/nf*0.5*(eu2*Pxmu - ed2*Pxmd)],\n",
    "        [2*nd/nf*0.5*(eu2*Pxmu - ed2*Pxmd), Pm + (nd*eu2*Pxmu + nu*ed2*Pxmd)/nf]\n",
    "    ])\n",
    "    return res"
   ]
  },
  {
   "cell_type": "code",
   "execution_count": 20,
   "id": "cac66ba9",
   "metadata": {},
   "outputs": [
    {
     "data": {
      "text/latex": [
       "$\\displaystyle \\left[\\begin{matrix}0 & 0 & 8.88178419700125 \\cdot 10^{-17} P^{x}_{gq} e^{2}_{d} & 2.77555756156289 \\cdot 10^{-17} P_{gq}\\\\0 & 0 & 1.11022302462516 \\cdot 10^{-16} P^{x}_{\\gamma d} e^{2}_{d} & 0\\\\0 & 0 & - 3.5527136788005 \\cdot 10^{-17} P^{x}_{+} \\left(e^{2}_{u}\\right)^{2} + 1.11022302462516 \\cdot 10^{-16} P^{x}_{+d} e^{2}_{d} + 3.5527136788005 \\cdot 10^{-17} P^{x}_{qq} \\left(e^{2}_{u}\\right)^{2} & 3.5527136788005 \\cdot 10^{-17} P^{x}_{+} e^{2}_{d} e^{2}_{u} - 3.5527136788005 \\cdot 10^{-17} P^{x}_{+} \\left(e^{2}_{u}\\right)^{2} - 3.5527136788005 \\cdot 10^{-17} P^{x}_{qq} e^{2}_{d} e^{2}_{u} + 3.5527136788005 \\cdot 10^{-17} P^{x}_{qq} \\left(e^{2}_{u}\\right)^{2} + 2.77555756156289 \\cdot 10^{-17} P_{+}\\\\0 & 0 & - 5.32907051820075 \\cdot 10^{-17} P^{x}_{+} e^{2}_{d} e^{2}_{u} - 3.5527136788005 \\cdot 10^{-17} P^{x}_{+} \\left(e^{2}_{u}\\right)^{2} - 1.11022302462516 \\cdot 10^{-16} P^{x}_{+d} e^{2}_{d} + 1.11022302462516 \\cdot 10^{-16} P^{x}_{+u} e^{2}_{u} + 5.32907051820075 \\cdot 10^{-17} P^{x}_{qq} e^{2}_{d} e^{2}_{u} + 3.5527136788005 \\cdot 10^{-17} P^{x}_{qq} \\left(e^{2}_{u}\\right)^{2} + 5.55111512312578 \\cdot 10^{-17} P_{qq} & e^{2}_{u} \\left(5.55111512312578 \\cdot 10^{-17} P^{x}_{+} e^{2}_{d} - 5.55111512312578 \\cdot 10^{-17} P^{x}_{+} e^{2}_{u} + 1.11022302462516 \\cdot 10^{-16} P^{x}_{+u} - 5.55111512312578 \\cdot 10^{-17} P^{x}_{qq} e^{2}_{d} + 5.55111512312578 \\cdot 10^{-17} P^{x}_{qq} e^{2}_{u}\\right)\\end{matrix}\\right]$"
      ],
      "text/plain": [
       "Matrix([\n",
       "[0, 0,                                                                                                                                                                                                                                8.88178419700125e-17*P^x_gq*e_d^2,                                                                                                                                                            2.77555756156289e-17*P_gq],\n",
       "[0, 0,                                                                                                                                                                                                                          1.11022302462516e-16*P^x_\\gamma d*e_d^2,                                                                                                                                                                                    0],\n",
       "[0, 0,                                                                                                                                                    -3.5527136788005e-17*P^x_+*e_u^2**2 + 1.11022302462516e-16*P^x_+d*e_d^2 + 3.5527136788005e-17*P^x_qq*e_u^2**2, 3.5527136788005e-17*P^x_+*e_d^2*e_u^2 - 3.5527136788005e-17*P^x_+*e_u^2**2 - 3.5527136788005e-17*P^x_qq*e_d^2*e_u^2 + 3.5527136788005e-17*P^x_qq*e_u^2**2 + 2.77555756156289e-17*P_+],\n",
       "[0, 0, -5.32907051820075e-17*P^x_+*e_d^2*e_u^2 - 3.5527136788005e-17*P^x_+*e_u^2**2 - 1.11022302462516e-16*P^x_+d*e_d^2 + 1.11022302462516e-16*P^x_+u*e_u^2 + 5.32907051820075e-17*P^x_qq*e_d^2*e_u^2 + 3.5527136788005e-17*P^x_qq*e_u^2**2 + 5.55111512312578e-17*P_qq,    e_u^2*(5.55111512312578e-17*P^x_+*e_d^2 - 5.55111512312578e-17*P^x_+*e_u^2 + 1.11022302462516e-16*P^x_+u - 5.55111512312578e-17*P^x_qq*e_d^2 + 5.55111512312578e-17*P^x_qq*e_u^2)]])"
      ]
     },
     "execution_count": 20,
     "metadata": {},
     "output_type": "execute_result"
    }
   ],
   "source": [
    "sympy.simplify(P_ev_sing(5)-P_ev_sing2(5))"
   ]
  },
  {
   "cell_type": "code",
   "execution_count": 19,
   "id": "42a4712c",
   "metadata": {},
   "outputs": [
    {
     "data": {
      "text/latex": [
       "$\\displaystyle \\left[\\begin{matrix}0 & 0 & - 1.11022302462516 \\cdot 10^{-16} P_{gq} & 0\\\\0 & 0 & 0 & 0\\\\0 & 0 & - 1.11022302462516 \\cdot 10^{-16} P_{+} & 0\\\\0 & 0 & 0 & - 1.11022302462516 \\cdot 10^{-16} P_{+}\\end{matrix}\\right]$"
      ],
      "text/plain": [
       "Matrix([\n",
       "[0, 0, -1.11022302462516e-16*P_gq,                         0],\n",
       "[0, 0,                          0,                         0],\n",
       "[0, 0,  -1.11022302462516e-16*P_+,                         0],\n",
       "[0, 0,                          0, -1.11022302462516e-16*P_+]])"
      ]
     },
     "execution_count": 19,
     "metadata": {},
     "output_type": "execute_result"
    }
   ],
   "source": [
    "sympy.simplify(P_ev_sing(6)-P_ev_sing2(6))"
   ]
  },
  {
   "cell_type": "code",
   "execution_count": 15,
   "id": "ac0e82fc",
   "metadata": {},
   "outputs": [
    {
     "data": {
      "text/latex": [
       "$\\displaystyle \\left[\\begin{matrix}1.11022302462516 \\cdot 10^{-16} P^{x}_{-d} e^{2}_{d} & 2.77555756156289 \\cdot 10^{-17} P_{-}\\\\- 1.11022302462516 \\cdot 10^{-16} P^{x}_{-d} e^{2}_{d} + 1.11022302462516 \\cdot 10^{-16} P^{x}_{-u} e^{2}_{u} + 5.55111512312578 \\cdot 10^{-17} P_{V} & 1.11022302462516 \\cdot 10^{-16} P^{x}_{-u} e^{2}_{u}\\end{matrix}\\right]$"
      ],
      "text/plain": [
       "Matrix([\n",
       "[                                                                1.11022302462516e-16*P^x_-d*e_d^2,          2.77555756156289e-17*P_-],\n",
       "[-1.11022302462516e-16*P^x_-d*e_d^2 + 1.11022302462516e-16*P^x_-u*e_u^2 + 5.55111512312578e-17*P_V, 1.11022302462516e-16*P^x_-u*e_u^2]])"
      ]
     },
     "execution_count": 15,
     "metadata": {},
     "output_type": "execute_result"
    }
   ],
   "source": [
    "sympy.simplify(P_ev_val(5)-P_ev_val2(5))"
   ]
  },
  {
   "cell_type": "code",
   "execution_count": 16,
   "id": "3e3c29ce",
   "metadata": {},
   "outputs": [
    {
     "data": {
      "text/latex": [
       "$\\displaystyle \\left[\\begin{matrix}- 1.11022302462516 \\cdot 10^{-16} P_{-} & 0\\\\0 & - 1.11022302462516 \\cdot 10^{-16} P_{-}\\end{matrix}\\right]$"
      ],
      "text/plain": [
       "Matrix([\n",
       "[-1.11022302462516e-16*P_-,                         0],\n",
       "[                        0, -1.11022302462516e-16*P_-]])"
      ]
     },
     "execution_count": 16,
     "metadata": {},
     "output_type": "execute_result"
    }
   ],
   "source": [
    "sympy.simplify(P_ev_val(6)-P_ev_val2(6))"
   ]
  },
  {
   "cell_type": "code",
   "execution_count": null,
   "id": "121e1f75",
   "metadata": {},
   "outputs": [],
   "source": []
  }
 ],
 "metadata": {
  "kernelspec": {
   "display_name": "Python 3 (ipykernel)",
   "language": "python",
   "name": "python3"
  },
  "language_info": {
   "codemirror_mode": {
    "name": "ipython",
    "version": 3
   },
   "file_extension": ".py",
   "mimetype": "text/x-python",
   "name": "python",
   "nbconvert_exporter": "python",
   "pygments_lexer": "ipython3",
   "version": "3.8.12"
  }
 },
 "nbformat": 4,
 "nbformat_minor": 5
}
