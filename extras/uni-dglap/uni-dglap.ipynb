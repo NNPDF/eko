{
 "cells": [
  {
   "cell_type": "markdown",
   "id": "4790b144-ceb5-4cba-87a5-ca2fd37e5912",
   "metadata": {},
   "source": [
    "# Unified DGLAP"
   ]
  },
  {
   "cell_type": "code",
   "execution_count": 3,
   "id": "1d7616d9-f4a3-447a-9ebf-e99db8126ffb",
   "metadata": {},
   "outputs": [],
   "source": [
    "import sympy"
   ]
  },
  {
   "cell_type": "code",
   "execution_count": 5,
   "id": "cb36381d-57b5-4972-b028-cf4b6300938f",
   "metadata": {},
   "outputs": [],
   "source": [
    "# QCD\n",
    "Pv, Pp, Pm, Pqq, Pqg, Pgq, Pgg = sympy.symbols(\"P_V P_+ P_- P_qq P_qg P_gq P_gg\")\n",
    "# QED\n",
    "Pxv, Pxp, Pxm, Pxqq, Pxqg, Pxgq, Pxgg = sympy.symbols(\"P^x_V P^x_+ P^x_- P^x_qq P^x_qg P^x_gq P^x_gg\")\n",
    "Pxqy, Pxyq, Pxyg, Pxgy, Pxyy = sympy.symbols(\"P^x_q\\gamma P^x_\\gamma\\ q P^x_\\gamma\\ g P^x_g\\gamma P^x_\\gamma\\gamma\")\n",
    "eu2, ed2, es2 = sympy.symbols(\"e_u^2 e_d^2 e_\\Sigma^2\") # charges"
   ]
  },
  {
   "cell_type": "markdown",
   "id": "bdf7ad8c",
   "metadata": {},
   "source": [
    "## Flavor basis :\n",
    "### [g, \\gamma, u+, u-, d+, d-, s+, s-, c+, c-, b+, b-, t+, t-]\n",
    "## Singlet basis :\n",
    "### [g, \\gamma, \\Sigma_u, \\Sigma_d, V_u, V_d, T_3^d, V_3^d, T_3^u / c+, V_3^u / c-, T_8^d / b+, V_8^d / b-, T_8^u / t+, V_8^u / t-]\n",
    "## Intrinsic evolution basis :\n",
    "### [g, \\gamma, \\Sigma, \\Delta_\\Sigma, V, \\Delta_V, T_3^d, V_3^d, T_3^u / c+, V_3^u / c-, T_8^d / b+, V_8^d / b-, T_8^u / t+, V_8^u / t-]\n",
    "### [T_3^u, V_3^u, T_8^d, V_8^d, T_8^u, V_8^u] is:\n",
    "### [c+, c-, b+, b-, t+, t-] in nf=3,\n",
    "### [T_3^u, V_3^u, b+, b-, t+, t-] in nf=4,\n",
    "### [T_3^u, V_3^u, T_8^d, V_8^d, t+, t-] in nf=5,\n",
    "### [T_3^u, V_3^u, T_8^d, V_8^d, T_8^u, V_8^u] in nf=6"
   ]
  },
  {
   "cell_type": "code",
   "execution_count": 6,
   "id": "9764233f-9c53-4860-b7c3-2be12fbec857",
   "metadata": {},
   "outputs": [],
   "source": [
    "P = {}\n",
    "ns, s, qed, qcd = \"ns\", \"s\", \"qed\", \"qcd\"\n",
    "P[ns, qcd] = sympy.Array.zeros(14,14).as_mutable()\n",
    "P[ns, qed] = sympy.Array.zeros(14,14).as_mutable()\n",
    "P[s, qcd] =  sympy.Array.zeros(14,14).as_mutable()\n",
    "P[s, qed] =  sympy.Array.zeros(14,14).as_mutable()\n",
    "\n",
    "ei2=[eu2, ed2, ed2, eu2, ed2, eu2]\n",
    "def es2_(nf):\n",
    "    nu = int(nf/2)\n",
    "    nd = nf - nu\n",
    "    return nu*eu2 + nd*ed2\n",
    "\n",
    "def P_qcd(nf):\n",
    "    res = sympy.Matrix.zeros(14,14).as_mutable()\n",
    "    res[0, 0]=Pgg\n",
    "    for i in range(1, nf+1):\n",
    "        res[0, 2*i] = Pgq #g q+\n",
    "        res[2*i, 0] = 2 * Pqg #q+ g\n",
    "        res[2*i,2*i] = Pp #q+ q+\n",
    "        res[1 + 2*i,1 + 2*i] = Pm #q- q-\n",
    "    return res\n",
    "\n",
    "def P_qed(nf):\n",
    "    es2=es2_(nf)\n",
    "    res = sympy.Matrix.zeros(14,14).as_mutable()\n",
    "    res[0, 0]=es2*Pxgg\n",
    "    res[1, 1]=es2*Pxyy\n",
    "    res[0, 1]=es2*Pxgy\n",
    "    res[1, 0]=es2*Pxyg\n",
    "    for i in range(1, nf+1):\n",
    "        res[0, 2*i] = ei2[i-1]*Pxgq\n",
    "        res[2*i, 0] = 2*ei2[i-1]*Pxqg\n",
    "        res[1, 2*i] = ei2[i-1]*Pxyq\n",
    "        res[2*i, 1] = 2*ei2[i-1]*Pxqy\n",
    "        res[2*i,2*i] = ei2[i-1]*Pxp \n",
    "        res[1 + 2*i,1 + 2*i] = ei2[i-1]*Pxm\n",
    "    return res\n",
    "\n",
    "def Ps_qcd(nf):\n",
    "    res = sympy.Matrix.zeros(14,14).as_mutable()\n",
    "    for i in range(1, nf+1):\n",
    "        res[2*i, 2] = Pqq - Pp\n",
    "        res[2*i, 3] = Pqq - Pp\n",
    "        res[1 + 2*i, 4] = Pv - Pm\n",
    "        res[1 + 2*i, 5] = Pv - Pm\n",
    "    return res/nf\n",
    "\n",
    "def Ps_qed(nf):\n",
    "    res = sympy.Matrix.zeros(14,14).as_mutable()\n",
    "    for i in range(1, nf+1):\n",
    "        res[2*i, 2] = ei2[i-1]*eu2*(Pxqq - Pxp)\n",
    "        res[2*i, 3] = ei2[i-1]*ed2*(Pxqq - Pxp)\n",
    "    return res/nf\n",
    "\n",
    "def P_uni(nf):\n",
    "    return P_qcd(nf)+P_qed(nf)\n",
    "\n",
    "def Ps_uni(nf):\n",
    "    return Ps_qcd(nf)+Ps_qed(nf)"
   ]
  },
  {
   "cell_type": "code",
   "execution_count": 7,
   "id": "3a376dcf",
   "metadata": {},
   "outputs": [],
   "source": [
    "def rot_fl_to_ev(nf):\n",
    "    nu = int(nf/2)\n",
    "    nd = nf - nu\n",
    "    res = sympy.Matrix.zeros(14,14).as_mutable()\n",
    "    res[0, 0]=1\n",
    "    res[1, 1]=1\n",
    "    for i in range(2 + 2*nf, 14): \n",
    "        res[i,i] = 1\n",
    "    for i in range(1,nf+1): #Sigma and V\n",
    "        res[2, 2*i] = 1\n",
    "        res[4, 1 + 2*i] = 1\n",
    "    for i in [1, 4, 6]:#loop on up quarks\n",
    "        if i <= nf:\n",
    "            res[3, 2*i] = nd/nu\n",
    "            res[5,1 + 2*i] = nd/nu\n",
    "    for i in [2, 3, 5]:#loop on down quarks\n",
    "        if i <= nf:\n",
    "            res[3, 2*i] = -1\n",
    "            res[5, 1 + 2*i] = -1\n",
    "    if nf >= 3 :\n",
    "        res[6, 4] = 1\n",
    "        res[6, 6] = -1\n",
    "        res[7, 5] = 1\n",
    "        res[7, 7] = -1\n",
    "    if nf >= 4 :\n",
    "        res[8, 2] = 1\n",
    "        res[8, 8] = -1\n",
    "        res[9, 3] = 1\n",
    "        res[9, 9] = -1\n",
    "    if nf >= 5 :\n",
    "        res[10, 4] = 1\n",
    "        res[10, 6] = 1\n",
    "        res[10, 10] = -2\n",
    "        res[11, 5] = 1\n",
    "        res[11, 7] = 1\n",
    "        res[11, 11] = -2\n",
    "    if nf == 6 :\n",
    "        res[12, 2] = 1\n",
    "        res[12, 8] = 1\n",
    "        res[12, 12] = -2\n",
    "        res[13, 3] = 1\n",
    "        res[13, 9] = 1\n",
    "        res[13, 13] = -2\n",
    "    return res\n",
    "\n",
    "def rot_ev_to_fl(nf):\n",
    "    return rot_fl_to_ev(nf).inv()"
   ]
  },
  {
   "cell_type": "code",
   "execution_count": 8,
   "id": "b5747379",
   "metadata": {},
   "outputs": [],
   "source": [
    "def rot_sin_to_ev(nf):\n",
    "    nu = int(nf/2)\n",
    "    nd = nf - nu\n",
    "    res = sympy.Matrix.zeros(14,14).as_mutable()\n",
    "    res[0, 0]=1\n",
    "    res[1, 1]=1\n",
    "    res[2,2]=1\n",
    "    res[2,3]=1\n",
    "    res[3,2]=nd/nu\n",
    "    res[3,3]=-1\n",
    "    res[4,4]=1\n",
    "    res[4,5]=1\n",
    "    res[5,4]=nd/nu\n",
    "    res[5,5]=-1\n",
    "    for i in range(6,14):\n",
    "        res[i,i]=1\n",
    "    return res\n",
    "\n",
    "def rot_ev_to_sin(nf):\n",
    "    return rot_sin_to_ev(nf).inv()"
   ]
  },
  {
   "cell_type": "code",
   "execution_count": 9,
   "id": "45fb3a16",
   "metadata": {},
   "outputs": [],
   "source": [
    "def P_ev(nf):\n",
    "    res = rot_fl_to_ev(nf) * P_uni(nf) * rot_ev_to_fl(nf) + rot_fl_to_ev(nf) * Ps_uni(nf) * rot_ev_to_sin(nf)\n",
    "    return res"
   ]
  },
  {
   "cell_type": "code",
   "execution_count": 10,
   "id": "9b5050aa",
   "metadata": {},
   "outputs": [
    {
     "data": {
      "text/latex": [
       "$\\displaystyle \\left[\\begin{array}{cccccccccccccc}P^{x}_{gg} \\left(e^{2}_{d} + e^{2}_{u}\\right) + P_{gg} & P^{x}_{g\\gamma} \\left(e^{2}_{d} + e^{2}_{u}\\right) & 0.5 P^{x}_{gq} e^{2}_{d} + 0.5 P^{x}_{gq} e^{2}_{u} + 1.0 P_{gq} & - 0.5 P^{x}_{gq} e^{2}_{d} + 0.5 P^{x}_{gq} e^{2}_{u} & 0 & 0 & 0 & 0 & 0 & 0 & 0 & 0 & 0 & 0\\\\P^{x}_{\\gamma g} \\left(e^{2}_{d} + e^{2}_{u}\\right) & P^{x}_{\\gamma\\gamma} \\left(e^{2}_{d} + e^{2}_{u}\\right) & 0.5 P^{x}_{\\gamma q} e^{2}_{d} + 0.5 P^{x}_{\\gamma q} e^{2}_{u} & - 0.5 P^{x}_{\\gamma q} e^{2}_{d} + 0.5 P^{x}_{\\gamma q} e^{2}_{u} & 0 & 0 & 0 & 0 & 0 & 0 & 0 & 0 & 0 & 0\\\\2 P^{x}_{qg} e^{2}_{d} + 2 P^{x}_{qg} e^{2}_{u} + 4 P_{qg} & 2 P^{x}_{q\\gamma} e^{2}_{d} + 2 P^{x}_{q\\gamma} e^{2}_{u} & 0.5 P^{x}_{+} e^{2}_{d} + 0.5 P^{x}_{+} e^{2}_{u} + 1.0 P_{qq} + 0.25 \\left(e^{2}_{d}\\right)^{2} \\left(- P^{x}_{+} + P^{x}_{qq}\\right) + 0.5 e^{2}_{d} e^{2}_{u} \\left(- P^{x}_{+} + P^{x}_{qq}\\right) + 0.25 \\left(e^{2}_{u}\\right)^{2} \\left(- P^{x}_{+} + P^{x}_{qq}\\right) & - 0.5 P^{x}_{+} e^{2}_{d} + 0.5 P^{x}_{+} e^{2}_{u} - 0.25 \\left(e^{2}_{d}\\right)^{2} \\left(- P^{x}_{+} + P^{x}_{qq}\\right) + 0.25 \\left(e^{2}_{u}\\right)^{2} \\left(- P^{x}_{+} + P^{x}_{qq}\\right) & 0 & 0 & 0 & 0 & 0 & 0 & 0 & 0 & 0 & 0\\\\- 2 P^{x}_{qg} e^{2}_{d} + 2.0 P^{x}_{qg} e^{2}_{u} & - 2 P^{x}_{q\\gamma} e^{2}_{d} + 2.0 P^{x}_{q\\gamma} e^{2}_{u} & - 0.5 P^{x}_{+} e^{2}_{d} + 0.5 P^{x}_{+} e^{2}_{u} - 0.25 \\left(e^{2}_{d}\\right)^{2} \\left(- P^{x}_{+} + P^{x}_{qq}\\right) + 0.25 \\left(e^{2}_{u}\\right)^{2} \\left(- P^{x}_{+} + P^{x}_{qq}\\right) & 0.5 P^{x}_{+} e^{2}_{d} + 0.5 P^{x}_{+} e^{2}_{u} + 1.0 P_{+} + 0.25 \\left(e^{2}_{d}\\right)^{2} \\left(- P^{x}_{+} + P^{x}_{qq}\\right) - 0.5 e^{2}_{d} e^{2}_{u} \\left(- P^{x}_{+} + P^{x}_{qq}\\right) + 0.25 \\left(e^{2}_{u}\\right)^{2} \\left(- P^{x}_{+} + P^{x}_{qq}\\right) & 0 & 0 & 0 & 0 & 0 & 0 & 0 & 0 & 0 & 0\\\\0 & 0 & 0 & 0 & 0.5 P^{x}_{-} e^{2}_{d} + 0.5 P^{x}_{-} e^{2}_{u} + 1.0 P_{V} & - 0.5 P^{x}_{-} e^{2}_{d} + 0.5 P^{x}_{-} e^{2}_{u} & 0 & 0 & 0 & 0 & 0 & 0 & 0 & 0\\\\0 & 0 & 0 & 0 & - 0.5 P^{x}_{-} e^{2}_{d} + 0.5 P^{x}_{-} e^{2}_{u} & 0.5 P^{x}_{-} e^{2}_{d} + 0.5 P^{x}_{-} e^{2}_{u} + 1.0 P_{-} & 0 & 0 & 0 & 0 & 0 & 0 & 0 & 0\\\\0 & 0 & 0 & 0 & 0 & 0 & 0 & 0 & 0 & 0 & 0 & 0 & 0 & 0\\\\0 & 0 & 0 & 0 & 0 & 0 & 0 & 0 & 0 & 0 & 0 & 0 & 0 & 0\\\\0 & 0 & 0 & 0 & 0 & 0 & 0 & 0 & 0 & 0 & 0 & 0 & 0 & 0\\\\0 & 0 & 0 & 0 & 0 & 0 & 0 & 0 & 0 & 0 & 0 & 0 & 0 & 0\\\\0 & 0 & 0 & 0 & 0 & 0 & 0 & 0 & 0 & 0 & 0 & 0 & 0 & 0\\\\0 & 0 & 0 & 0 & 0 & 0 & 0 & 0 & 0 & 0 & 0 & 0 & 0 & 0\\\\0 & 0 & 0 & 0 & 0 & 0 & 0 & 0 & 0 & 0 & 0 & 0 & 0 & 0\\\\0 & 0 & 0 & 0 & 0 & 0 & 0 & 0 & 0 & 0 & 0 & 0 & 0 & 0\\end{array}\\right]$"
      ],
      "text/plain": [
       "Matrix([\n",
       "[           P^x_gg*(e_d^2 + e_u^2) + P_gg,                  P^x_g\\gamma*(e_d^2 + e_u^2),                                                                                                       0.5*P^x_gq*e_d^2 + 0.5*P^x_gq*e_u^2 + 1.0*P_gq,                                                                                                                -0.5*P^x_gq*e_d^2 + 0.5*P^x_gq*e_u^2,                                           0,                                           0, 0, 0, 0, 0, 0, 0, 0, 0],\n",
       "[            P^x_\\gamma g*(e_d^2 + e_u^2),             P^x_\\gamma\\gamma*(e_d^2 + e_u^2),                                                                                                      0.5*P^x_\\gamma q*e_d^2 + 0.5*P^x_\\gamma q*e_u^2,                                                                                                    -0.5*P^x_\\gamma q*e_d^2 + 0.5*P^x_\\gamma q*e_u^2,                                           0,                                           0, 0, 0, 0, 0, 0, 0, 0, 0],\n",
       "[2*P^x_qg*e_d^2 + 2*P^x_qg*e_u^2 + 4*P_qg,    2*P^x_q\\gamma*e_d^2 + 2*P^x_q\\gamma*e_u^2, 0.5*P^x_+*e_d^2 + 0.5*P^x_+*e_u^2 + 1.0*P_qq + 0.25*e_d^2**2*(-P^x_+ + P^x_qq) + 0.5*e_d^2*e_u^2*(-P^x_+ + P^x_qq) + 0.25*e_u^2**2*(-P^x_+ + P^x_qq),                                              -0.5*P^x_+*e_d^2 + 0.5*P^x_+*e_u^2 - 0.25*e_d^2**2*(-P^x_+ + P^x_qq) + 0.25*e_u^2**2*(-P^x_+ + P^x_qq),                                           0,                                           0, 0, 0, 0, 0, 0, 0, 0, 0],\n",
       "[      -2*P^x_qg*e_d^2 + 2.0*P^x_qg*e_u^2, -2*P^x_q\\gamma*e_d^2 + 2.0*P^x_q\\gamma*e_u^2,                                               -0.5*P^x_+*e_d^2 + 0.5*P^x_+*e_u^2 - 0.25*e_d^2**2*(-P^x_+ + P^x_qq) + 0.25*e_u^2**2*(-P^x_+ + P^x_qq), 0.5*P^x_+*e_d^2 + 0.5*P^x_+*e_u^2 + 1.0*P_+ + 0.25*e_d^2**2*(-P^x_+ + P^x_qq) - 0.5*e_d^2*e_u^2*(-P^x_+ + P^x_qq) + 0.25*e_u^2**2*(-P^x_+ + P^x_qq),                                           0,                                           0, 0, 0, 0, 0, 0, 0, 0, 0],\n",
       "[                                       0,                                            0,                                                                                                                                                    0,                                                                                                                                                   0, 0.5*P^x_-*e_d^2 + 0.5*P^x_-*e_u^2 + 1.0*P_V,          -0.5*P^x_-*e_d^2 + 0.5*P^x_-*e_u^2, 0, 0, 0, 0, 0, 0, 0, 0],\n",
       "[                                       0,                                            0,                                                                                                                                                    0,                                                                                                                                                   0,          -0.5*P^x_-*e_d^2 + 0.5*P^x_-*e_u^2, 0.5*P^x_-*e_d^2 + 0.5*P^x_-*e_u^2 + 1.0*P_-, 0, 0, 0, 0, 0, 0, 0, 0],\n",
       "[                                       0,                                            0,                                                                                                                                                    0,                                                                                                                                                   0,                                           0,                                           0, 0, 0, 0, 0, 0, 0, 0, 0],\n",
       "[                                       0,                                            0,                                                                                                                                                    0,                                                                                                                                                   0,                                           0,                                           0, 0, 0, 0, 0, 0, 0, 0, 0],\n",
       "[                                       0,                                            0,                                                                                                                                                    0,                                                                                                                                                   0,                                           0,                                           0, 0, 0, 0, 0, 0, 0, 0, 0],\n",
       "[                                       0,                                            0,                                                                                                                                                    0,                                                                                                                                                   0,                                           0,                                           0, 0, 0, 0, 0, 0, 0, 0, 0],\n",
       "[                                       0,                                            0,                                                                                                                                                    0,                                                                                                                                                   0,                                           0,                                           0, 0, 0, 0, 0, 0, 0, 0, 0],\n",
       "[                                       0,                                            0,                                                                                                                                                    0,                                                                                                                                                   0,                                           0,                                           0, 0, 0, 0, 0, 0, 0, 0, 0],\n",
       "[                                       0,                                            0,                                                                                                                                                    0,                                                                                                                                                   0,                                           0,                                           0, 0, 0, 0, 0, 0, 0, 0, 0],\n",
       "[                                       0,                                            0,                                                                                                                                                    0,                                                                                                                                                   0,                                           0,                                           0, 0, 0, 0, 0, 0, 0, 0, 0]])"
      ]
     },
     "execution_count": 10,
     "metadata": {},
     "output_type": "execute_result"
    }
   ],
   "source": [
    "P_ev(2)"
   ]
  },
  {
   "cell_type": "code",
   "execution_count": 11,
   "id": "07b1874a",
   "metadata": {},
   "outputs": [
    {
     "data": {
      "text/latex": [
       "$\\displaystyle \\left[\\begin{array}{cccccccccccccc}P^{x}_{gg} \\left(2 e^{2}_{d} + e^{2}_{u}\\right) + P_{gg} & P^{x}_{g\\gamma} \\left(2 e^{2}_{d} + e^{2}_{u}\\right) & 0.666666666666667 P^{x}_{gq} e^{2}_{d} + 0.333333333333333 P^{x}_{gq} e^{2}_{u} + 1.0 P_{gq} & - 0.333333333333333 P^{x}_{gq} e^{2}_{d} + 0.333333333333333 P^{x}_{gq} e^{2}_{u} & 0 & 0 & 0 & 0 & 0 & 0 & 0 & 0 & 0 & 0\\\\P^{x}_{\\gamma g} \\left(2 e^{2}_{d} + e^{2}_{u}\\right) & P^{x}_{\\gamma\\gamma} \\left(2 e^{2}_{d} + e^{2}_{u}\\right) & 0.666666666666667 P^{x}_{\\gamma q} e^{2}_{d} + 0.333333333333333 P^{x}_{\\gamma q} e^{2}_{u} & - 0.333333333333333 P^{x}_{\\gamma q} e^{2}_{d} + 0.333333333333333 P^{x}_{\\gamma q} e^{2}_{u} & 0 & 0 & 0 & 0 & 0 & 0 & 0 & 0 & 0 & 0\\\\4 P^{x}_{qg} e^{2}_{d} + 2 P^{x}_{qg} e^{2}_{u} + 6 P_{qg} & 4 P^{x}_{q\\gamma} e^{2}_{d} + 2 P^{x}_{q\\gamma} e^{2}_{u} & 0.666666666666667 P^{x}_{+} e^{2}_{d} + 0.333333333333333 P^{x}_{+} e^{2}_{u} + 1.0 P_{qq} + 0.444444444444444 \\left(e^{2}_{d}\\right)^{2} \\left(- P^{x}_{+} + P^{x}_{qq}\\right) + 0.444444444444444 e^{2}_{d} e^{2}_{u} \\left(- P^{x}_{+} + P^{x}_{qq}\\right) + 0.111111111111111 \\left(e^{2}_{u}\\right)^{2} \\left(- P^{x}_{+} + P^{x}_{qq}\\right) & - 0.333333333333333 P^{x}_{+} e^{2}_{d} + 0.333333333333333 P^{x}_{+} e^{2}_{u} - 0.222222222222222 \\left(e^{2}_{d}\\right)^{2} \\left(- P^{x}_{+} + P^{x}_{qq}\\right) + 0.111111111111111 e^{2}_{d} e^{2}_{u} \\left(- P^{x}_{+} + P^{x}_{qq}\\right) + 0.111111111111111 \\left(e^{2}_{u}\\right)^{2} \\left(- P^{x}_{+} + P^{x}_{qq}\\right) & 0 & 0 & 0 & 0 & 0 & 0 & 0 & 0 & 0 & 0\\\\- 4 P^{x}_{qg} e^{2}_{d} + 4.0 P^{x}_{qg} e^{2}_{u} & - 4 P^{x}_{q\\gamma} e^{2}_{d} + 4.0 P^{x}_{q\\gamma} e^{2}_{u} & - 0.666666666666667 P^{x}_{+} e^{2}_{d} + 0.666666666666667 P^{x}_{+} e^{2}_{u} - 0.444444444444444 \\left(e^{2}_{d}\\right)^{2} \\left(- P^{x}_{+} + P^{x}_{qq}\\right) + 0.222222222222222 e^{2}_{d} e^{2}_{u} \\left(- P^{x}_{+} + P^{x}_{qq}\\right) + 0.222222222222222 \\left(e^{2}_{u}\\right)^{2} \\left(- P^{x}_{+} + P^{x}_{qq}\\right) & 0.333333333333333 P^{x}_{+} e^{2}_{d} + 0.666666666666667 P^{x}_{+} e^{2}_{u} + 1.0 P_{+} + 0.222222222222222 \\left(e^{2}_{d}\\right)^{2} \\left(- P^{x}_{+} + P^{x}_{qq}\\right) - 0.444444444444444 e^{2}_{d} e^{2}_{u} \\left(- P^{x}_{+} + P^{x}_{qq}\\right) + 0.222222222222222 \\left(e^{2}_{u}\\right)^{2} \\left(- P^{x}_{+} + P^{x}_{qq}\\right) & 0 & 0 & 0 & 0 & 0 & 0 & 0 & 0 & 0 & 0\\\\0 & 0 & 0 & 0 & 0.666666666666667 P^{x}_{-} e^{2}_{d} + 0.333333333333333 P^{x}_{-} e^{2}_{u} + 1.0 P_{V} & - 0.333333333333333 P^{x}_{-} e^{2}_{d} + 0.333333333333333 P^{x}_{-} e^{2}_{u} & 0 & 0 & 0 & 0 & 0 & 0 & 0 & 0\\\\0 & 0 & 0 & 0 & - 0.666666666666667 P^{x}_{-} e^{2}_{d} + 0.666666666666667 P^{x}_{-} e^{2}_{u} & 0.333333333333333 P^{x}_{-} e^{2}_{d} + 0.666666666666667 P^{x}_{-} e^{2}_{u} + 1.0 P_{-} & 0 & 0 & 0 & 0 & 0 & 0 & 0 & 0\\\\0 & 0 & 0 & 0 & 0 & 0 & 1.0 P^{x}_{+} e^{2}_{d} + 1.0 P_{+} & 0 & 0 & 0 & 0 & 0 & 0 & 0\\\\0 & 0 & 0 & 0 & 0 & 0 & 0 & 1.0 P^{x}_{-} e^{2}_{d} + 1.0 P_{-} & 0 & 0 & 0 & 0 & 0 & 0\\\\0 & 0 & 0 & 0 & 0 & 0 & 0 & 0 & 0 & 0 & 0 & 0 & 0 & 0\\\\0 & 0 & 0 & 0 & 0 & 0 & 0 & 0 & 0 & 0 & 0 & 0 & 0 & 0\\\\0 & 0 & 0 & 0 & 0 & 0 & 0 & 0 & 0 & 0 & 0 & 0 & 0 & 0\\\\0 & 0 & 0 & 0 & 0 & 0 & 0 & 0 & 0 & 0 & 0 & 0 & 0 & 0\\\\0 & 0 & 0 & 0 & 0 & 0 & 0 & 0 & 0 & 0 & 0 & 0 & 0 & 0\\\\0 & 0 & 0 & 0 & 0 & 0 & 0 & 0 & 0 & 0 & 0 & 0 & 0 & 0\\end{array}\\right]$"
      ],
      "text/plain": [
       "Matrix([\n",
       "[         P^x_gg*(2*e_d^2 + e_u^2) + P_gg,                P^x_g\\gamma*(2*e_d^2 + e_u^2),                                                                                                                                               0.666666666666667*P^x_gq*e_d^2 + 0.333333333333333*P^x_gq*e_u^2 + 1.0*P_gq,                                                                                                                                                        -0.333333333333333*P^x_gq*e_d^2 + 0.333333333333333*P^x_gq*e_u^2,                                                                       0,                                                                       0,                         0,                         0, 0, 0, 0, 0, 0, 0],\n",
       "[          P^x_\\gamma g*(2*e_d^2 + e_u^2),           P^x_\\gamma\\gamma*(2*e_d^2 + e_u^2),                                                                                                                                              0.666666666666667*P^x_\\gamma q*e_d^2 + 0.333333333333333*P^x_\\gamma q*e_u^2,                                                                                                                                            -0.333333333333333*P^x_\\gamma q*e_d^2 + 0.333333333333333*P^x_\\gamma q*e_u^2,                                                                       0,                                                                       0,                         0,                         0, 0, 0, 0, 0, 0, 0],\n",
       "[4*P^x_qg*e_d^2 + 2*P^x_qg*e_u^2 + 6*P_qg,    4*P^x_q\\gamma*e_d^2 + 2*P^x_q\\gamma*e_u^2, 0.666666666666667*P^x_+*e_d^2 + 0.333333333333333*P^x_+*e_u^2 + 1.0*P_qq + 0.444444444444444*e_d^2**2*(-P^x_+ + P^x_qq) + 0.444444444444444*e_d^2*e_u^2*(-P^x_+ + P^x_qq) + 0.111111111111111*e_u^2**2*(-P^x_+ + P^x_qq),          -0.333333333333333*P^x_+*e_d^2 + 0.333333333333333*P^x_+*e_u^2 - 0.222222222222222*e_d^2**2*(-P^x_+ + P^x_qq) + 0.111111111111111*e_d^2*e_u^2*(-P^x_+ + P^x_qq) + 0.111111111111111*e_u^2**2*(-P^x_+ + P^x_qq),                                                                       0,                                                                       0,                         0,                         0, 0, 0, 0, 0, 0, 0],\n",
       "[      -4*P^x_qg*e_d^2 + 4.0*P^x_qg*e_u^2, -4*P^x_q\\gamma*e_d^2 + 4.0*P^x_q\\gamma*e_u^2,           -0.666666666666667*P^x_+*e_d^2 + 0.666666666666667*P^x_+*e_u^2 - 0.444444444444444*e_d^2**2*(-P^x_+ + P^x_qq) + 0.222222222222222*e_d^2*e_u^2*(-P^x_+ + P^x_qq) + 0.222222222222222*e_u^2**2*(-P^x_+ + P^x_qq), 0.333333333333333*P^x_+*e_d^2 + 0.666666666666667*P^x_+*e_u^2 + 1.0*P_+ + 0.222222222222222*e_d^2**2*(-P^x_+ + P^x_qq) - 0.444444444444444*e_d^2*e_u^2*(-P^x_+ + P^x_qq) + 0.222222222222222*e_u^2**2*(-P^x_+ + P^x_qq),                                                                       0,                                                                       0,                         0,                         0, 0, 0, 0, 0, 0, 0],\n",
       "[                                       0,                                            0,                                                                                                                                                                                                                        0,                                                                                                                                                                                                                       0, 0.666666666666667*P^x_-*e_d^2 + 0.333333333333333*P^x_-*e_u^2 + 1.0*P_V,          -0.333333333333333*P^x_-*e_d^2 + 0.333333333333333*P^x_-*e_u^2,                         0,                         0, 0, 0, 0, 0, 0, 0],\n",
       "[                                       0,                                            0,                                                                                                                                                                                                                        0,                                                                                                                                                                                                                       0,          -0.666666666666667*P^x_-*e_d^2 + 0.666666666666667*P^x_-*e_u^2, 0.333333333333333*P^x_-*e_d^2 + 0.666666666666667*P^x_-*e_u^2 + 1.0*P_-,                         0,                         0, 0, 0, 0, 0, 0, 0],\n",
       "[                                       0,                                            0,                                                                                                                                                                                                                        0,                                                                                                                                                                                                                       0,                                                                       0,                                                                       0, 1.0*P^x_+*e_d^2 + 1.0*P_+,                         0, 0, 0, 0, 0, 0, 0],\n",
       "[                                       0,                                            0,                                                                                                                                                                                                                        0,                                                                                                                                                                                                                       0,                                                                       0,                                                                       0,                         0, 1.0*P^x_-*e_d^2 + 1.0*P_-, 0, 0, 0, 0, 0, 0],\n",
       "[                                       0,                                            0,                                                                                                                                                                                                                        0,                                                                                                                                                                                                                       0,                                                                       0,                                                                       0,                         0,                         0, 0, 0, 0, 0, 0, 0],\n",
       "[                                       0,                                            0,                                                                                                                                                                                                                        0,                                                                                                                                                                                                                       0,                                                                       0,                                                                       0,                         0,                         0, 0, 0, 0, 0, 0, 0],\n",
       "[                                       0,                                            0,                                                                                                                                                                                                                        0,                                                                                                                                                                                                                       0,                                                                       0,                                                                       0,                         0,                         0, 0, 0, 0, 0, 0, 0],\n",
       "[                                       0,                                            0,                                                                                                                                                                                                                        0,                                                                                                                                                                                                                       0,                                                                       0,                                                                       0,                         0,                         0, 0, 0, 0, 0, 0, 0],\n",
       "[                                       0,                                            0,                                                                                                                                                                                                                        0,                                                                                                                                                                                                                       0,                                                                       0,                                                                       0,                         0,                         0, 0, 0, 0, 0, 0, 0],\n",
       "[                                       0,                                            0,                                                                                                                                                                                                                        0,                                                                                                                                                                                                                       0,                                                                       0,                                                                       0,                         0,                         0, 0, 0, 0, 0, 0, 0]])"
      ]
     },
     "execution_count": 11,
     "metadata": {},
     "output_type": "execute_result"
    }
   ],
   "source": [
    "P_ev(3)"
   ]
  },
  {
   "cell_type": "code",
   "execution_count": 320,
   "id": "c9f75de1",
   "metadata": {},
   "outputs": [
    {
     "data": {
      "text/latex": [
       "$\\displaystyle \\left[\\begin{array}{cccccccccccccc}P^{x}_{gg} \\left(2 e^{2}_{d} + 2 e^{2}_{u}\\right) + P_{gg} & P^{x}_{g\\gamma} \\left(2 e^{2}_{d} + 2 e^{2}_{u}\\right) & 0.5 P^{x}_{gq} e^{2}_{d} + 0.5 P^{x}_{gq} e^{2}_{u} + 1.0 P_{gq} & - 0.5 P^{x}_{gq} e^{2}_{d} + 0.5 P^{x}_{gq} e^{2}_{u} & 0 & 0 & 0 & 0 & 0 & 0 & 0 & 0 & 0 & 0\\\\P^{x}_{\\gamma g} \\left(2 e^{2}_{d} + 2 e^{2}_{u}\\right) & P^{x}_{\\gamma\\gamma} \\left(2 e^{2}_{d} + 2 e^{2}_{u}\\right) & 0.5 P^{x}_{\\gamma q} e^{2}_{d} + 0.5 P^{x}_{\\gamma q} e^{2}_{u} & - 0.5 P^{x}_{\\gamma q} e^{2}_{d} + 0.5 P^{x}_{\\gamma q} e^{2}_{u} & 0 & 0 & 0 & 0 & 0 & 0 & 0 & 0 & 0 & 0\\\\4 P^{x}_{qg} e^{2}_{d} + 4 P^{x}_{qg} e^{2}_{u} + 8 P_{qg} & 4 P^{x}_{q\\gamma} e^{2}_{d} + 4 P^{x}_{q\\gamma} e^{2}_{u} & 0.5 P^{x}_{+} e^{2}_{d} + 0.5 P^{x}_{+} e^{2}_{u} + 1.0 P_{qq} + 0.25 \\left(e^{2}_{d}\\right)^{2} \\left(- P^{x}_{+} + P^{x}_{qq}\\right) + 0.5 e^{2}_{d} e^{2}_{u} \\left(- P^{x}_{+} + P^{x}_{qq}\\right) + 0.25 \\left(e^{2}_{u}\\right)^{2} \\left(- P^{x}_{+} + P^{x}_{qq}\\right) & - 0.5 P^{x}_{+} e^{2}_{d} + 0.5 P^{x}_{+} e^{2}_{u} - 0.25 \\left(e^{2}_{d}\\right)^{2} \\left(- P^{x}_{+} + P^{x}_{qq}\\right) + 0.25 \\left(e^{2}_{u}\\right)^{2} \\left(- P^{x}_{+} + P^{x}_{qq}\\right) & 0 & 0 & 0 & 0 & 0 & 0 & 0 & 0 & 0 & 0\\\\- 4 P^{x}_{qg} e^{2}_{d} + 4.0 P^{x}_{qg} e^{2}_{u} & - 4 P^{x}_{q\\gamma} e^{2}_{d} + 4.0 P^{x}_{q\\gamma} e^{2}_{u} & - 0.5 P^{x}_{+} e^{2}_{d} + 0.5 P^{x}_{+} e^{2}_{u} - 0.25 \\left(e^{2}_{d}\\right)^{2} \\left(- P^{x}_{+} + P^{x}_{qq}\\right) + 0.25 \\left(e^{2}_{u}\\right)^{2} \\left(- P^{x}_{+} + P^{x}_{qq}\\right) & 0.5 P^{x}_{+} e^{2}_{d} + 0.5 P^{x}_{+} e^{2}_{u} + 1.0 P_{+} + 0.25 \\left(e^{2}_{d}\\right)^{2} \\left(- P^{x}_{+} + P^{x}_{qq}\\right) - 0.5 e^{2}_{d} e^{2}_{u} \\left(- P^{x}_{+} + P^{x}_{qq}\\right) + 0.25 \\left(e^{2}_{u}\\right)^{2} \\left(- P^{x}_{+} + P^{x}_{qq}\\right) & 0 & 0 & 0 & 0 & 0 & 0 & 0 & 0 & 0 & 0\\\\0 & 0 & 0 & 0 & 0.5 P^{x}_{-} e^{2}_{d} + 0.5 P^{x}_{-} e^{2}_{u} + 1.0 P_{V} & - 0.5 P^{x}_{-} e^{2}_{d} + 0.5 P^{x}_{-} e^{2}_{u} & 0 & 0 & 0 & 0 & 0 & 0 & 0 & 0\\\\0 & 0 & 0 & 0 & - 0.5 P^{x}_{-} e^{2}_{d} + 0.5 P^{x}_{-} e^{2}_{u} & 0.5 P^{x}_{-} e^{2}_{d} + 0.5 P^{x}_{-} e^{2}_{u} + 1.0 P_{-} & 0 & 0 & 0 & 0 & 0 & 0 & 0 & 0\\\\0 & 0 & 0 & 0 & 0 & 0 & 1.0 P^{x}_{+} e^{2}_{d} + 1.0 P_{+} & 0 & 0 & 0 & 0 & 0 & 0 & 0\\\\0 & 0 & 0 & 0 & 0 & 0 & 0 & 1.0 P^{x}_{-} e^{2}_{d} + 1.0 P_{-} & 0 & 0 & 0 & 0 & 0 & 0\\\\0 & 0 & 0 & 0 & 0 & 0 & 0 & 0 & 1.0 P^{x}_{+} e^{2}_{u} + 1.0 P_{+} & 0 & 0 & 0 & 0 & 0\\\\0 & 0 & 0 & 0 & 0 & 0 & 0 & 0 & 0 & 1.0 P^{x}_{-} e^{2}_{u} + 1.0 P_{-} & 0 & 0 & 0 & 0\\\\0 & 0 & 0 & 0 & 0 & 0 & 0 & 0 & 0 & 0 & 0 & 0 & 0 & 0\\\\0 & 0 & 0 & 0 & 0 & 0 & 0 & 0 & 0 & 0 & 0 & 0 & 0 & 0\\\\0 & 0 & 0 & 0 & 0 & 0 & 0 & 0 & 0 & 0 & 0 & 0 & 0 & 0\\\\0 & 0 & 0 & 0 & 0 & 0 & 0 & 0 & 0 & 0 & 0 & 0 & 0 & 0\\end{array}\\right]$"
      ],
      "text/plain": [
       "Matrix([\n",
       "[       P^x_gg*(2*e_d^2 + 2*e_u^2) + P_gg,              P^x_g\\gamma*(2*e_d^2 + 2*e_u^2),                                                                                                       0.5*P^x_gq*e_d^2 + 0.5*P^x_gq*e_u^2 + 1.0*P_gq,                                                                                                                -0.5*P^x_gq*e_d^2 + 0.5*P^x_gq*e_u^2,                                           0,                                           0,                         0,                         0,                         0,                         0, 0, 0, 0, 0],\n",
       "[        P^x_\\gamma g*(2*e_d^2 + 2*e_u^2),         P^x_\\gamma\\gamma*(2*e_d^2 + 2*e_u^2),                                                                                                      0.5*P^x_\\gamma q*e_d^2 + 0.5*P^x_\\gamma q*e_u^2,                                                                                                    -0.5*P^x_\\gamma q*e_d^2 + 0.5*P^x_\\gamma q*e_u^2,                                           0,                                           0,                         0,                         0,                         0,                         0, 0, 0, 0, 0],\n",
       "[4*P^x_qg*e_d^2 + 4*P^x_qg*e_u^2 + 8*P_qg,    4*P^x_q\\gamma*e_d^2 + 4*P^x_q\\gamma*e_u^2, 0.5*P^x_+*e_d^2 + 0.5*P^x_+*e_u^2 + 1.0*P_qq + 0.25*e_d^2**2*(-P^x_+ + P^x_qq) + 0.5*e_d^2*e_u^2*(-P^x_+ + P^x_qq) + 0.25*e_u^2**2*(-P^x_+ + P^x_qq),                                              -0.5*P^x_+*e_d^2 + 0.5*P^x_+*e_u^2 - 0.25*e_d^2**2*(-P^x_+ + P^x_qq) + 0.25*e_u^2**2*(-P^x_+ + P^x_qq),                                           0,                                           0,                         0,                         0,                         0,                         0, 0, 0, 0, 0],\n",
       "[      -4*P^x_qg*e_d^2 + 4.0*P^x_qg*e_u^2, -4*P^x_q\\gamma*e_d^2 + 4.0*P^x_q\\gamma*e_u^2,                                               -0.5*P^x_+*e_d^2 + 0.5*P^x_+*e_u^2 - 0.25*e_d^2**2*(-P^x_+ + P^x_qq) + 0.25*e_u^2**2*(-P^x_+ + P^x_qq), 0.5*P^x_+*e_d^2 + 0.5*P^x_+*e_u^2 + 1.0*P_+ + 0.25*e_d^2**2*(-P^x_+ + P^x_qq) - 0.5*e_d^2*e_u^2*(-P^x_+ + P^x_qq) + 0.25*e_u^2**2*(-P^x_+ + P^x_qq),                                           0,                                           0,                         0,                         0,                         0,                         0, 0, 0, 0, 0],\n",
       "[                                       0,                                            0,                                                                                                                                                    0,                                                                                                                                                   0, 0.5*P^x_-*e_d^2 + 0.5*P^x_-*e_u^2 + 1.0*P_V,          -0.5*P^x_-*e_d^2 + 0.5*P^x_-*e_u^2,                         0,                         0,                         0,                         0, 0, 0, 0, 0],\n",
       "[                                       0,                                            0,                                                                                                                                                    0,                                                                                                                                                   0,          -0.5*P^x_-*e_d^2 + 0.5*P^x_-*e_u^2, 0.5*P^x_-*e_d^2 + 0.5*P^x_-*e_u^2 + 1.0*P_-,                         0,                         0,                         0,                         0, 0, 0, 0, 0],\n",
       "[                                       0,                                            0,                                                                                                                                                    0,                                                                                                                                                   0,                                           0,                                           0, 1.0*P^x_+*e_d^2 + 1.0*P_+,                         0,                         0,                         0, 0, 0, 0, 0],\n",
       "[                                       0,                                            0,                                                                                                                                                    0,                                                                                                                                                   0,                                           0,                                           0,                         0, 1.0*P^x_-*e_d^2 + 1.0*P_-,                         0,                         0, 0, 0, 0, 0],\n",
       "[                                       0,                                            0,                                                                                                                                                    0,                                                                                                                                                   0,                                           0,                                           0,                         0,                         0, 1.0*P^x_+*e_u^2 + 1.0*P_+,                         0, 0, 0, 0, 0],\n",
       "[                                       0,                                            0,                                                                                                                                                    0,                                                                                                                                                   0,                                           0,                                           0,                         0,                         0,                         0, 1.0*P^x_-*e_u^2 + 1.0*P_-, 0, 0, 0, 0],\n",
       "[                                       0,                                            0,                                                                                                                                                    0,                                                                                                                                                   0,                                           0,                                           0,                         0,                         0,                         0,                         0, 0, 0, 0, 0],\n",
       "[                                       0,                                            0,                                                                                                                                                    0,                                                                                                                                                   0,                                           0,                                           0,                         0,                         0,                         0,                         0, 0, 0, 0, 0],\n",
       "[                                       0,                                            0,                                                                                                                                                    0,                                                                                                                                                   0,                                           0,                                           0,                         0,                         0,                         0,                         0, 0, 0, 0, 0],\n",
       "[                                       0,                                            0,                                                                                                                                                    0,                                                                                                                                                   0,                                           0,                                           0,                         0,                         0,                         0,                         0, 0, 0, 0, 0]])"
      ]
     },
     "execution_count": 320,
     "metadata": {},
     "output_type": "execute_result"
    }
   ],
   "source": [
    "P_ev(4)"
   ]
  },
  {
   "cell_type": "code",
   "execution_count": 321,
   "id": "ce40d361",
   "metadata": {},
   "outputs": [
    {
     "data": {
      "text/latex": [
       "$\\displaystyle \\left[\\begin{array}{cccccccccccccc}P^{x}_{gg} \\left(3 e^{2}_{d} + 2 e^{2}_{u}\\right) + P_{gg} & P^{x}_{g\\gamma} \\left(3 e^{2}_{d} + 2 e^{2}_{u}\\right) & 0.6 P^{x}_{gq} e^{2}_{d} + 0.4 P^{x}_{gq} e^{2}_{u} + 1.0 P_{gq} & - 0.4 P^{x}_{gq} e^{2}_{d} + 0.4 P^{x}_{gq} e^{2}_{u} + 2.77555756156289 \\cdot 10^{-17} P_{gq} & 0 & 0 & 0 & 0 & 0 & 0 & 0 & 0 & 0 & 0\\\\P^{x}_{\\gamma g} \\left(3 e^{2}_{d} + 2 e^{2}_{u}\\right) & P^{x}_{\\gamma\\gamma} \\left(3 e^{2}_{d} + 2 e^{2}_{u}\\right) & 0.6 P^{x}_{\\gamma q} e^{2}_{d} + 0.4 P^{x}_{\\gamma q} e^{2}_{u} & - 0.4 P^{x}_{\\gamma q} e^{2}_{d} + 0.4 P^{x}_{\\gamma q} e^{2}_{u} & 0 & 0 & 0 & 0 & 0 & 0 & 0 & 0 & 0 & 0\\\\6 P^{x}_{qg} e^{2}_{d} + 4 P^{x}_{qg} e^{2}_{u} + 10 P_{qg} & 6 P^{x}_{q\\gamma} e^{2}_{d} + 4 P^{x}_{q\\gamma} e^{2}_{u} & 0.6 P^{x}_{+} e^{2}_{d} + 0.4 P^{x}_{+} e^{2}_{u} + 1.0 P_{qq} + 0.36 \\left(e^{2}_{d}\\right)^{2} \\left(- P^{x}_{+} + P^{x}_{qq}\\right) + 0.48 e^{2}_{d} e^{2}_{u} \\left(- P^{x}_{+} + P^{x}_{qq}\\right) + 0.16 \\left(e^{2}_{u}\\right)^{2} \\left(- P^{x}_{+} + P^{x}_{qq}\\right) & - 0.4 P^{x}_{+} e^{2}_{d} + 0.4 P^{x}_{+} e^{2}_{u} + 2.77555756156289 \\cdot 10^{-17} P_{+} - 0.24 \\left(e^{2}_{d}\\right)^{2} \\left(- P^{x}_{+} + P^{x}_{qq}\\right) + 0.08 e^{2}_{d} e^{2}_{u} \\left(- P^{x}_{+} + P^{x}_{qq}\\right) + 0.16 \\left(e^{2}_{u}\\right)^{2} \\left(- P^{x}_{+} + P^{x}_{qq}\\right) & 0 & 0 & 0 & 0 & 0 & 0 & 0 & 0 & 0 & 0\\\\- 6 P^{x}_{qg} e^{2}_{d} + 6.0 P^{x}_{qg} e^{2}_{u} & - 6 P^{x}_{q\\gamma} e^{2}_{d} + 6.0 P^{x}_{q\\gamma} e^{2}_{u} & - 0.6 P^{x}_{+} e^{2}_{d} + 0.6 P^{x}_{+} e^{2}_{u} + 5.55111512312578 \\cdot 10^{-17} P_{qq} - 0.36 \\left(e^{2}_{d}\\right)^{2} \\left(- P^{x}_{+} + P^{x}_{qq}\\right) + 0.12 e^{2}_{d} e^{2}_{u} \\left(- P^{x}_{+} + P^{x}_{qq}\\right) + 0.24 \\left(e^{2}_{u}\\right)^{2} \\left(- P^{x}_{+} + P^{x}_{qq}\\right) & 0.4 P^{x}_{+} e^{2}_{d} + 0.6 P^{x}_{+} e^{2}_{u} + 1.0 P_{+} + 0.24 \\left(e^{2}_{d}\\right)^{2} \\left(- P^{x}_{+} + P^{x}_{qq}\\right) - 0.48 e^{2}_{d} e^{2}_{u} \\left(- P^{x}_{+} + P^{x}_{qq}\\right) + 0.24 \\left(e^{2}_{u}\\right)^{2} \\left(- P^{x}_{+} + P^{x}_{qq}\\right) & 0 & 0 & 0 & 0 & 0 & 0 & 0 & 0 & 0 & 0\\\\0 & 0 & 0 & 0 & 0.6 P^{x}_{-} e^{2}_{d} + 0.4 P^{x}_{-} e^{2}_{u} + 1.0 P_{V} & - 0.4 P^{x}_{-} e^{2}_{d} + 0.4 P^{x}_{-} e^{2}_{u} + 2.77555756156289 \\cdot 10^{-17} P_{-} & 0 & 0 & 0 & 0 & 0 & 0 & 0 & 0\\\\0 & 0 & 0 & 0 & - 0.6 P^{x}_{-} e^{2}_{d} + 0.6 P^{x}_{-} e^{2}_{u} + 5.55111512312578 \\cdot 10^{-17} P_{V} & 0.4 P^{x}_{-} e^{2}_{d} + 0.6 P^{x}_{-} e^{2}_{u} + 1.0 P_{-} & 0 & 0 & 0 & 0 & 0 & 0 & 0 & 0\\\\0 & 0 & 0 & 0 & 0 & 0 & 1.0 P^{x}_{+} e^{2}_{d} + 1.0 P_{+} & 0 & 0 & 0 & 0 & 0 & 0 & 0\\\\0 & 0 & 0 & 0 & 0 & 0 & 0 & 1.0 P^{x}_{-} e^{2}_{d} + 1.0 P_{-} & 0 & 0 & 0 & 0 & 0 & 0\\\\0 & 0 & 0 & 0 & 0 & 0 & 0 & 0 & 1.0 P^{x}_{+} e^{2}_{u} + 1.0 P_{+} & 0 & 0 & 0 & 0 & 0\\\\0 & 0 & 0 & 0 & 0 & 0 & 0 & 0 & 0 & 1.0 P^{x}_{-} e^{2}_{u} + 1.0 P_{-} & 0 & 0 & 0 & 0\\\\0 & 0 & 0 & 0 & 0 & 0 & 0 & 0 & 0 & 0 & 1.0 P^{x}_{+} e^{2}_{d} + 1.0 P_{+} & 0 & 0 & 0\\\\0 & 0 & 0 & 0 & 0 & 0 & 0 & 0 & 0 & 0 & 0 & 1.0 P^{x}_{-} e^{2}_{d} + 1.0 P_{-} & 0 & 0\\\\0 & 0 & 0 & 0 & 0 & 0 & 0 & 0 & 0 & 0 & 0 & 0 & 0 & 0\\\\0 & 0 & 0 & 0 & 0 & 0 & 0 & 0 & 0 & 0 & 0 & 0 & 0 & 0\\end{array}\\right]$"
      ],
      "text/plain": [
       "Matrix([\n",
       "[        P^x_gg*(3*e_d^2 + 2*e_u^2) + P_gg,              P^x_g\\gamma*(3*e_d^2 + 2*e_u^2),                                                                                                                          0.6*P^x_gq*e_d^2 + 0.4*P^x_gq*e_u^2 + 1.0*P_gq,                                                                                                       -0.4*P^x_gq*e_d^2 + 0.4*P^x_gq*e_u^2 + 2.77555756156289e-17*P_gq,                                                             0,                                                             0,                         0,                         0,                         0,                         0,                         0,                         0, 0, 0],\n",
       "[         P^x_\\gamma g*(3*e_d^2 + 2*e_u^2),         P^x_\\gamma\\gamma*(3*e_d^2 + 2*e_u^2),                                                                                                                         0.6*P^x_\\gamma q*e_d^2 + 0.4*P^x_\\gamma q*e_u^2,                                                                                                                       -0.4*P^x_\\gamma q*e_d^2 + 0.4*P^x_\\gamma q*e_u^2,                                                             0,                                                             0,                         0,                         0,                         0,                         0,                         0,                         0, 0, 0],\n",
       "[6*P^x_qg*e_d^2 + 4*P^x_qg*e_u^2 + 10*P_qg,    6*P^x_q\\gamma*e_d^2 + 4*P^x_q\\gamma*e_u^2,                   0.6*P^x_+*e_d^2 + 0.4*P^x_+*e_u^2 + 1.0*P_qq + 0.36*e_d^2**2*(-P^x_+ + P^x_qq) + 0.48*e_d^2*e_u^2*(-P^x_+ + P^x_qq) + 0.16*e_u^2**2*(-P^x_+ + P^x_qq), -0.4*P^x_+*e_d^2 + 0.4*P^x_+*e_u^2 + 2.77555756156289e-17*P_+ - 0.24*e_d^2**2*(-P^x_+ + P^x_qq) + 0.08*e_d^2*e_u^2*(-P^x_+ + P^x_qq) + 0.16*e_u^2**2*(-P^x_+ + P^x_qq),                                                             0,                                                             0,                         0,                         0,                         0,                         0,                         0,                         0, 0, 0],\n",
       "[       -6*P^x_qg*e_d^2 + 6.0*P^x_qg*e_u^2, -6*P^x_q\\gamma*e_d^2 + 6.0*P^x_q\\gamma*e_u^2, -0.6*P^x_+*e_d^2 + 0.6*P^x_+*e_u^2 + 5.55111512312578e-17*P_qq - 0.36*e_d^2**2*(-P^x_+ + P^x_qq) + 0.12*e_d^2*e_u^2*(-P^x_+ + P^x_qq) + 0.24*e_u^2**2*(-P^x_+ + P^x_qq),                   0.4*P^x_+*e_d^2 + 0.6*P^x_+*e_u^2 + 1.0*P_+ + 0.24*e_d^2**2*(-P^x_+ + P^x_qq) - 0.48*e_d^2*e_u^2*(-P^x_+ + P^x_qq) + 0.24*e_u^2**2*(-P^x_+ + P^x_qq),                                                             0,                                                             0,                         0,                         0,                         0,                         0,                         0,                         0, 0, 0],\n",
       "[                                        0,                                            0,                                                                                                                                                                       0,                                                                                                                                                                      0,                   0.6*P^x_-*e_d^2 + 0.4*P^x_-*e_u^2 + 1.0*P_V, -0.4*P^x_-*e_d^2 + 0.4*P^x_-*e_u^2 + 2.77555756156289e-17*P_-,                         0,                         0,                         0,                         0,                         0,                         0, 0, 0],\n",
       "[                                        0,                                            0,                                                                                                                                                                       0,                                                                                                                                                                      0, -0.6*P^x_-*e_d^2 + 0.6*P^x_-*e_u^2 + 5.55111512312578e-17*P_V,                   0.4*P^x_-*e_d^2 + 0.6*P^x_-*e_u^2 + 1.0*P_-,                         0,                         0,                         0,                         0,                         0,                         0, 0, 0],\n",
       "[                                        0,                                            0,                                                                                                                                                                       0,                                                                                                                                                                      0,                                                             0,                                                             0, 1.0*P^x_+*e_d^2 + 1.0*P_+,                         0,                         0,                         0,                         0,                         0, 0, 0],\n",
       "[                                        0,                                            0,                                                                                                                                                                       0,                                                                                                                                                                      0,                                                             0,                                                             0,                         0, 1.0*P^x_-*e_d^2 + 1.0*P_-,                         0,                         0,                         0,                         0, 0, 0],\n",
       "[                                        0,                                            0,                                                                                                                                                                       0,                                                                                                                                                                      0,                                                             0,                                                             0,                         0,                         0, 1.0*P^x_+*e_u^2 + 1.0*P_+,                         0,                         0,                         0, 0, 0],\n",
       "[                                        0,                                            0,                                                                                                                                                                       0,                                                                                                                                                                      0,                                                             0,                                                             0,                         0,                         0,                         0, 1.0*P^x_-*e_u^2 + 1.0*P_-,                         0,                         0, 0, 0],\n",
       "[                                        0,                                            0,                                                                                                                                                                       0,                                                                                                                                                                      0,                                                             0,                                                             0,                         0,                         0,                         0,                         0, 1.0*P^x_+*e_d^2 + 1.0*P_+,                         0, 0, 0],\n",
       "[                                        0,                                            0,                                                                                                                                                                       0,                                                                                                                                                                      0,                                                             0,                                                             0,                         0,                         0,                         0,                         0,                         0, 1.0*P^x_-*e_d^2 + 1.0*P_-, 0, 0],\n",
       "[                                        0,                                            0,                                                                                                                                                                       0,                                                                                                                                                                      0,                                                             0,                                                             0,                         0,                         0,                         0,                         0,                         0,                         0, 0, 0],\n",
       "[                                        0,                                            0,                                                                                                                                                                       0,                                                                                                                                                                      0,                                                             0,                                                             0,                         0,                         0,                         0,                         0,                         0,                         0, 0, 0]])"
      ]
     },
     "execution_count": 321,
     "metadata": {},
     "output_type": "execute_result"
    }
   ],
   "source": [
    "P_ev(5)"
   ]
  },
  {
   "cell_type": "code",
   "execution_count": 322,
   "id": "3f014fa2",
   "metadata": {},
   "outputs": [
    {
     "data": {
      "text/latex": [
       "$\\displaystyle \\left[\\begin{array}{cccccccccccccc}P^{x}_{gg} \\left(3 e^{2}_{d} + 3 e^{2}_{u}\\right) + P_{gg} & P^{x}_{g\\gamma} \\left(3 e^{2}_{d} + 3 e^{2}_{u}\\right) & 0.5 P^{x}_{gq} e^{2}_{d} + 0.5 P^{x}_{gq} e^{2}_{u} + 1.0 P_{gq} & - 0.5 P^{x}_{gq} e^{2}_{d} + 0.5 P^{x}_{gq} e^{2}_{u} & 0 & 0 & 0 & 0 & 0 & 0 & 0 & 0 & 0 & 0\\\\P^{x}_{\\gamma g} \\left(3 e^{2}_{d} + 3 e^{2}_{u}\\right) & P^{x}_{\\gamma\\gamma} \\left(3 e^{2}_{d} + 3 e^{2}_{u}\\right) & 0.5 P^{x}_{\\gamma q} e^{2}_{d} + 0.5 P^{x}_{\\gamma q} e^{2}_{u} & - 0.5 P^{x}_{\\gamma q} e^{2}_{d} + 0.5 P^{x}_{\\gamma q} e^{2}_{u} & 0 & 0 & 0 & 0 & 0 & 0 & 0 & 0 & 0 & 0\\\\6 P^{x}_{qg} e^{2}_{d} + 6 P^{x}_{qg} e^{2}_{u} + 12 P_{qg} & 6 P^{x}_{q\\gamma} e^{2}_{d} + 6 P^{x}_{q\\gamma} e^{2}_{u} & 0.5 P^{x}_{+} e^{2}_{d} + 0.5 P^{x}_{+} e^{2}_{u} - 1.11022302462516 \\cdot 10^{-16} P_{+} + 1.0 P_{qq} + 0.25 \\left(e^{2}_{d}\\right)^{2} \\left(- P^{x}_{+} + P^{x}_{qq}\\right) + 0.5 e^{2}_{d} e^{2}_{u} \\left(- P^{x}_{+} + P^{x}_{qq}\\right) + 0.25 \\left(e^{2}_{u}\\right)^{2} \\left(- P^{x}_{+} + P^{x}_{qq}\\right) & - 0.5 P^{x}_{+} e^{2}_{d} + 0.5 P^{x}_{+} e^{2}_{u} - 0.25 \\left(e^{2}_{d}\\right)^{2} \\left(- P^{x}_{+} + P^{x}_{qq}\\right) + 0.25 \\left(e^{2}_{u}\\right)^{2} \\left(- P^{x}_{+} + P^{x}_{qq}\\right) & 0 & 0 & 0 & 0 & 0 & 0 & 0 & 0 & 0 & 0\\\\- 6 P^{x}_{qg} e^{2}_{d} + 6.0 P^{x}_{qg} e^{2}_{u} & - 6 P^{x}_{q\\gamma} e^{2}_{d} + 6.0 P^{x}_{q\\gamma} e^{2}_{u} & - 0.5 P^{x}_{+} e^{2}_{d} + 0.5 P^{x}_{+} e^{2}_{u} - 0.25 \\left(e^{2}_{d}\\right)^{2} \\left(- P^{x}_{+} + P^{x}_{qq}\\right) + 0.25 \\left(e^{2}_{u}\\right)^{2} \\left(- P^{x}_{+} + P^{x}_{qq}\\right) & 0.5 P^{x}_{+} e^{2}_{d} + 0.5 P^{x}_{+} e^{2}_{u} + 1.0 P_{+} + 0.25 \\left(e^{2}_{d}\\right)^{2} \\left(- P^{x}_{+} + P^{x}_{qq}\\right) - 0.5 e^{2}_{d} e^{2}_{u} \\left(- P^{x}_{+} + P^{x}_{qq}\\right) + 0.25 \\left(e^{2}_{u}\\right)^{2} \\left(- P^{x}_{+} + P^{x}_{qq}\\right) & 0 & 0 & 0 & 0 & 0 & 0 & 0 & 0 & 0 & 0\\\\0 & 0 & 0 & 0 & 0.5 P^{x}_{-} e^{2}_{d} + 0.5 P^{x}_{-} e^{2}_{u} - 1.11022302462516 \\cdot 10^{-16} P_{-} + 1.0 P_{V} & - 0.5 P^{x}_{-} e^{2}_{d} + 0.5 P^{x}_{-} e^{2}_{u} & 0 & 0 & 0 & 0 & 0 & 0 & 0 & 0\\\\0 & 0 & 0 & 0 & - 0.5 P^{x}_{-} e^{2}_{d} + 0.5 P^{x}_{-} e^{2}_{u} & 0.5 P^{x}_{-} e^{2}_{d} + 0.5 P^{x}_{-} e^{2}_{u} + 1.0 P_{-} & 0 & 0 & 0 & 0 & 0 & 0 & 0 & 0\\\\0 & 0 & 0 & 0 & 0 & 0 & 1.0 P^{x}_{+} e^{2}_{d} + 1.0 P_{+} & 0 & 0 & 0 & 0 & 0 & 0 & 0\\\\0 & 0 & 0 & 0 & 0 & 0 & 0 & 1.0 P^{x}_{-} e^{2}_{d} + 1.0 P_{-} & 0 & 0 & 0 & 0 & 0 & 0\\\\0 & 0 & 0 & 0 & 0 & 0 & 0 & 0 & 1.0 P^{x}_{+} e^{2}_{u} + 1.0 P_{+} & 0 & 0 & 0 & 0 & 0\\\\0 & 0 & 0 & 0 & 0 & 0 & 0 & 0 & 0 & 1.0 P^{x}_{-} e^{2}_{u} + 1.0 P_{-} & 0 & 0 & 0 & 0\\\\0 & 0 & 0 & 0 & 0 & 0 & 0 & 0 & 0 & 0 & 1.0 P^{x}_{+} e^{2}_{d} + 1.0 P_{+} & 0 & 0 & 0\\\\0 & 0 & 0 & 0 & 0 & 0 & 0 & 0 & 0 & 0 & 0 & 1.0 P^{x}_{-} e^{2}_{d} + 1.0 P_{-} & 0 & 0\\\\0 & 0 & 0 & 0 & 0 & 0 & 0 & 0 & 0 & 0 & 0 & 0 & 1.0 P^{x}_{+} e^{2}_{u} + 1.0 P_{+} & 0\\\\0 & 0 & 0 & 0 & 0 & 0 & 0 & 0 & 0 & 0 & 0 & 0 & 0 & 1.0 P^{x}_{-} e^{2}_{u} + 1.0 P_{-}\\end{array}\\right]$"
      ],
      "text/plain": [
       "Matrix([\n",
       "[        P^x_gg*(3*e_d^2 + 3*e_u^2) + P_gg,              P^x_g\\gamma*(3*e_d^2 + 3*e_u^2),                                                                                                                                  0.5*P^x_gq*e_d^2 + 0.5*P^x_gq*e_u^2 + 1.0*P_gq,                                                                                                                -0.5*P^x_gq*e_d^2 + 0.5*P^x_gq*e_u^2,                                                                      0,                                           0,                         0,                         0,                         0,                         0,                         0,                         0,                         0,                         0],\n",
       "[         P^x_\\gamma g*(3*e_d^2 + 3*e_u^2),         P^x_\\gamma\\gamma*(3*e_d^2 + 3*e_u^2),                                                                                                                                 0.5*P^x_\\gamma q*e_d^2 + 0.5*P^x_\\gamma q*e_u^2,                                                                                                    -0.5*P^x_\\gamma q*e_d^2 + 0.5*P^x_\\gamma q*e_u^2,                                                                      0,                                           0,                         0,                         0,                         0,                         0,                         0,                         0,                         0,                         0],\n",
       "[6*P^x_qg*e_d^2 + 6*P^x_qg*e_u^2 + 12*P_qg,    6*P^x_q\\gamma*e_d^2 + 6*P^x_q\\gamma*e_u^2, 0.5*P^x_+*e_d^2 + 0.5*P^x_+*e_u^2 - 1.11022302462516e-16*P_+ + 1.0*P_qq + 0.25*e_d^2**2*(-P^x_+ + P^x_qq) + 0.5*e_d^2*e_u^2*(-P^x_+ + P^x_qq) + 0.25*e_u^2**2*(-P^x_+ + P^x_qq),                                              -0.5*P^x_+*e_d^2 + 0.5*P^x_+*e_u^2 - 0.25*e_d^2**2*(-P^x_+ + P^x_qq) + 0.25*e_u^2**2*(-P^x_+ + P^x_qq),                                                                      0,                                           0,                         0,                         0,                         0,                         0,                         0,                         0,                         0,                         0],\n",
       "[       -6*P^x_qg*e_d^2 + 6.0*P^x_qg*e_u^2, -6*P^x_q\\gamma*e_d^2 + 6.0*P^x_q\\gamma*e_u^2,                                                                          -0.5*P^x_+*e_d^2 + 0.5*P^x_+*e_u^2 - 0.25*e_d^2**2*(-P^x_+ + P^x_qq) + 0.25*e_u^2**2*(-P^x_+ + P^x_qq), 0.5*P^x_+*e_d^2 + 0.5*P^x_+*e_u^2 + 1.0*P_+ + 0.25*e_d^2**2*(-P^x_+ + P^x_qq) - 0.5*e_d^2*e_u^2*(-P^x_+ + P^x_qq) + 0.25*e_u^2**2*(-P^x_+ + P^x_qq),                                                                      0,                                           0,                         0,                         0,                         0,                         0,                         0,                         0,                         0,                         0],\n",
       "[                                        0,                                            0,                                                                                                                                                                               0,                                                                                                                                                   0, 0.5*P^x_-*e_d^2 + 0.5*P^x_-*e_u^2 - 1.11022302462516e-16*P_- + 1.0*P_V,          -0.5*P^x_-*e_d^2 + 0.5*P^x_-*e_u^2,                         0,                         0,                         0,                         0,                         0,                         0,                         0,                         0],\n",
       "[                                        0,                                            0,                                                                                                                                                                               0,                                                                                                                                                   0,                                     -0.5*P^x_-*e_d^2 + 0.5*P^x_-*e_u^2, 0.5*P^x_-*e_d^2 + 0.5*P^x_-*e_u^2 + 1.0*P_-,                         0,                         0,                         0,                         0,                         0,                         0,                         0,                         0],\n",
       "[                                        0,                                            0,                                                                                                                                                                               0,                                                                                                                                                   0,                                                                      0,                                           0, 1.0*P^x_+*e_d^2 + 1.0*P_+,                         0,                         0,                         0,                         0,                         0,                         0,                         0],\n",
       "[                                        0,                                            0,                                                                                                                                                                               0,                                                                                                                                                   0,                                                                      0,                                           0,                         0, 1.0*P^x_-*e_d^2 + 1.0*P_-,                         0,                         0,                         0,                         0,                         0,                         0],\n",
       "[                                        0,                                            0,                                                                                                                                                                               0,                                                                                                                                                   0,                                                                      0,                                           0,                         0,                         0, 1.0*P^x_+*e_u^2 + 1.0*P_+,                         0,                         0,                         0,                         0,                         0],\n",
       "[                                        0,                                            0,                                                                                                                                                                               0,                                                                                                                                                   0,                                                                      0,                                           0,                         0,                         0,                         0, 1.0*P^x_-*e_u^2 + 1.0*P_-,                         0,                         0,                         0,                         0],\n",
       "[                                        0,                                            0,                                                                                                                                                                               0,                                                                                                                                                   0,                                                                      0,                                           0,                         0,                         0,                         0,                         0, 1.0*P^x_+*e_d^2 + 1.0*P_+,                         0,                         0,                         0],\n",
       "[                                        0,                                            0,                                                                                                                                                                               0,                                                                                                                                                   0,                                                                      0,                                           0,                         0,                         0,                         0,                         0,                         0, 1.0*P^x_-*e_d^2 + 1.0*P_-,                         0,                         0],\n",
       "[                                        0,                                            0,                                                                                                                                                                               0,                                                                                                                                                   0,                                                                      0,                                           0,                         0,                         0,                         0,                         0,                         0,                         0, 1.0*P^x_+*e_u^2 + 1.0*P_+,                         0],\n",
       "[                                        0,                                            0,                                                                                                                                                                               0,                                                                                                                                                   0,                                                                      0,                                           0,                         0,                         0,                         0,                         0,                         0,                         0,                         0, 1.0*P^x_-*e_u^2 + 1.0*P_-]])"
      ]
     },
     "execution_count": 322,
     "metadata": {},
     "output_type": "execute_result"
    }
   ],
   "source": [
    "P_ev(6)"
   ]
  },
  {
   "cell_type": "code",
   "execution_count": 323,
   "id": "53626511",
   "metadata": {},
   "outputs": [],
   "source": [
    "def eD2_(nf):\n",
    "    nu = int(nf/2)\n",
    "    nd = nf - nu\n",
    "    return nd*eu2 + nu*ed2\n",
    "def etam_(nf):\n",
    "    nu = int(nf/2)\n",
    "    nd = nf - nu\n",
    "    return 0.5*(eu2 - ed2)"
   ]
  },
  {
   "cell_type": "code",
   "execution_count": 324,
   "id": "9c9ce615",
   "metadata": {},
   "outputs": [],
   "source": [
    "def P_ev_sing(nf):\n",
    "    return P_ev(nf)[:4,:4]\n",
    "\n",
    "def P_ev_val(nf):\n",
    "    return P_ev(nf)[4:6,4:6]"
   ]
  },
  {
   "cell_type": "code",
   "execution_count": 1,
   "id": "5267ab16",
   "metadata": {},
   "outputs": [],
   "source": [
    "def P_ev_sing2(nf):\n",
    "    es2=es2_(nf)\n",
    "    eD2=eD2_(nf)\n",
    "    etam=etam_(nf)\n",
    "    nu = int(nf/2)\n",
    "    nd = nf - nu\n",
    "    res = sympy.Matrix([\n",
    "        [Pgg + es2 * Pxgg, es2 * Pxgy, Pgq + es2/nf*Pxgq, 2*nu/nf*etam*Pxgq],\n",
    "        [es2 * Pxyg, es2 * Pxyy, es2/nf*Pxyq, 2*nu/nf*etam*Pxyq],\n",
    "        [2*nf*Pqg + 2*es2*Pxqg, 2*es2 * Pxqy, Pqq + es2/nf*Pxp +(es2/nf)**2*(Pxqq - Pxp), 2*nu/nf*etam*Pxp +2*nu*etam*es2/nf**2*(Pxqq - Pxp)],\n",
    "        [4*nd*etam*Pxqg, 4*nd*etam*Pxqy, 2*nd/nf*etam*Pxp +2*nd*etam*es2/nf**2*(Pxqq - Pxp), Pp + eD2/nf*Pxp + 4*nu*nd/nf**2*etam**2*(Pxqq - Pxp)]\n",
    "    ])\n",
    "    return res\n",
    "\n",
    "def P_ev_val2(nf):\n",
    "    es2=es2_(nf)\n",
    "    eD2=eD2_(nf)\n",
    "    etam=etam_(nf)\n",
    "    nu = int(nf/2)\n",
    "    nd = nf - nu\n",
    "    res = sympy.Matrix([\n",
    "        [Pv+es2/nf*Pxm, 2*nu/nf*etam*Pxm],\n",
    "        [2*nd/nf*etam*Pxm, Pm + eD2/nf*Pxm]\n",
    "    ])\n",
    "    return res"
   ]
  },
  {
   "cell_type": "code",
   "execution_count": 2,
   "id": "a47dc3b2",
   "metadata": {},
   "outputs": [
    {
     "ename": "NameError",
     "evalue": "name 'sympy' is not defined",
     "output_type": "error",
     "traceback": [
      "\u001b[0;31m---------------------------------------------------------------------------\u001b[0m",
      "\u001b[0;31mNameError\u001b[0m                                 Traceback (most recent call last)",
      "\u001b[0;32m/var/folders/9_/b6wkhsvj63jg9wr71d3_kgqw0000gn/T/ipykernel_2455/3287418665.py\u001b[0m in \u001b[0;36m<module>\u001b[0;34m\u001b[0m\n\u001b[0;32m----> 1\u001b[0;31m \u001b[0msympy\u001b[0m\u001b[0;34m.\u001b[0m\u001b[0msimplify\u001b[0m\u001b[0;34m(\u001b[0m\u001b[0mP_ev_sing\u001b[0m\u001b[0;34m(\u001b[0m\u001b[0;36m2\u001b[0m\u001b[0;34m)\u001b[0m\u001b[0;34m-\u001b[0m\u001b[0mP_ev_sing2\u001b[0m\u001b[0;34m(\u001b[0m\u001b[0;36m2\u001b[0m\u001b[0;34m)\u001b[0m\u001b[0;34m)\u001b[0m\u001b[0;34m\u001b[0m\u001b[0;34m\u001b[0m\u001b[0m\n\u001b[0m",
      "\u001b[0;31mNameError\u001b[0m: name 'sympy' is not defined"
     ]
    }
   ],
   "source": [
    "sympy.simplify(P_ev_sing(2)-P_ev_sing2(2))"
   ]
  },
  {
   "cell_type": "code",
   "execution_count": 327,
   "id": "6fddcd7c",
   "metadata": {},
   "outputs": [
    {
     "data": {
      "text/latex": [
       "$\\displaystyle \\left[\\begin{matrix}0 & 0 & 0 & 0\\\\0 & 0 & 0 & 0\\\\0 & 0 & 0 & 0\\\\0 & 0 & 0 & - 1.11022302462516 \\cdot 10^{-16} P_{+}\\end{matrix}\\right]$"
      ],
      "text/plain": [
       "Matrix([\n",
       "[0, 0, 0,                         0],\n",
       "[0, 0, 0,                         0],\n",
       "[0, 0, 0,                         0],\n",
       "[0, 0, 0, -1.11022302462516e-16*P_+]])"
      ]
     },
     "execution_count": 327,
     "metadata": {},
     "output_type": "execute_result"
    }
   ],
   "source": [
    "sympy.simplify(P_ev_sing(3)-P_ev_sing2(3))"
   ]
  },
  {
   "cell_type": "code",
   "execution_count": 328,
   "id": "f151ecdd",
   "metadata": {},
   "outputs": [
    {
     "data": {
      "text/latex": [
       "$\\displaystyle \\left[\\begin{matrix}0 & 0 & 0 & 0\\\\0 & 0 & 0 & 0\\\\0 & 0 & 0 & 0\\\\0 & 0 & 0 & 0\\end{matrix}\\right]$"
      ],
      "text/plain": [
       "Matrix([\n",
       "[0, 0, 0, 0],\n",
       "[0, 0, 0, 0],\n",
       "[0, 0, 0, 0],\n",
       "[0, 0, 0, 0]])"
      ]
     },
     "execution_count": 328,
     "metadata": {},
     "output_type": "execute_result"
    }
   ],
   "source": [
    "sympy.simplify(P_ev_sing(4)-P_ev_sing2(4))"
   ]
  },
  {
   "cell_type": "code",
   "execution_count": 329,
   "id": "e49bef49",
   "metadata": {},
   "outputs": [
    {
     "data": {
      "text/latex": [
       "$\\displaystyle \\left[\\begin{matrix}0 & 0 & 8.88178419700125 \\cdot 10^{-17} P^{x}_{gq} e^{2}_{d} & 2.77555756156289 \\cdot 10^{-17} P_{gq}\\\\0 & 0 & 8.88178419700125 \\cdot 10^{-17} P^{x}_{\\gamma q} e^{2}_{d} & 0\\\\0 & 0 & 7.105427357601 \\cdot 10^{-17} P^{x}_{+} e^{2}_{d} - 3.5527136788005 \\cdot 10^{-17} P^{x}_{+} \\left(e^{2}_{u}\\right)^{2} + 3.5527136788005 \\cdot 10^{-17} P^{x}_{qq} \\left(e^{2}_{u}\\right)^{2} & 4.16333634234434 \\cdot 10^{-17} P^{x}_{+} e^{2}_{d} e^{2}_{u} - 2.77555756156289 \\cdot 10^{-17} P^{x}_{+} \\left(e^{2}_{u}\\right)^{2} - 4.16333634234434 \\cdot 10^{-17} P^{x}_{qq} e^{2}_{d} e^{2}_{u} + 2.77555756156289 \\cdot 10^{-17} P^{x}_{qq} \\left(e^{2}_{u}\\right)^{2} + 2.77555756156289 \\cdot 10^{-17} P_{+}\\\\0 & 0 & - 5.55111512312578 \\cdot 10^{-17} P^{x}_{+} e^{2}_{d} e^{2}_{u} - 1.11022302462516 \\cdot 10^{-16} P^{x}_{+} e^{2}_{d} - 5.55111512312578 \\cdot 10^{-17} P^{x}_{+} \\left(e^{2}_{u}\\right)^{2} + 1.11022302462516 \\cdot 10^{-16} P^{x}_{+} e^{2}_{u} + 5.55111512312578 \\cdot 10^{-17} P^{x}_{qq} e^{2}_{d} e^{2}_{u} + 5.55111512312578 \\cdot 10^{-17} P^{x}_{qq} \\left(e^{2}_{u}\\right)^{2} + 5.55111512312578 \\cdot 10^{-17} P_{qq} & e^{2}_{u} \\left(8.88178419700125 \\cdot 10^{-17} P^{x}_{+} e^{2}_{d} - 4.44089209850063 \\cdot 10^{-17} P^{x}_{+} e^{2}_{u} + 8.88178419700125 \\cdot 10^{-17} P^{x}_{+} - 8.88178419700125 \\cdot 10^{-17} P^{x}_{qq} e^{2}_{d} + 4.44089209850063 \\cdot 10^{-17} P^{x}_{qq} e^{2}_{u}\\right)\\end{matrix}\\right]$"
      ],
      "text/plain": [
       "Matrix([\n",
       "[0, 0,                                                                                                                                                                                                                                8.88178419700125e-17*P^x_gq*e_d^2,                                                                                                                                                                2.77555756156289e-17*P_gq],\n",
       "[0, 0,                                                                                                                                                                                                                          8.88178419700125e-17*P^x_\\gamma q*e_d^2,                                                                                                                                                                                        0],\n",
       "[0, 0,                                                                                                                                                        7.105427357601e-17*P^x_+*e_d^2 - 3.5527136788005e-17*P^x_+*e_u^2**2 + 3.5527136788005e-17*P^x_qq*e_u^2**2, 4.16333634234434e-17*P^x_+*e_d^2*e_u^2 - 2.77555756156289e-17*P^x_+*e_u^2**2 - 4.16333634234434e-17*P^x_qq*e_d^2*e_u^2 + 2.77555756156289e-17*P^x_qq*e_u^2**2 + 2.77555756156289e-17*P_+],\n",
       "[0, 0, -5.55111512312578e-17*P^x_+*e_d^2*e_u^2 - 1.11022302462516e-16*P^x_+*e_d^2 - 5.55111512312578e-17*P^x_+*e_u^2**2 + 1.11022302462516e-16*P^x_+*e_u^2 + 5.55111512312578e-17*P^x_qq*e_d^2*e_u^2 + 5.55111512312578e-17*P^x_qq*e_u^2**2 + 5.55111512312578e-17*P_qq,         e_u^2*(8.88178419700125e-17*P^x_+*e_d^2 - 4.44089209850063e-17*P^x_+*e_u^2 + 8.88178419700125e-17*P^x_+ - 8.88178419700125e-17*P^x_qq*e_d^2 + 4.44089209850063e-17*P^x_qq*e_u^2)]])"
      ]
     },
     "execution_count": 329,
     "metadata": {},
     "output_type": "execute_result"
    }
   ],
   "source": [
    "sympy.simplify(P_ev_sing(5)-P_ev_sing2(5))"
   ]
  },
  {
   "cell_type": "code",
   "execution_count": 330,
   "id": "82b3e343",
   "metadata": {},
   "outputs": [
    {
     "data": {
      "text/latex": [
       "$\\displaystyle \\left[\\begin{matrix}0 & 0 & - 1.11022302462516 \\cdot 10^{-16} P_{gq} & 0\\\\0 & 0 & 0 & 0\\\\0 & 0 & - 1.11022302462516 \\cdot 10^{-16} P_{+} & 0\\\\0 & 0 & 0 & - 1.11022302462516 \\cdot 10^{-16} P_{+}\\end{matrix}\\right]$"
      ],
      "text/plain": [
       "Matrix([\n",
       "[0, 0, -1.11022302462516e-16*P_gq,                         0],\n",
       "[0, 0,                          0,                         0],\n",
       "[0, 0,  -1.11022302462516e-16*P_+,                         0],\n",
       "[0, 0,                          0, -1.11022302462516e-16*P_+]])"
      ]
     },
     "execution_count": 330,
     "metadata": {},
     "output_type": "execute_result"
    }
   ],
   "source": [
    "sympy.simplify(P_ev_sing(6)-P_ev_sing2(6))"
   ]
  },
  {
   "cell_type": "code",
   "execution_count": 331,
   "id": "a9f61d31",
   "metadata": {},
   "outputs": [
    {
     "data": {
      "text/latex": [
       "$\\displaystyle \\left[\\begin{matrix}0 & 0\\\\0 & 0\\end{matrix}\\right]$"
      ],
      "text/plain": [
       "Matrix([\n",
       "[0, 0],\n",
       "[0, 0]])"
      ]
     },
     "execution_count": 331,
     "metadata": {},
     "output_type": "execute_result"
    }
   ],
   "source": [
    "sympy.simplify(P_ev_val(2)-P_ev_val2(2))"
   ]
  },
  {
   "cell_type": "code",
   "execution_count": 332,
   "id": "3e91130a",
   "metadata": {},
   "outputs": [
    {
     "data": {
      "text/latex": [
       "$\\displaystyle \\left[\\begin{matrix}0 & 0\\\\0 & - 1.11022302462516 \\cdot 10^{-16} P_{-}\\end{matrix}\\right]$"
      ],
      "text/plain": [
       "Matrix([\n",
       "[0,                         0],\n",
       "[0, -1.11022302462516e-16*P_-]])"
      ]
     },
     "execution_count": 332,
     "metadata": {},
     "output_type": "execute_result"
    }
   ],
   "source": [
    "sympy.simplify(P_ev_val(3)-P_ev_val2(3))"
   ]
  },
  {
   "cell_type": "code",
   "execution_count": 333,
   "id": "6f5e4417",
   "metadata": {},
   "outputs": [
    {
     "data": {
      "text/latex": [
       "$\\displaystyle \\left[\\begin{matrix}0 & 0\\\\0 & 0\\end{matrix}\\right]$"
      ],
      "text/plain": [
       "Matrix([\n",
       "[0, 0],\n",
       "[0, 0]])"
      ]
     },
     "execution_count": 333,
     "metadata": {},
     "output_type": "execute_result"
    }
   ],
   "source": [
    "sympy.simplify(P_ev_val(4)-P_ev_val2(4))"
   ]
  },
  {
   "cell_type": "code",
   "execution_count": 334,
   "id": "768a92b2",
   "metadata": {},
   "outputs": [
    {
     "data": {
      "text/latex": [
       "$\\displaystyle \\left[\\begin{matrix}8.88178419700125 \\cdot 10^{-17} P^{x}_{-} e^{2}_{d} & 2.77555756156289 \\cdot 10^{-17} P_{-}\\\\- 1.11022302462516 \\cdot 10^{-16} P^{x}_{-} e^{2}_{d} + 1.11022302462516 \\cdot 10^{-16} P^{x}_{-} e^{2}_{u} + 5.55111512312578 \\cdot 10^{-17} P_{V} & 8.88178419700125 \\cdot 10^{-17} P^{x}_{-} e^{2}_{u}\\end{matrix}\\right]$"
      ],
      "text/plain": [
       "Matrix([\n",
       "[                                                               8.88178419700125e-17*P^x_-*e_d^2,         2.77555756156289e-17*P_-],\n",
       "[-1.11022302462516e-16*P^x_-*e_d^2 + 1.11022302462516e-16*P^x_-*e_u^2 + 5.55111512312578e-17*P_V, 8.88178419700125e-17*P^x_-*e_u^2]])"
      ]
     },
     "execution_count": 334,
     "metadata": {},
     "output_type": "execute_result"
    }
   ],
   "source": [
    "sympy.simplify(P_ev_val(5)-P_ev_val2(5))"
   ]
  },
  {
   "cell_type": "code",
   "execution_count": 335,
   "id": "82565536",
   "metadata": {},
   "outputs": [
    {
     "data": {
      "text/latex": [
       "$\\displaystyle \\left[\\begin{matrix}- 1.11022302462516 \\cdot 10^{-16} P_{-} & 0\\\\0 & - 1.11022302462516 \\cdot 10^{-16} P_{-}\\end{matrix}\\right]$"
      ],
      "text/plain": [
       "Matrix([\n",
       "[-1.11022302462516e-16*P_-,                         0],\n",
       "[                        0, -1.11022302462516e-16*P_-]])"
      ]
     },
     "execution_count": 335,
     "metadata": {},
     "output_type": "execute_result"
    }
   ],
   "source": [
    "sympy.simplify(P_ev_val(6)-P_ev_val2(6))"
   ]
  },
  {
   "cell_type": "code",
   "execution_count": null,
   "id": "26d06926",
   "metadata": {},
   "outputs": [],
   "source": []
  }
 ],
 "metadata": {
  "kernelspec": {
   "display_name": "Python 3 (ipykernel)",
   "language": "python",
   "name": "python3"
  },
  "language_info": {
   "codemirror_mode": {
    "name": "ipython",
    "version": 3
   },
   "file_extension": ".py",
   "mimetype": "text/x-python",
   "name": "python",
   "nbconvert_exporter": "python",
   "pygments_lexer": "ipython3",
   "version": "3.8.12"
  }
 },
 "nbformat": 4,
 "nbformat_minor": 5
}
