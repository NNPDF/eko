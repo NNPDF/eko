{
 "cells": [
  {
   "cell_type": "markdown",
   "id": "4790b144-ceb5-4cba-87a5-ca2fd37e5912",
   "metadata": {},
   "source": [
    "# Unified DGLAP"
   ]
  },
  {
   "cell_type": "code",
   "execution_count": 1,
   "id": "1d7616d9-f4a3-447a-9ebf-e99db8126ffb",
   "metadata": {},
   "outputs": [],
   "source": [
    "import sympy"
   ]
  },
  {
   "cell_type": "code",
   "execution_count": 3,
   "id": "cb36381d-57b5-4972-b028-cf4b6300938f",
   "metadata": {},
   "outputs": [],
   "source": [
    "# QCD\n",
    "Pv, Pp, Pm, Pqq, Pqg, Pgq, Pgg = sympy.symbols(\"P_V P_+ P_- P_qq P_qg P_gq P_gg\")\n",
    "nf = sympy.symbols(\"n_f\")\n",
    "P_qcd = sympy.Array([[Pp, 0, 2 * Pqg, 0, 0, 0],\n",
    "                 [0, Pp, 2 * Pqg, 0, 0, 0],\n",
    "                 [Pgq, Pgq, Pgg, 0, 0, 0],\n",
    "                 [0, 0, 0, 0, 0, 0],\n",
    "                 [0, 0, 0, 0, Pm, 0],\n",
    "                 [0, 0, 0, 0, 0, Pm]])\n",
    "Ps_qcd = sympy.Array([[Pqq - Pp, Pqq - Pp, 0, 0, 0, 0],\n",
    "                        [Pqq - Pp, Pqq - Pp, 0, 0, 0, 0],\n",
    "                        [0, 0, 0, 0, 0, 0],\n",
    "                        [0, 0, 0, 0, 0, 0],\n",
    "                        [0, 0, 0, 0, Pv - Pm, Pv - Pm],\n",
    "                        [0, 0, 0, 0, Pv - Pm, Pv - Pm]]) / nf\n",
    "# QED\n",
    "Pxv, Pxp, Pxm, Pxqq, Pxqg, Pxgq, Pxgg = sympy.symbols(\"P^x_V P^x_+ P^x_- P^x_qq P^x_qg P^x_gq P^x_gg\")\n",
    "Pxqy, Pxyq, Pxyg, Pxgy, Pxyy = sympy.symbols(\"P^x_q\\gamma P^x_\\gamma\\q P^x_\\gamma\\g P^x_g\\gamma P^x_\\gamma\\gamma\")\n",
    "eu2, ed2, es2 = sympy.symbols(\"e_u^2 e_d^2 e_\\Sigma^2\") # charges\n",
    "P_qed = sympy.Array([[eu2 * Pxp, 0, 2 * eu2 * Pxqg, 2 * eu2 * Pxqy, 0, 0],\n",
    "                 [0, ed2 * Pxp, 2 * ed2 * Pxqg, 2 * ed2 * Pxqy, 0, 0],\n",
    "                 [eu2 * Pxgq, ed2 * Pxgq, es2 * Pxgg, es2 * Pxgy, 0, 0],\n",
    "                 [eu2 * Pxyq, ed2 * Pxyq, es2 * Pxyg, es2 * Pxyy, 0, 0],\n",
    "                 [0, 0, 0, 0, ed2 * Pxm, 0],\n",
    "                 [0, 0, 0, 0, 0, eu2 * Pxm]])\n",
    "Ps_qed = sympy.Array([[eu2**2 * (Pxqq - Pxp), eu2 * ed2 * (Pxqq - Pxp), 0, 0, 0, 0],\n",
    "                      [eu2 * ed2 * (Pxqq - Pxp), ed2**2 * (Pxqq - Pxp), 0, 0, 0, 0],\n",
    "                      [0, 0, 0, 0, 0, 0],\n",
    "                      [0, 0, 0, 0, 0, 0],\n",
    "                      [0, 0, 0, 0, 0, 0],\n",
    "                      [0, 0, 0, 0, 0, 0]]) / nf"
   ]
  },
  {
   "cell_type": "code",
   "execution_count": 4,
   "id": "1be60cdd-e84d-4230-ba24-cbe7c59b86b4",
   "metadata": {},
   "outputs": [],
   "source": [
    "rot3 = sympy.Array([[1, 1, 1, 0, 0, 0, 0, 0],\n",
    "                  [2, -1, -1, 0, 0, 0, 0, 0],\n",
    "                  [0, 0, 0, 1, 1, 1, 0, 0],\n",
    "                  [0, 0, 0, 0, 1, -1, 0, 0],\n",
    "                  [0, 1, -1, 0, 0, 0, 0, 0],\n",
    "                  [0, 0, 0, 2, -1, -1, 0, 0],\n",
    "                  [0, 0, 0, 0, 0, 0, 1, 0],\n",
    "                  [0, 0, 0, 0, 0, 0, 0, 1]])"
   ]
  },
  {
   "cell_type": "code",
   "execution_count": 5,
   "id": "bec96505-4cdb-4c5e-b107-6d3abdaaf2e8",
   "metadata": {},
   "outputs": [],
   "source": [
    "P3 = {}\n",
    "ns, s, qed, qcd = \"ns\", \"s\", \"qed\", \"qcd\"\n",
    "P3[ns, qcd] = sympy.Array.zeros(8,8).as_mutable()\n",
    "P3[ns, qed] = sympy.Array.zeros(8,8)\n",
    "P3[s, qcd] =  sympy.Array.zeros(8,8)\n",
    "P3[s, qed] =  sympy.Array.zeros(8,8)"
   ]
  },
  {
   "cell_type": "code",
   "execution_count": 6,
   "id": "82dc84f7-fa49-443e-a36b-7e241038b7a7",
   "metadata": {},
   "outputs": [],
   "source": [
    "P3[ns, qcd][0, 0] = Pxyy"
   ]
  },
  {
   "cell_type": "code",
   "execution_count": 7,
   "id": "ea5e0bfb-d3ea-4ec5-aeb3-ca11a1f5ddad",
   "metadata": {},
   "outputs": [
    {
     "data": {
      "text/latex": [
       "$\\displaystyle \\left[\\begin{matrix}P^{x}_{\\gamma\\gamma} & 0 & 0 & 0 & 0 & 0 & 0 & 0\\\\0 & 0 & 0 & 0 & 0 & 0 & 0 & 0\\\\0 & 0 & 0 & 0 & 0 & 0 & 0 & 0\\\\0 & 0 & 0 & 0 & 0 & 0 & 0 & 0\\\\0 & 0 & 0 & 0 & 0 & 0 & 0 & 0\\\\0 & 0 & 0 & 0 & 0 & 0 & 0 & 0\\\\0 & 0 & 0 & 0 & 0 & 0 & 0 & 0\\\\0 & 0 & 0 & 0 & 0 & 0 & 0 & 0\\end{matrix}\\right]$"
      ],
      "text/plain": [
       "[[P^x_\\gamma\\gamma, 0, 0, 0, 0, 0, 0, 0], [0, 0, 0, 0, 0, 0, 0, 0], [0, 0, 0, 0, 0, 0, 0, 0], [0, 0, 0, 0, 0, 0, 0, 0], [0, 0, 0, 0, 0, 0, 0, 0], [0, 0, 0, 0, 0, 0, 0, 0], [0, 0, 0, 0, 0, 0, 0, 0], [0, 0, 0, 0, 0, 0, 0, 0]]"
      ]
     },
     "execution_count": 7,
     "metadata": {},
     "output_type": "execute_result"
    }
   ],
   "source": [
    "P3[ns, qcd]"
   ]
  },
  {
   "cell_type": "code",
   "execution_count": 69,
   "id": "eea413d6-90b9-4f5d-bf96-c8dbc0d22256",
   "metadata": {},
   "outputs": [],
   "source": [
    "def pqcd(n):\n",
    "    res = sympy.Array.zeros(8,8).as_mutable()\n",
    "    \n",
    "    res[-2, -2] = Pgg\n",
    "    res[-1, -1] = 0\n",
    "    return res"
   ]
  },
  {
   "cell_type": "code",
   "execution_count": 70,
   "id": "35df2f71-58b0-4e28-bfff-4efd2149abbe",
   "metadata": {},
   "outputs": [
    {
     "data": {
      "text/latex": [
       "$\\displaystyle \\left[\\begin{matrix}0 & 0 & 0 & 0 & 0 & 0 & 0 & 0\\\\0 & 0 & 0 & 0 & 0 & 0 & 0 & 0\\\\0 & 0 & 0 & 0 & 0 & 0 & 0 & 0\\\\0 & 0 & 0 & 0 & 0 & 0 & 0 & 0\\\\0 & 0 & 0 & 0 & 0 & 0 & 0 & 0\\\\0 & 0 & 0 & 0 & 0 & 0 & 0 & 0\\\\0 & 0 & 0 & 0 & 0 & 0 & P_{gg} & 0\\\\0 & 0 & 0 & 0 & 0 & 0 & 0 & 0\\end{matrix}\\right]$"
      ],
      "text/plain": [
       "[[0, 0, 0, 0, 0, 0, 0, 0], [0, 0, 0, 0, 0, 0, 0, 0], [0, 0, 0, 0, 0, 0, 0, 0], [0, 0, 0, 0, 0, 0, 0, 0], [0, 0, 0, 0, 0, 0, 0, 0], [0, 0, 0, 0, 0, 0, 0, 0], [0, 0, 0, 0, 0, 0, P_gg, 0], [0, 0, 0, 0, 0, 0, 0, 0]]"
      ]
     },
     "execution_count": 70,
     "metadata": {},
     "output_type": "execute_result"
    }
   ],
   "source": [
    "pqcd(3)"
   ]
  },
  {
   "cell_type": "code",
   "execution_count": 71,
   "id": "4d2a139a-4c02-47c8-a79d-8b74e29998f0",
   "metadata": {},
   "outputs": [],
   "source": [
    "def pqed(n):\n",
    "    res = sympy.Array.zeros(8,8).as_mutable()\n",
    "    \n",
    "    res[-2, -2] = Pxgg\n",
    "    res[-1, -1] = Pxyy\n",
    "    return res"
   ]
  },
  {
   "cell_type": "code",
   "execution_count": 72,
   "id": "2daa47a5-e000-4d40-90f2-1cb11863e871",
   "metadata": {},
   "outputs": [
    {
     "data": {
      "text/latex": [
       "$\\displaystyle \\left[\\begin{matrix}0 & 0 & 0 & 0 & 0 & 0 & 0 & 0\\\\0 & 0 & 0 & 0 & 0 & 0 & 0 & 0\\\\0 & 0 & 0 & 0 & 0 & 0 & 0 & 0\\\\0 & 0 & 0 & 0 & 0 & 0 & 0 & 0\\\\0 & 0 & 0 & 0 & 0 & 0 & 0 & 0\\\\0 & 0 & 0 & 0 & 0 & 0 & 0 & 0\\\\0 & 0 & 0 & 0 & 0 & 0 & P^{x}_{gg} & 0\\\\0 & 0 & 0 & 0 & 0 & 0 & 0 & P^{x}_{\\gamma\\gamma}\\end{matrix}\\right]$"
      ],
      "text/plain": [
       "[[0, 0, 0, 0, 0, 0, 0, 0], [0, 0, 0, 0, 0, 0, 0, 0], [0, 0, 0, 0, 0, 0, 0, 0], [0, 0, 0, 0, 0, 0, 0, 0], [0, 0, 0, 0, 0, 0, 0, 0], [0, 0, 0, 0, 0, 0, 0, 0], [0, 0, 0, 0, 0, 0, P^x_gg, 0], [0, 0, 0, 0, 0, 0, 0, P^x_\\gamma\\gamma]]"
      ]
     },
     "execution_count": 72,
     "metadata": {},
     "output_type": "execute_result"
    }
   ],
   "source": [
    "pqed(3)"
   ]
  },
  {
   "cell_type": "code",
   "execution_count": 74,
   "id": "dd594f07-85d0-48c7-940b-a47a4e0ed75d",
   "metadata": {},
   "outputs": [
    {
     "data": {
      "text/latex": [
       "$\\displaystyle \\left[\\begin{matrix}1 & 1 & 1 & 0 & 0 & 0 & 0 & 0\\\\2 & -1 & -1 & 0 & 0 & 0 & 0 & 0\\\\0 & 0 & 0 & 1 & 1 & 1 & 0 & 0\\\\0 & 0 & 0 & 0 & 1 & -1 & 0 & 0\\\\0 & 1 & -1 & 0 & 0 & 0 & 0 & 0\\\\0 & 0 & 0 & 2 & -1 & -1 & 0 & 0\\\\0 & 0 & 0 & 0 & 0 & 0 & 1 & 0\\\\0 & 0 & 0 & 0 & 0 & 0 & 0 & 1\\end{matrix}\\right]$"
      ],
      "text/plain": [
       "[[1, 1, 1, 0, 0, 0, 0, 0], [2, -1, -1, 0, 0, 0, 0, 0], [0, 0, 0, 1, 1, 1, 0, 0], [0, 0, 0, 0, 1, -1, 0, 0], [0, 1, -1, 0, 0, 0, 0, 0], [0, 0, 0, 2, -1, -1, 0, 0], [0, 0, 0, 0, 0, 0, 1, 0], [0, 0, 0, 0, 0, 0, 0, 1]]"
      ]
     },
     "execution_count": 74,
     "metadata": {},
     "output_type": "execute_result"
    }
   ],
   "source": [
    "rot3"
   ]
  },
  {
   "cell_type": "code",
   "execution_count": null,
   "id": "9764233f-9c53-4860-b7c3-2be12fbec857",
   "metadata": {},
   "outputs": [],
   "source": []
  }
 ],
 "metadata": {
  "kernelspec": {
   "display_name": "Python 3 (ipykernel)",
   "language": "python",
   "name": "python3"
  },
  "language_info": {
   "codemirror_mode": {
    "name": "ipython",
    "version": 3
   },
   "file_extension": ".py",
   "mimetype": "text/x-python",
   "name": "python",
   "nbconvert_exporter": "python",
   "pygments_lexer": "ipython3",
   "version": "3.8.12"
  }
 },
 "nbformat": 4,
 "nbformat_minor": 5
}
