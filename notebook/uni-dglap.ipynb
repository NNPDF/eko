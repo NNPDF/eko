{
 "cells": [
  {
   "cell_type": "markdown",
   "id": "4790b144-ceb5-4cba-87a5-ca2fd37e5912",
   "metadata": {},
   "source": [
    "# Unified DGLAP"
   ]
  },
  {
   "cell_type": "code",
   "execution_count": 144,
   "id": "1d7616d9-f4a3-447a-9ebf-e99db8126ffb",
   "metadata": {},
   "outputs": [],
   "source": [
    "import sympy"
   ]
  },
  {
   "cell_type": "code",
   "execution_count": 145,
   "id": "cb36381d-57b5-4972-b028-cf4b6300938f",
   "metadata": {},
   "outputs": [],
   "source": [
    "# QCD\n",
    "Pv, Pp, Pm, Pqq, Pqg, Pgq, Pgg = sympy.symbols(\"P_V P_+ P_- P_qq P_qg P_gq P_gg\")\n",
    "# QED\n",
    "Pxv, Pxp, Pxm, Pxqq, Pxqg, Pxgq, Pxgg = sympy.symbols(\"P^x_V P^x_+ P^x_- P^x_qq P^x_qg P^x_gq P^x_gg\")\n",
    "Pxqy, Pxyq, Pxyg, Pxgy, Pxyy = sympy.symbols(\"P^x_q\\gamma P^x_\\gamma\\ q P^x_\\gamma\\ g P^x_g\\gamma P^x_\\gamma\\gamma\")\n",
    "eu2, ed2, es2 = sympy.symbols(\"e_u^2 e_d^2 e_\\Sigma^2\") # charges"
   ]
  },
  {
   "cell_type": "markdown",
   "id": "bdf7ad8c",
   "metadata": {},
   "source": [
    "## Flavor basis :\n",
    "### [g, \\gamma, u+, u-, d+, d-, s+, s-, c+, c-, b+, b-, t+, t-]\n",
    "## Singlet basis :\n",
    "### [g, \\gamma, \\Sigma_u, \\Sigma_d, V_u, V_d, T_3^d, V_3^d, T_3^u / c+, V_3^u / c-, T_8^d / b+, V_8^d / b-, T_8^u / t+, V_8^u / t-]\n",
    "## Intrinsic evolution basis :\n",
    "### [g, \\gamma, \\Sigma, \\Delta_\\Sigma, V, \\Delta_V, T_3^d, V_3^d, T_3^u / c+, V_3^u / c-, T_8^d / b+, V_8^d / b-, T_8^u / t+, V_8^u / t-]\n",
    "### [T_3^u, V_3^u, T_8^d, V_8^d, T_8^u, V_8^u] is:\n",
    "### [c+, c-, b+, b-, t+, t-] in nf=3,\n",
    "### [T_3^u, V_3^u, b+, b-, t+, t-] in nf=4,\n",
    "### [T_3^u, V_3^u, T_8^d, V_8^d, t+, t-] in nf=5,\n",
    "### [T_3^u, V_3^u, T_8^d, V_8^d, T_8^u, V_8^u] in nf=6"
   ]
  },
  {
   "cell_type": "code",
   "execution_count": 146,
   "id": "9764233f-9c53-4860-b7c3-2be12fbec857",
   "metadata": {},
   "outputs": [],
   "source": [
    "P = {}\n",
    "ns, s, qed, qcd = \"ns\", \"s\", \"qed\", \"qcd\"\n",
    "P[ns, qcd] = sympy.Array.zeros(14,14).as_mutable()\n",
    "P[ns, qed] = sympy.Array.zeros(14,14).as_mutable()\n",
    "P[s, qcd] =  sympy.Array.zeros(14,14).as_mutable()\n",
    "P[s, qed] =  sympy.Array.zeros(14,14).as_mutable()\n",
    "\n",
    "ei2=[eu2, ed2, ed2, eu2, ed2, eu2]\n",
    "\n",
    "def P_qcd(nf):\n",
    "    res = sympy.Matrix.zeros(14,14).as_mutable()\n",
    "    res[0, 0]=Pgg\n",
    "    for i in range(1, nf+1):\n",
    "        res[0, 2*i] = Pgq #g q+\n",
    "        res[2*i, 0] = 2 * Pqg #q+ g\n",
    "        res[2*i,2*i] = Pp #q+ q+\n",
    "        res[1 + 2*i,1 + 2*i] = Pm #q- q-\n",
    "    return res\n",
    "\n",
    "def P_qed(nf):\n",
    "    res = sympy.Matrix.zeros(14,14).as_mutable()\n",
    "    res[0, 0]=es2*Pxgg\n",
    "    res[1, 1]=es2*Pxyy\n",
    "    res[0, 1]=es2*Pxgy\n",
    "    res[1, 0]=es2*Pxyg\n",
    "    for i in range(1, nf+1):\n",
    "        res[0, 2*i] = ei2[i-1]*Pxgq\n",
    "        res[2*i, 0] = 2*ei2[i-1]*Pxqg\n",
    "        res[1, 2*i] = ei2[i-1]*Pxyq\n",
    "        res[2*i, 1] = 2*ei2[i-1]*Pxqy\n",
    "        res[2*i,2*i] = ei2[i-1]*Pxp \n",
    "        res[1 + 2*i,1 + 2*i] = ei2[i-1]*Pxm\n",
    "    return res\n",
    "\n",
    "def Ps_qcd(nf):\n",
    "    res = sympy.Matrix.zeros(14,14).as_mutable()\n",
    "    for i in range(1, nf+1):\n",
    "        res[2*i, 2] = Pqq - Pp\n",
    "        res[2*i, 3] = Pqq - Pp\n",
    "        res[1 + 2*i, 4] = Pv - Pm\n",
    "        res[1 + 2*i, 5] = Pv - Pm\n",
    "    return res/nf\n",
    "\n",
    "def Ps_qed(nf):\n",
    "    res = sympy.Matrix.zeros(14,14).as_mutable()\n",
    "    for i in range(1, nf+1):\n",
    "        res[2*i, 2] = ei2[i-1]*eu2*(Pxqq - Pxp)\n",
    "        res[2*i, 3] = ei2[i-1]*ed2*(Pxqq - Pxp)\n",
    "    return res/nf\n",
    "\n",
    "def P_uni(nf):\n",
    "    return P_qcd(nf)+P_qed(nf)\n",
    "\n",
    "def Ps_uni(nf):\n",
    "    return Ps_qcd(nf)+Ps_qed(nf)"
   ]
  },
  {
   "cell_type": "code",
   "execution_count": 147,
   "id": "3a376dcf",
   "metadata": {},
   "outputs": [],
   "source": [
    "def rot_fl_to_ev(nf):\n",
    "    nu = int(nf/2)\n",
    "    nd = nf - nu\n",
    "    res = sympy.Matrix.zeros(14,14).as_mutable()\n",
    "    res[0, 0]=1\n",
    "    res[1, 1]=1\n",
    "    for i in range(2 + 2*nf, 14): \n",
    "        res[i,i] = 1\n",
    "    for i in range(1,nf+1): #Sigma and V\n",
    "        res[2, 2*i] = 1\n",
    "        res[4, 1 + 2*i] = 1\n",
    "    for i in [1, 4, 6]:#loop on up quarks\n",
    "        if i <= nf:\n",
    "            res[3, 2*i] = nd/nu\n",
    "            res[5,1 + 2*i] = nd/nu\n",
    "    for i in [2, 3, 5]:#loop on down quarks\n",
    "        if i <= nf:\n",
    "            res[3, 2*i] = -1\n",
    "            res[5, 1 + 2*i] = -1\n",
    "    if nf >= 3 :\n",
    "        res[6, 4] = 1\n",
    "        res[6, 6] = -1\n",
    "        res[7, 5] = 1\n",
    "        res[7, 7] = -1\n",
    "    if nf >= 4 :\n",
    "        res[8, 2] = 1\n",
    "        res[8, 8] = -1\n",
    "        res[9, 3] = 1\n",
    "        res[9, 9] = -1\n",
    "    if nf >= 5 :\n",
    "        res[10, 4] = 1\n",
    "        res[10, 6] = 1\n",
    "        res[10, 10] = -2\n",
    "        res[11, 5] = 1\n",
    "        res[11, 7] = 1\n",
    "        res[11, 11] = -2\n",
    "    if nf == 6 :\n",
    "        res[12, 2] = 1\n",
    "        res[12, 8] = 1\n",
    "        res[12, 12] = -2\n",
    "        res[13, 3] = 1\n",
    "        res[13, 9] = 1\n",
    "        res[13, 13] = -2\n",
    "    return res\n",
    "\n",
    "def rot_ev_to_fl(nf):\n",
    "    return rot_fl_to_ev(nf).inv()"
   ]
  },
  {
   "cell_type": "code",
   "execution_count": 148,
   "id": "b5747379",
   "metadata": {},
   "outputs": [],
   "source": [
    "def rot_sin_to_ev(nf):\n",
    "    nu = int(nf/2)\n",
    "    nd = nf - nu\n",
    "    res = sympy.Matrix.zeros(14,14).as_mutable()\n",
    "    res[0, 0]=1\n",
    "    res[1, 1]=1\n",
    "    res[2,2]=1\n",
    "    res[2,3]=1\n",
    "    res[3,2]=nd/nu\n",
    "    res[3,3]=-1\n",
    "    res[4,4]=1\n",
    "    res[4,5]=1\n",
    "    res[5,4]=nd/nu\n",
    "    res[5,5]=-1\n",
    "    for i in range(6,14):\n",
    "        res[i,i]=1\n",
    "    return res\n",
    "\n",
    "def rot_ev_to_sin(nf):\n",
    "    return rot_sin_to_ev(nf).inv()"
   ]
  },
  {
   "cell_type": "code",
   "execution_count": 149,
   "id": "45fb3a16",
   "metadata": {},
   "outputs": [],
   "source": [
    "def P_ev(nf):\n",
    "    res = rot_fl_to_ev(nf) * P_uni(nf) * rot_ev_to_fl(nf) + rot_fl_to_ev(nf) * Ps_uni(nf) * rot_ev_to_sin(nf)\n",
    "    return res"
   ]
  },
  {
   "cell_type": "code",
   "execution_count": 150,
   "id": "9b5050aa",
   "metadata": {},
   "outputs": [
    {
     "data": {
      "text/latex": [
       "$\\displaystyle \\left[\\begin{array}{cccccccccccccc}P^{x}_{gg} e^{2}_{\\Sigma} + P_{gg} & P^{x}_{g\\gamma} e^{2}_{\\Sigma} & 0.5 P^{x}_{gq} e^{2}_{d} + 0.5 P^{x}_{gq} e^{2}_{u} + 1.0 P_{gq} & - 0.5 P^{x}_{gq} e^{2}_{d} + 0.5 P^{x}_{gq} e^{2}_{u} & 0 & 0 & 0 & 0 & 0 & 0 & 0 & 0 & 0 & 0\\\\P^{x}_{\\gamma g} e^{2}_{\\Sigma} & P^{x}_{\\gamma\\gamma} e^{2}_{\\Sigma} & 0.5 P^{x}_{\\gamma q} e^{2}_{d} + 0.5 P^{x}_{\\gamma q} e^{2}_{u} & - 0.5 P^{x}_{\\gamma q} e^{2}_{d} + 0.5 P^{x}_{\\gamma q} e^{2}_{u} & 0 & 0 & 0 & 0 & 0 & 0 & 0 & 0 & 0 & 0\\\\2 P^{x}_{qg} e^{2}_{d} + 2 P^{x}_{qg} e^{2}_{u} + 4 P_{qg} & 2 P^{x}_{q\\gamma} e^{2}_{d} + 2 P^{x}_{q\\gamma} e^{2}_{u} & 0.5 P^{x}_{+} e^{2}_{d} + 0.5 P^{x}_{+} e^{2}_{u} + 1.0 P_{qq} + 0.25 \\left(e^{2}_{d}\\right)^{2} \\left(- P^{x}_{+} + P^{x}_{qq}\\right) + 0.5 e^{2}_{d} e^{2}_{u} \\left(- P^{x}_{+} + P^{x}_{qq}\\right) + 0.25 \\left(e^{2}_{u}\\right)^{2} \\left(- P^{x}_{+} + P^{x}_{qq}\\right) & - 0.5 P^{x}_{+} e^{2}_{d} + 0.5 P^{x}_{+} e^{2}_{u} - 0.25 \\left(e^{2}_{d}\\right)^{2} \\left(- P^{x}_{+} + P^{x}_{qq}\\right) + 0.25 \\left(e^{2}_{u}\\right)^{2} \\left(- P^{x}_{+} + P^{x}_{qq}\\right) & 0 & 0 & 0 & 0 & 0 & 0 & 0 & 0 & 0 & 0\\\\- 2 P^{x}_{qg} e^{2}_{d} + 2.0 P^{x}_{qg} e^{2}_{u} & - 2 P^{x}_{q\\gamma} e^{2}_{d} + 2.0 P^{x}_{q\\gamma} e^{2}_{u} & - 0.5 P^{x}_{+} e^{2}_{d} + 0.5 P^{x}_{+} e^{2}_{u} - 0.25 \\left(e^{2}_{d}\\right)^{2} \\left(- P^{x}_{+} + P^{x}_{qq}\\right) + 0.25 \\left(e^{2}_{u}\\right)^{2} \\left(- P^{x}_{+} + P^{x}_{qq}\\right) & 0.5 P^{x}_{+} e^{2}_{d} + 0.5 P^{x}_{+} e^{2}_{u} + 1.0 P_{+} + 0.25 \\left(e^{2}_{d}\\right)^{2} \\left(- P^{x}_{+} + P^{x}_{qq}\\right) - 0.5 e^{2}_{d} e^{2}_{u} \\left(- P^{x}_{+} + P^{x}_{qq}\\right) + 0.25 \\left(e^{2}_{u}\\right)^{2} \\left(- P^{x}_{+} + P^{x}_{qq}\\right) & 0 & 0 & 0 & 0 & 0 & 0 & 0 & 0 & 0 & 0\\\\0 & 0 & 0 & 0 & 0.5 P^{x}_{-} e^{2}_{d} + 0.5 P^{x}_{-} e^{2}_{u} + 1.0 P_{V} & - 0.5 P^{x}_{-} e^{2}_{d} + 0.5 P^{x}_{-} e^{2}_{u} & 0 & 0 & 0 & 0 & 0 & 0 & 0 & 0\\\\0 & 0 & 0 & 0 & - 0.5 P^{x}_{-} e^{2}_{d} + 0.5 P^{x}_{-} e^{2}_{u} & 0.5 P^{x}_{-} e^{2}_{d} + 0.5 P^{x}_{-} e^{2}_{u} + 1.0 P_{-} & 0 & 0 & 0 & 0 & 0 & 0 & 0 & 0\\\\0 & 0 & 0 & 0 & 0 & 0 & 0 & 0 & 0 & 0 & 0 & 0 & 0 & 0\\\\0 & 0 & 0 & 0 & 0 & 0 & 0 & 0 & 0 & 0 & 0 & 0 & 0 & 0\\\\0 & 0 & 0 & 0 & 0 & 0 & 0 & 0 & 0 & 0 & 0 & 0 & 0 & 0\\\\0 & 0 & 0 & 0 & 0 & 0 & 0 & 0 & 0 & 0 & 0 & 0 & 0 & 0\\\\0 & 0 & 0 & 0 & 0 & 0 & 0 & 0 & 0 & 0 & 0 & 0 & 0 & 0\\\\0 & 0 & 0 & 0 & 0 & 0 & 0 & 0 & 0 & 0 & 0 & 0 & 0 & 0\\\\0 & 0 & 0 & 0 & 0 & 0 & 0 & 0 & 0 & 0 & 0 & 0 & 0 & 0\\\\0 & 0 & 0 & 0 & 0 & 0 & 0 & 0 & 0 & 0 & 0 & 0 & 0 & 0\\end{array}\\right]$"
      ],
      "text/plain": [
       "Matrix([\n",
       "[                P^x_gg*e_\\Sigma^2 + P_gg,                       P^x_g\\gamma*e_\\Sigma^2,                                                                                                       0.5*P^x_gq*e_d^2 + 0.5*P^x_gq*e_u^2 + 1.0*P_gq,                                                                                                                -0.5*P^x_gq*e_d^2 + 0.5*P^x_gq*e_u^2,                                           0,                                           0, 0, 0, 0, 0, 0, 0, 0, 0],\n",
       "[                 P^x_\\gamma g*e_\\Sigma^2,                  P^x_\\gamma\\gamma*e_\\Sigma^2,                                                                                                      0.5*P^x_\\gamma q*e_d^2 + 0.5*P^x_\\gamma q*e_u^2,                                                                                                    -0.5*P^x_\\gamma q*e_d^2 + 0.5*P^x_\\gamma q*e_u^2,                                           0,                                           0, 0, 0, 0, 0, 0, 0, 0, 0],\n",
       "[2*P^x_qg*e_d^2 + 2*P^x_qg*e_u^2 + 4*P_qg,    2*P^x_q\\gamma*e_d^2 + 2*P^x_q\\gamma*e_u^2, 0.5*P^x_+*e_d^2 + 0.5*P^x_+*e_u^2 + 1.0*P_qq + 0.25*e_d^2**2*(-P^x_+ + P^x_qq) + 0.5*e_d^2*e_u^2*(-P^x_+ + P^x_qq) + 0.25*e_u^2**2*(-P^x_+ + P^x_qq),                                              -0.5*P^x_+*e_d^2 + 0.5*P^x_+*e_u^2 - 0.25*e_d^2**2*(-P^x_+ + P^x_qq) + 0.25*e_u^2**2*(-P^x_+ + P^x_qq),                                           0,                                           0, 0, 0, 0, 0, 0, 0, 0, 0],\n",
       "[      -2*P^x_qg*e_d^2 + 2.0*P^x_qg*e_u^2, -2*P^x_q\\gamma*e_d^2 + 2.0*P^x_q\\gamma*e_u^2,                                               -0.5*P^x_+*e_d^2 + 0.5*P^x_+*e_u^2 - 0.25*e_d^2**2*(-P^x_+ + P^x_qq) + 0.25*e_u^2**2*(-P^x_+ + P^x_qq), 0.5*P^x_+*e_d^2 + 0.5*P^x_+*e_u^2 + 1.0*P_+ + 0.25*e_d^2**2*(-P^x_+ + P^x_qq) - 0.5*e_d^2*e_u^2*(-P^x_+ + P^x_qq) + 0.25*e_u^2**2*(-P^x_+ + P^x_qq),                                           0,                                           0, 0, 0, 0, 0, 0, 0, 0, 0],\n",
       "[                                       0,                                            0,                                                                                                                                                    0,                                                                                                                                                   0, 0.5*P^x_-*e_d^2 + 0.5*P^x_-*e_u^2 + 1.0*P_V,          -0.5*P^x_-*e_d^2 + 0.5*P^x_-*e_u^2, 0, 0, 0, 0, 0, 0, 0, 0],\n",
       "[                                       0,                                            0,                                                                                                                                                    0,                                                                                                                                                   0,          -0.5*P^x_-*e_d^2 + 0.5*P^x_-*e_u^2, 0.5*P^x_-*e_d^2 + 0.5*P^x_-*e_u^2 + 1.0*P_-, 0, 0, 0, 0, 0, 0, 0, 0],\n",
       "[                                       0,                                            0,                                                                                                                                                    0,                                                                                                                                                   0,                                           0,                                           0, 0, 0, 0, 0, 0, 0, 0, 0],\n",
       "[                                       0,                                            0,                                                                                                                                                    0,                                                                                                                                                   0,                                           0,                                           0, 0, 0, 0, 0, 0, 0, 0, 0],\n",
       "[                                       0,                                            0,                                                                                                                                                    0,                                                                                                                                                   0,                                           0,                                           0, 0, 0, 0, 0, 0, 0, 0, 0],\n",
       "[                                       0,                                            0,                                                                                                                                                    0,                                                                                                                                                   0,                                           0,                                           0, 0, 0, 0, 0, 0, 0, 0, 0],\n",
       "[                                       0,                                            0,                                                                                                                                                    0,                                                                                                                                                   0,                                           0,                                           0, 0, 0, 0, 0, 0, 0, 0, 0],\n",
       "[                                       0,                                            0,                                                                                                                                                    0,                                                                                                                                                   0,                                           0,                                           0, 0, 0, 0, 0, 0, 0, 0, 0],\n",
       "[                                       0,                                            0,                                                                                                                                                    0,                                                                                                                                                   0,                                           0,                                           0, 0, 0, 0, 0, 0, 0, 0, 0],\n",
       "[                                       0,                                            0,                                                                                                                                                    0,                                                                                                                                                   0,                                           0,                                           0, 0, 0, 0, 0, 0, 0, 0, 0]])"
      ]
     },
     "execution_count": 150,
     "metadata": {},
     "output_type": "execute_result"
    }
   ],
   "source": [
    "P_ev(2)"
   ]
  },
  {
   "cell_type": "code",
   "execution_count": 151,
   "id": "07b1874a",
   "metadata": {},
   "outputs": [
    {
     "data": {
      "text/latex": [
       "$\\displaystyle \\left[\\begin{array}{cccccccccccccc}P^{x}_{gg} e^{2}_{\\Sigma} + P_{gg} & P^{x}_{g\\gamma} e^{2}_{\\Sigma} & 0.666666666666667 P^{x}_{gq} e^{2}_{d} + 0.333333333333333 P^{x}_{gq} e^{2}_{u} + 1.0 P_{gq} & - 0.333333333333333 P^{x}_{gq} e^{2}_{d} + 0.333333333333333 P^{x}_{gq} e^{2}_{u} & 0 & 0 & 0 & 0 & 0 & 0 & 0 & 0 & 0 & 0\\\\P^{x}_{\\gamma g} e^{2}_{\\Sigma} & P^{x}_{\\gamma\\gamma} e^{2}_{\\Sigma} & 0.666666666666667 P^{x}_{\\gamma q} e^{2}_{d} + 0.333333333333333 P^{x}_{\\gamma q} e^{2}_{u} & - 0.333333333333333 P^{x}_{\\gamma q} e^{2}_{d} + 0.333333333333333 P^{x}_{\\gamma q} e^{2}_{u} & 0 & 0 & 0 & 0 & 0 & 0 & 0 & 0 & 0 & 0\\\\4 P^{x}_{qg} e^{2}_{d} + 2 P^{x}_{qg} e^{2}_{u} + 6 P_{qg} & 4 P^{x}_{q\\gamma} e^{2}_{d} + 2 P^{x}_{q\\gamma} e^{2}_{u} & 0.666666666666667 P^{x}_{+} e^{2}_{d} + 0.333333333333333 P^{x}_{+} e^{2}_{u} + 1.0 P_{qq} + 0.444444444444444 \\left(e^{2}_{d}\\right)^{2} \\left(- P^{x}_{+} + P^{x}_{qq}\\right) + 0.444444444444444 e^{2}_{d} e^{2}_{u} \\left(- P^{x}_{+} + P^{x}_{qq}\\right) + 0.111111111111111 \\left(e^{2}_{u}\\right)^{2} \\left(- P^{x}_{+} + P^{x}_{qq}\\right) & - 0.333333333333333 P^{x}_{+} e^{2}_{d} + 0.333333333333333 P^{x}_{+} e^{2}_{u} - 0.222222222222222 \\left(e^{2}_{d}\\right)^{2} \\left(- P^{x}_{+} + P^{x}_{qq}\\right) + 0.111111111111111 e^{2}_{d} e^{2}_{u} \\left(- P^{x}_{+} + P^{x}_{qq}\\right) + 0.111111111111111 \\left(e^{2}_{u}\\right)^{2} \\left(- P^{x}_{+} + P^{x}_{qq}\\right) & 0 & 0 & 0 & 0 & 0 & 0 & 0 & 0 & 0 & 0\\\\- 4 P^{x}_{qg} e^{2}_{d} + 4.0 P^{x}_{qg} e^{2}_{u} & - 4 P^{x}_{q\\gamma} e^{2}_{d} + 4.0 P^{x}_{q\\gamma} e^{2}_{u} & - 0.666666666666667 P^{x}_{+} e^{2}_{d} + 0.666666666666667 P^{x}_{+} e^{2}_{u} - 0.444444444444444 \\left(e^{2}_{d}\\right)^{2} \\left(- P^{x}_{+} + P^{x}_{qq}\\right) + 0.222222222222222 e^{2}_{d} e^{2}_{u} \\left(- P^{x}_{+} + P^{x}_{qq}\\right) + 0.222222222222222 \\left(e^{2}_{u}\\right)^{2} \\left(- P^{x}_{+} + P^{x}_{qq}\\right) & 0.333333333333333 P^{x}_{+} e^{2}_{d} + 0.666666666666667 P^{x}_{+} e^{2}_{u} + 1.0 P_{+} + 0.222222222222222 \\left(e^{2}_{d}\\right)^{2} \\left(- P^{x}_{+} + P^{x}_{qq}\\right) - 0.444444444444444 e^{2}_{d} e^{2}_{u} \\left(- P^{x}_{+} + P^{x}_{qq}\\right) + 0.222222222222222 \\left(e^{2}_{u}\\right)^{2} \\left(- P^{x}_{+} + P^{x}_{qq}\\right) & 0 & 0 & 0 & 0 & 0 & 0 & 0 & 0 & 0 & 0\\\\0 & 0 & 0 & 0 & 0.666666666666667 P^{x}_{-} e^{2}_{d} + 0.333333333333333 P^{x}_{-} e^{2}_{u} + 1.0 P_{V} & - 0.333333333333333 P^{x}_{-} e^{2}_{d} + 0.333333333333333 P^{x}_{-} e^{2}_{u} & 0 & 0 & 0 & 0 & 0 & 0 & 0 & 0\\\\0 & 0 & 0 & 0 & - 0.666666666666667 P^{x}_{-} e^{2}_{d} + 0.666666666666667 P^{x}_{-} e^{2}_{u} & 0.333333333333333 P^{x}_{-} e^{2}_{d} + 0.666666666666667 P^{x}_{-} e^{2}_{u} + 1.0 P_{-} & 0 & 0 & 0 & 0 & 0 & 0 & 0 & 0\\\\0 & 0 & 0 & 0 & 0 & 0 & 1.0 P^{x}_{+} e^{2}_{d} + 1.0 P_{+} & 0 & 0 & 0 & 0 & 0 & 0 & 0\\\\0 & 0 & 0 & 0 & 0 & 0 & 0 & 1.0 P^{x}_{-} e^{2}_{d} + 1.0 P_{-} & 0 & 0 & 0 & 0 & 0 & 0\\\\0 & 0 & 0 & 0 & 0 & 0 & 0 & 0 & 0 & 0 & 0 & 0 & 0 & 0\\\\0 & 0 & 0 & 0 & 0 & 0 & 0 & 0 & 0 & 0 & 0 & 0 & 0 & 0\\\\0 & 0 & 0 & 0 & 0 & 0 & 0 & 0 & 0 & 0 & 0 & 0 & 0 & 0\\\\0 & 0 & 0 & 0 & 0 & 0 & 0 & 0 & 0 & 0 & 0 & 0 & 0 & 0\\\\0 & 0 & 0 & 0 & 0 & 0 & 0 & 0 & 0 & 0 & 0 & 0 & 0 & 0\\\\0 & 0 & 0 & 0 & 0 & 0 & 0 & 0 & 0 & 0 & 0 & 0 & 0 & 0\\end{array}\\right]$"
      ],
      "text/plain": [
       "Matrix([\n",
       "[                P^x_gg*e_\\Sigma^2 + P_gg,                       P^x_g\\gamma*e_\\Sigma^2,                                                                                                                                               0.666666666666667*P^x_gq*e_d^2 + 0.333333333333333*P^x_gq*e_u^2 + 1.0*P_gq,                                                                                                                                                        -0.333333333333333*P^x_gq*e_d^2 + 0.333333333333333*P^x_gq*e_u^2,                                                                       0,                                                                       0,                         0,                         0, 0, 0, 0, 0, 0, 0],\n",
       "[                 P^x_\\gamma g*e_\\Sigma^2,                  P^x_\\gamma\\gamma*e_\\Sigma^2,                                                                                                                                              0.666666666666667*P^x_\\gamma q*e_d^2 + 0.333333333333333*P^x_\\gamma q*e_u^2,                                                                                                                                            -0.333333333333333*P^x_\\gamma q*e_d^2 + 0.333333333333333*P^x_\\gamma q*e_u^2,                                                                       0,                                                                       0,                         0,                         0, 0, 0, 0, 0, 0, 0],\n",
       "[4*P^x_qg*e_d^2 + 2*P^x_qg*e_u^2 + 6*P_qg,    4*P^x_q\\gamma*e_d^2 + 2*P^x_q\\gamma*e_u^2, 0.666666666666667*P^x_+*e_d^2 + 0.333333333333333*P^x_+*e_u^2 + 1.0*P_qq + 0.444444444444444*e_d^2**2*(-P^x_+ + P^x_qq) + 0.444444444444444*e_d^2*e_u^2*(-P^x_+ + P^x_qq) + 0.111111111111111*e_u^2**2*(-P^x_+ + P^x_qq),          -0.333333333333333*P^x_+*e_d^2 + 0.333333333333333*P^x_+*e_u^2 - 0.222222222222222*e_d^2**2*(-P^x_+ + P^x_qq) + 0.111111111111111*e_d^2*e_u^2*(-P^x_+ + P^x_qq) + 0.111111111111111*e_u^2**2*(-P^x_+ + P^x_qq),                                                                       0,                                                                       0,                         0,                         0, 0, 0, 0, 0, 0, 0],\n",
       "[      -4*P^x_qg*e_d^2 + 4.0*P^x_qg*e_u^2, -4*P^x_q\\gamma*e_d^2 + 4.0*P^x_q\\gamma*e_u^2,           -0.666666666666667*P^x_+*e_d^2 + 0.666666666666667*P^x_+*e_u^2 - 0.444444444444444*e_d^2**2*(-P^x_+ + P^x_qq) + 0.222222222222222*e_d^2*e_u^2*(-P^x_+ + P^x_qq) + 0.222222222222222*e_u^2**2*(-P^x_+ + P^x_qq), 0.333333333333333*P^x_+*e_d^2 + 0.666666666666667*P^x_+*e_u^2 + 1.0*P_+ + 0.222222222222222*e_d^2**2*(-P^x_+ + P^x_qq) - 0.444444444444444*e_d^2*e_u^2*(-P^x_+ + P^x_qq) + 0.222222222222222*e_u^2**2*(-P^x_+ + P^x_qq),                                                                       0,                                                                       0,                         0,                         0, 0, 0, 0, 0, 0, 0],\n",
       "[                                       0,                                            0,                                                                                                                                                                                                                        0,                                                                                                                                                                                                                       0, 0.666666666666667*P^x_-*e_d^2 + 0.333333333333333*P^x_-*e_u^2 + 1.0*P_V,          -0.333333333333333*P^x_-*e_d^2 + 0.333333333333333*P^x_-*e_u^2,                         0,                         0, 0, 0, 0, 0, 0, 0],\n",
       "[                                       0,                                            0,                                                                                                                                                                                                                        0,                                                                                                                                                                                                                       0,          -0.666666666666667*P^x_-*e_d^2 + 0.666666666666667*P^x_-*e_u^2, 0.333333333333333*P^x_-*e_d^2 + 0.666666666666667*P^x_-*e_u^2 + 1.0*P_-,                         0,                         0, 0, 0, 0, 0, 0, 0],\n",
       "[                                       0,                                            0,                                                                                                                                                                                                                        0,                                                                                                                                                                                                                       0,                                                                       0,                                                                       0, 1.0*P^x_+*e_d^2 + 1.0*P_+,                         0, 0, 0, 0, 0, 0, 0],\n",
       "[                                       0,                                            0,                                                                                                                                                                                                                        0,                                                                                                                                                                                                                       0,                                                                       0,                                                                       0,                         0, 1.0*P^x_-*e_d^2 + 1.0*P_-, 0, 0, 0, 0, 0, 0],\n",
       "[                                       0,                                            0,                                                                                                                                                                                                                        0,                                                                                                                                                                                                                       0,                                                                       0,                                                                       0,                         0,                         0, 0, 0, 0, 0, 0, 0],\n",
       "[                                       0,                                            0,                                                                                                                                                                                                                        0,                                                                                                                                                                                                                       0,                                                                       0,                                                                       0,                         0,                         0, 0, 0, 0, 0, 0, 0],\n",
       "[                                       0,                                            0,                                                                                                                                                                                                                        0,                                                                                                                                                                                                                       0,                                                                       0,                                                                       0,                         0,                         0, 0, 0, 0, 0, 0, 0],\n",
       "[                                       0,                                            0,                                                                                                                                                                                                                        0,                                                                                                                                                                                                                       0,                                                                       0,                                                                       0,                         0,                         0, 0, 0, 0, 0, 0, 0],\n",
       "[                                       0,                                            0,                                                                                                                                                                                                                        0,                                                                                                                                                                                                                       0,                                                                       0,                                                                       0,                         0,                         0, 0, 0, 0, 0, 0, 0],\n",
       "[                                       0,                                            0,                                                                                                                                                                                                                        0,                                                                                                                                                                                                                       0,                                                                       0,                                                                       0,                         0,                         0, 0, 0, 0, 0, 0, 0]])"
      ]
     },
     "execution_count": 151,
     "metadata": {},
     "output_type": "execute_result"
    }
   ],
   "source": [
    "P_ev(3)"
   ]
  },
  {
   "cell_type": "code",
   "execution_count": 152,
   "id": "c9f75de1",
   "metadata": {},
   "outputs": [
    {
     "data": {
      "text/latex": [
       "$\\displaystyle \\left[\\begin{array}{cccccccccccccc}P^{x}_{gg} e^{2}_{\\Sigma} + P_{gg} & P^{x}_{g\\gamma} e^{2}_{\\Sigma} & 0.5 P^{x}_{gq} e^{2}_{d} + 0.5 P^{x}_{gq} e^{2}_{u} + 1.0 P_{gq} & - 0.5 P^{x}_{gq} e^{2}_{d} + 0.5 P^{x}_{gq} e^{2}_{u} & 0 & 0 & 0 & 0 & 0 & 0 & 0 & 0 & 0 & 0\\\\P^{x}_{\\gamma g} e^{2}_{\\Sigma} & P^{x}_{\\gamma\\gamma} e^{2}_{\\Sigma} & 0.5 P^{x}_{\\gamma q} e^{2}_{d} + 0.5 P^{x}_{\\gamma q} e^{2}_{u} & - 0.5 P^{x}_{\\gamma q} e^{2}_{d} + 0.5 P^{x}_{\\gamma q} e^{2}_{u} & 0 & 0 & 0 & 0 & 0 & 0 & 0 & 0 & 0 & 0\\\\4 P^{x}_{qg} e^{2}_{d} + 4 P^{x}_{qg} e^{2}_{u} + 8 P_{qg} & 4 P^{x}_{q\\gamma} e^{2}_{d} + 4 P^{x}_{q\\gamma} e^{2}_{u} & 0.5 P^{x}_{+} e^{2}_{d} + 0.5 P^{x}_{+} e^{2}_{u} + 1.0 P_{qq} + 0.25 \\left(e^{2}_{d}\\right)^{2} \\left(- P^{x}_{+} + P^{x}_{qq}\\right) + 0.5 e^{2}_{d} e^{2}_{u} \\left(- P^{x}_{+} + P^{x}_{qq}\\right) + 0.25 \\left(e^{2}_{u}\\right)^{2} \\left(- P^{x}_{+} + P^{x}_{qq}\\right) & - 0.5 P^{x}_{+} e^{2}_{d} + 0.5 P^{x}_{+} e^{2}_{u} - 0.25 \\left(e^{2}_{d}\\right)^{2} \\left(- P^{x}_{+} + P^{x}_{qq}\\right) + 0.25 \\left(e^{2}_{u}\\right)^{2} \\left(- P^{x}_{+} + P^{x}_{qq}\\right) & 0 & 0 & 0 & 0 & 0 & 0 & 0 & 0 & 0 & 0\\\\- 4 P^{x}_{qg} e^{2}_{d} + 4.0 P^{x}_{qg} e^{2}_{u} & - 4 P^{x}_{q\\gamma} e^{2}_{d} + 4.0 P^{x}_{q\\gamma} e^{2}_{u} & - 0.5 P^{x}_{+} e^{2}_{d} + 0.5 P^{x}_{+} e^{2}_{u} - 0.25 \\left(e^{2}_{d}\\right)^{2} \\left(- P^{x}_{+} + P^{x}_{qq}\\right) + 0.25 \\left(e^{2}_{u}\\right)^{2} \\left(- P^{x}_{+} + P^{x}_{qq}\\right) & 0.5 P^{x}_{+} e^{2}_{d} + 0.5 P^{x}_{+} e^{2}_{u} + 1.0 P_{+} + 0.25 \\left(e^{2}_{d}\\right)^{2} \\left(- P^{x}_{+} + P^{x}_{qq}\\right) - 0.5 e^{2}_{d} e^{2}_{u} \\left(- P^{x}_{+} + P^{x}_{qq}\\right) + 0.25 \\left(e^{2}_{u}\\right)^{2} \\left(- P^{x}_{+} + P^{x}_{qq}\\right) & 0 & 0 & 0 & 0 & 0 & 0 & 0 & 0 & 0 & 0\\\\0 & 0 & 0 & 0 & 0.5 P^{x}_{-} e^{2}_{d} + 0.5 P^{x}_{-} e^{2}_{u} + 1.0 P_{V} & - 0.5 P^{x}_{-} e^{2}_{d} + 0.5 P^{x}_{-} e^{2}_{u} & 0 & 0 & 0 & 0 & 0 & 0 & 0 & 0\\\\0 & 0 & 0 & 0 & - 0.5 P^{x}_{-} e^{2}_{d} + 0.5 P^{x}_{-} e^{2}_{u} & 0.5 P^{x}_{-} e^{2}_{d} + 0.5 P^{x}_{-} e^{2}_{u} + 1.0 P_{-} & 0 & 0 & 0 & 0 & 0 & 0 & 0 & 0\\\\0 & 0 & 0 & 0 & 0 & 0 & 1.0 P^{x}_{+} e^{2}_{d} + 1.0 P_{+} & 0 & 0 & 0 & 0 & 0 & 0 & 0\\\\0 & 0 & 0 & 0 & 0 & 0 & 0 & 1.0 P^{x}_{-} e^{2}_{d} + 1.0 P_{-} & 0 & 0 & 0 & 0 & 0 & 0\\\\0 & 0 & 0 & 0 & 0 & 0 & 0 & 0 & 1.0 P^{x}_{+} e^{2}_{u} + 1.0 P_{+} & 0 & 0 & 0 & 0 & 0\\\\0 & 0 & 0 & 0 & 0 & 0 & 0 & 0 & 0 & 1.0 P^{x}_{-} e^{2}_{u} + 1.0 P_{-} & 0 & 0 & 0 & 0\\\\0 & 0 & 0 & 0 & 0 & 0 & 0 & 0 & 0 & 0 & 0 & 0 & 0 & 0\\\\0 & 0 & 0 & 0 & 0 & 0 & 0 & 0 & 0 & 0 & 0 & 0 & 0 & 0\\\\0 & 0 & 0 & 0 & 0 & 0 & 0 & 0 & 0 & 0 & 0 & 0 & 0 & 0\\\\0 & 0 & 0 & 0 & 0 & 0 & 0 & 0 & 0 & 0 & 0 & 0 & 0 & 0\\end{array}\\right]$"
      ],
      "text/plain": [
       "Matrix([\n",
       "[                P^x_gg*e_\\Sigma^2 + P_gg,                       P^x_g\\gamma*e_\\Sigma^2,                                                                                                       0.5*P^x_gq*e_d^2 + 0.5*P^x_gq*e_u^2 + 1.0*P_gq,                                                                                                                -0.5*P^x_gq*e_d^2 + 0.5*P^x_gq*e_u^2,                                           0,                                           0,                         0,                         0,                         0,                         0, 0, 0, 0, 0],\n",
       "[                 P^x_\\gamma g*e_\\Sigma^2,                  P^x_\\gamma\\gamma*e_\\Sigma^2,                                                                                                      0.5*P^x_\\gamma q*e_d^2 + 0.5*P^x_\\gamma q*e_u^2,                                                                                                    -0.5*P^x_\\gamma q*e_d^2 + 0.5*P^x_\\gamma q*e_u^2,                                           0,                                           0,                         0,                         0,                         0,                         0, 0, 0, 0, 0],\n",
       "[4*P^x_qg*e_d^2 + 4*P^x_qg*e_u^2 + 8*P_qg,    4*P^x_q\\gamma*e_d^2 + 4*P^x_q\\gamma*e_u^2, 0.5*P^x_+*e_d^2 + 0.5*P^x_+*e_u^2 + 1.0*P_qq + 0.25*e_d^2**2*(-P^x_+ + P^x_qq) + 0.5*e_d^2*e_u^2*(-P^x_+ + P^x_qq) + 0.25*e_u^2**2*(-P^x_+ + P^x_qq),                                              -0.5*P^x_+*e_d^2 + 0.5*P^x_+*e_u^2 - 0.25*e_d^2**2*(-P^x_+ + P^x_qq) + 0.25*e_u^2**2*(-P^x_+ + P^x_qq),                                           0,                                           0,                         0,                         0,                         0,                         0, 0, 0, 0, 0],\n",
       "[      -4*P^x_qg*e_d^2 + 4.0*P^x_qg*e_u^2, -4*P^x_q\\gamma*e_d^2 + 4.0*P^x_q\\gamma*e_u^2,                                               -0.5*P^x_+*e_d^2 + 0.5*P^x_+*e_u^2 - 0.25*e_d^2**2*(-P^x_+ + P^x_qq) + 0.25*e_u^2**2*(-P^x_+ + P^x_qq), 0.5*P^x_+*e_d^2 + 0.5*P^x_+*e_u^2 + 1.0*P_+ + 0.25*e_d^2**2*(-P^x_+ + P^x_qq) - 0.5*e_d^2*e_u^2*(-P^x_+ + P^x_qq) + 0.25*e_u^2**2*(-P^x_+ + P^x_qq),                                           0,                                           0,                         0,                         0,                         0,                         0, 0, 0, 0, 0],\n",
       "[                                       0,                                            0,                                                                                                                                                    0,                                                                                                                                                   0, 0.5*P^x_-*e_d^2 + 0.5*P^x_-*e_u^2 + 1.0*P_V,          -0.5*P^x_-*e_d^2 + 0.5*P^x_-*e_u^2,                         0,                         0,                         0,                         0, 0, 0, 0, 0],\n",
       "[                                       0,                                            0,                                                                                                                                                    0,                                                                                                                                                   0,          -0.5*P^x_-*e_d^2 + 0.5*P^x_-*e_u^2, 0.5*P^x_-*e_d^2 + 0.5*P^x_-*e_u^2 + 1.0*P_-,                         0,                         0,                         0,                         0, 0, 0, 0, 0],\n",
       "[                                       0,                                            0,                                                                                                                                                    0,                                                                                                                                                   0,                                           0,                                           0, 1.0*P^x_+*e_d^2 + 1.0*P_+,                         0,                         0,                         0, 0, 0, 0, 0],\n",
       "[                                       0,                                            0,                                                                                                                                                    0,                                                                                                                                                   0,                                           0,                                           0,                         0, 1.0*P^x_-*e_d^2 + 1.0*P_-,                         0,                         0, 0, 0, 0, 0],\n",
       "[                                       0,                                            0,                                                                                                                                                    0,                                                                                                                                                   0,                                           0,                                           0,                         0,                         0, 1.0*P^x_+*e_u^2 + 1.0*P_+,                         0, 0, 0, 0, 0],\n",
       "[                                       0,                                            0,                                                                                                                                                    0,                                                                                                                                                   0,                                           0,                                           0,                         0,                         0,                         0, 1.0*P^x_-*e_u^2 + 1.0*P_-, 0, 0, 0, 0],\n",
       "[                                       0,                                            0,                                                                                                                                                    0,                                                                                                                                                   0,                                           0,                                           0,                         0,                         0,                         0,                         0, 0, 0, 0, 0],\n",
       "[                                       0,                                            0,                                                                                                                                                    0,                                                                                                                                                   0,                                           0,                                           0,                         0,                         0,                         0,                         0, 0, 0, 0, 0],\n",
       "[                                       0,                                            0,                                                                                                                                                    0,                                                                                                                                                   0,                                           0,                                           0,                         0,                         0,                         0,                         0, 0, 0, 0, 0],\n",
       "[                                       0,                                            0,                                                                                                                                                    0,                                                                                                                                                   0,                                           0,                                           0,                         0,                         0,                         0,                         0, 0, 0, 0, 0]])"
      ]
     },
     "execution_count": 152,
     "metadata": {},
     "output_type": "execute_result"
    }
   ],
   "source": [
    "P_ev(4)"
   ]
  },
  {
   "cell_type": "code",
   "execution_count": 153,
   "id": "ce40d361",
   "metadata": {},
   "outputs": [
    {
     "data": {
      "text/latex": [
       "$\\displaystyle \\left[\\begin{array}{cccccccccccccc}P^{x}_{gg} e^{2}_{\\Sigma} + P_{gg} & P^{x}_{g\\gamma} e^{2}_{\\Sigma} & 0.6 P^{x}_{gq} e^{2}_{d} + 0.4 P^{x}_{gq} e^{2}_{u} + 1.0 P_{gq} & - 0.4 P^{x}_{gq} e^{2}_{d} + 0.4 P^{x}_{gq} e^{2}_{u} + 2.77555756156289 \\cdot 10^{-17} P_{gq} & 0 & 0 & 0 & 0 & 0 & 0 & 0 & 0 & 0 & 0\\\\P^{x}_{\\gamma g} e^{2}_{\\Sigma} & P^{x}_{\\gamma\\gamma} e^{2}_{\\Sigma} & 0.6 P^{x}_{\\gamma q} e^{2}_{d} + 0.4 P^{x}_{\\gamma q} e^{2}_{u} & - 0.4 P^{x}_{\\gamma q} e^{2}_{d} + 0.4 P^{x}_{\\gamma q} e^{2}_{u} & 0 & 0 & 0 & 0 & 0 & 0 & 0 & 0 & 0 & 0\\\\6 P^{x}_{qg} e^{2}_{d} + 4 P^{x}_{qg} e^{2}_{u} + 10 P_{qg} & 6 P^{x}_{q\\gamma} e^{2}_{d} + 4 P^{x}_{q\\gamma} e^{2}_{u} & 0.6 P^{x}_{+} e^{2}_{d} + 0.4 P^{x}_{+} e^{2}_{u} + 1.0 P_{qq} + 0.36 \\left(e^{2}_{d}\\right)^{2} \\left(- P^{x}_{+} + P^{x}_{qq}\\right) + 0.48 e^{2}_{d} e^{2}_{u} \\left(- P^{x}_{+} + P^{x}_{qq}\\right) + 0.16 \\left(e^{2}_{u}\\right)^{2} \\left(- P^{x}_{+} + P^{x}_{qq}\\right) & - 0.4 P^{x}_{+} e^{2}_{d} + 0.4 P^{x}_{+} e^{2}_{u} + 2.77555756156289 \\cdot 10^{-17} P_{+} - 0.24 \\left(e^{2}_{d}\\right)^{2} \\left(- P^{x}_{+} + P^{x}_{qq}\\right) + 0.08 e^{2}_{d} e^{2}_{u} \\left(- P^{x}_{+} + P^{x}_{qq}\\right) + 0.16 \\left(e^{2}_{u}\\right)^{2} \\left(- P^{x}_{+} + P^{x}_{qq}\\right) & 0 & 0 & 0 & 0 & 0 & 0 & 0 & 0 & 0 & 0\\\\- 6 P^{x}_{qg} e^{2}_{d} + 6.0 P^{x}_{qg} e^{2}_{u} & - 6 P^{x}_{q\\gamma} e^{2}_{d} + 6.0 P^{x}_{q\\gamma} e^{2}_{u} & - 0.6 P^{x}_{+} e^{2}_{d} + 0.6 P^{x}_{+} e^{2}_{u} + 5.55111512312578 \\cdot 10^{-17} P_{qq} - 0.36 \\left(e^{2}_{d}\\right)^{2} \\left(- P^{x}_{+} + P^{x}_{qq}\\right) + 0.12 e^{2}_{d} e^{2}_{u} \\left(- P^{x}_{+} + P^{x}_{qq}\\right) + 0.24 \\left(e^{2}_{u}\\right)^{2} \\left(- P^{x}_{+} + P^{x}_{qq}\\right) & 0.4 P^{x}_{+} e^{2}_{d} + 0.6 P^{x}_{+} e^{2}_{u} + 1.0 P_{+} + 0.24 \\left(e^{2}_{d}\\right)^{2} \\left(- P^{x}_{+} + P^{x}_{qq}\\right) - 0.48 e^{2}_{d} e^{2}_{u} \\left(- P^{x}_{+} + P^{x}_{qq}\\right) + 0.24 \\left(e^{2}_{u}\\right)^{2} \\left(- P^{x}_{+} + P^{x}_{qq}\\right) & 0 & 0 & 0 & 0 & 0 & 0 & 0 & 0 & 0 & 0\\\\0 & 0 & 0 & 0 & 0.6 P^{x}_{-} e^{2}_{d} + 0.4 P^{x}_{-} e^{2}_{u} + 1.0 P_{V} & - 0.4 P^{x}_{-} e^{2}_{d} + 0.4 P^{x}_{-} e^{2}_{u} + 2.77555756156289 \\cdot 10^{-17} P_{-} & 0 & 0 & 0 & 0 & 0 & 0 & 0 & 0\\\\0 & 0 & 0 & 0 & - 0.6 P^{x}_{-} e^{2}_{d} + 0.6 P^{x}_{-} e^{2}_{u} + 5.55111512312578 \\cdot 10^{-17} P_{V} & 0.4 P^{x}_{-} e^{2}_{d} + 0.6 P^{x}_{-} e^{2}_{u} + 1.0 P_{-} & 0 & 0 & 0 & 0 & 0 & 0 & 0 & 0\\\\0 & 0 & 0 & 0 & 0 & 0 & 1.0 P^{x}_{+} e^{2}_{d} + 1.0 P_{+} & 0 & 0 & 0 & 0 & 0 & 0 & 0\\\\0 & 0 & 0 & 0 & 0 & 0 & 0 & 1.0 P^{x}_{-} e^{2}_{d} + 1.0 P_{-} & 0 & 0 & 0 & 0 & 0 & 0\\\\0 & 0 & 0 & 0 & 0 & 0 & 0 & 0 & 1.0 P^{x}_{+} e^{2}_{u} + 1.0 P_{+} & 0 & 0 & 0 & 0 & 0\\\\0 & 0 & 0 & 0 & 0 & 0 & 0 & 0 & 0 & 1.0 P^{x}_{-} e^{2}_{u} + 1.0 P_{-} & 0 & 0 & 0 & 0\\\\0 & 0 & 0 & 0 & 0 & 0 & 0 & 0 & 0 & 0 & 1.0 P^{x}_{+} e^{2}_{d} + 1.0 P_{+} & 0 & 0 & 0\\\\0 & 0 & 0 & 0 & 0 & 0 & 0 & 0 & 0 & 0 & 0 & 1.0 P^{x}_{-} e^{2}_{d} + 1.0 P_{-} & 0 & 0\\\\0 & 0 & 0 & 0 & 0 & 0 & 0 & 0 & 0 & 0 & 0 & 0 & 0 & 0\\\\0 & 0 & 0 & 0 & 0 & 0 & 0 & 0 & 0 & 0 & 0 & 0 & 0 & 0\\end{array}\\right]$"
      ],
      "text/plain": [
       "Matrix([\n",
       "[                 P^x_gg*e_\\Sigma^2 + P_gg,                       P^x_g\\gamma*e_\\Sigma^2,                                                                                                                          0.6*P^x_gq*e_d^2 + 0.4*P^x_gq*e_u^2 + 1.0*P_gq,                                                                                                       -0.4*P^x_gq*e_d^2 + 0.4*P^x_gq*e_u^2 + 2.77555756156289e-17*P_gq,                                                             0,                                                             0,                         0,                         0,                         0,                         0,                         0,                         0, 0, 0],\n",
       "[                  P^x_\\gamma g*e_\\Sigma^2,                  P^x_\\gamma\\gamma*e_\\Sigma^2,                                                                                                                         0.6*P^x_\\gamma q*e_d^2 + 0.4*P^x_\\gamma q*e_u^2,                                                                                                                       -0.4*P^x_\\gamma q*e_d^2 + 0.4*P^x_\\gamma q*e_u^2,                                                             0,                                                             0,                         0,                         0,                         0,                         0,                         0,                         0, 0, 0],\n",
       "[6*P^x_qg*e_d^2 + 4*P^x_qg*e_u^2 + 10*P_qg,    6*P^x_q\\gamma*e_d^2 + 4*P^x_q\\gamma*e_u^2,                   0.6*P^x_+*e_d^2 + 0.4*P^x_+*e_u^2 + 1.0*P_qq + 0.36*e_d^2**2*(-P^x_+ + P^x_qq) + 0.48*e_d^2*e_u^2*(-P^x_+ + P^x_qq) + 0.16*e_u^2**2*(-P^x_+ + P^x_qq), -0.4*P^x_+*e_d^2 + 0.4*P^x_+*e_u^2 + 2.77555756156289e-17*P_+ - 0.24*e_d^2**2*(-P^x_+ + P^x_qq) + 0.08*e_d^2*e_u^2*(-P^x_+ + P^x_qq) + 0.16*e_u^2**2*(-P^x_+ + P^x_qq),                                                             0,                                                             0,                         0,                         0,                         0,                         0,                         0,                         0, 0, 0],\n",
       "[       -6*P^x_qg*e_d^2 + 6.0*P^x_qg*e_u^2, -6*P^x_q\\gamma*e_d^2 + 6.0*P^x_q\\gamma*e_u^2, -0.6*P^x_+*e_d^2 + 0.6*P^x_+*e_u^2 + 5.55111512312578e-17*P_qq - 0.36*e_d^2**2*(-P^x_+ + P^x_qq) + 0.12*e_d^2*e_u^2*(-P^x_+ + P^x_qq) + 0.24*e_u^2**2*(-P^x_+ + P^x_qq),                   0.4*P^x_+*e_d^2 + 0.6*P^x_+*e_u^2 + 1.0*P_+ + 0.24*e_d^2**2*(-P^x_+ + P^x_qq) - 0.48*e_d^2*e_u^2*(-P^x_+ + P^x_qq) + 0.24*e_u^2**2*(-P^x_+ + P^x_qq),                                                             0,                                                             0,                         0,                         0,                         0,                         0,                         0,                         0, 0, 0],\n",
       "[                                        0,                                            0,                                                                                                                                                                       0,                                                                                                                                                                      0,                   0.6*P^x_-*e_d^2 + 0.4*P^x_-*e_u^2 + 1.0*P_V, -0.4*P^x_-*e_d^2 + 0.4*P^x_-*e_u^2 + 2.77555756156289e-17*P_-,                         0,                         0,                         0,                         0,                         0,                         0, 0, 0],\n",
       "[                                        0,                                            0,                                                                                                                                                                       0,                                                                                                                                                                      0, -0.6*P^x_-*e_d^2 + 0.6*P^x_-*e_u^2 + 5.55111512312578e-17*P_V,                   0.4*P^x_-*e_d^2 + 0.6*P^x_-*e_u^2 + 1.0*P_-,                         0,                         0,                         0,                         0,                         0,                         0, 0, 0],\n",
       "[                                        0,                                            0,                                                                                                                                                                       0,                                                                                                                                                                      0,                                                             0,                                                             0, 1.0*P^x_+*e_d^2 + 1.0*P_+,                         0,                         0,                         0,                         0,                         0, 0, 0],\n",
       "[                                        0,                                            0,                                                                                                                                                                       0,                                                                                                                                                                      0,                                                             0,                                                             0,                         0, 1.0*P^x_-*e_d^2 + 1.0*P_-,                         0,                         0,                         0,                         0, 0, 0],\n",
       "[                                        0,                                            0,                                                                                                                                                                       0,                                                                                                                                                                      0,                                                             0,                                                             0,                         0,                         0, 1.0*P^x_+*e_u^2 + 1.0*P_+,                         0,                         0,                         0, 0, 0],\n",
       "[                                        0,                                            0,                                                                                                                                                                       0,                                                                                                                                                                      0,                                                             0,                                                             0,                         0,                         0,                         0, 1.0*P^x_-*e_u^2 + 1.0*P_-,                         0,                         0, 0, 0],\n",
       "[                                        0,                                            0,                                                                                                                                                                       0,                                                                                                                                                                      0,                                                             0,                                                             0,                         0,                         0,                         0,                         0, 1.0*P^x_+*e_d^2 + 1.0*P_+,                         0, 0, 0],\n",
       "[                                        0,                                            0,                                                                                                                                                                       0,                                                                                                                                                                      0,                                                             0,                                                             0,                         0,                         0,                         0,                         0,                         0, 1.0*P^x_-*e_d^2 + 1.0*P_-, 0, 0],\n",
       "[                                        0,                                            0,                                                                                                                                                                       0,                                                                                                                                                                      0,                                                             0,                                                             0,                         0,                         0,                         0,                         0,                         0,                         0, 0, 0],\n",
       "[                                        0,                                            0,                                                                                                                                                                       0,                                                                                                                                                                      0,                                                             0,                                                             0,                         0,                         0,                         0,                         0,                         0,                         0, 0, 0]])"
      ]
     },
     "execution_count": 153,
     "metadata": {},
     "output_type": "execute_result"
    }
   ],
   "source": [
    "P_ev(5)"
   ]
  },
  {
   "cell_type": "code",
   "execution_count": 154,
   "id": "3f014fa2",
   "metadata": {},
   "outputs": [
    {
     "data": {
      "text/latex": [
       "$\\displaystyle \\left[\\begin{array}{cccccccccccccc}P^{x}_{gg} e^{2}_{\\Sigma} + P_{gg} & P^{x}_{g\\gamma} e^{2}_{\\Sigma} & 0.5 P^{x}_{gq} e^{2}_{d} + 0.5 P^{x}_{gq} e^{2}_{u} + 1.0 P_{gq} & - 0.5 P^{x}_{gq} e^{2}_{d} + 0.5 P^{x}_{gq} e^{2}_{u} & 0 & 0 & 0 & 0 & 0 & 0 & 0 & 0 & 0 & 0\\\\P^{x}_{\\gamma g} e^{2}_{\\Sigma} & P^{x}_{\\gamma\\gamma} e^{2}_{\\Sigma} & 0.5 P^{x}_{\\gamma q} e^{2}_{d} + 0.5 P^{x}_{\\gamma q} e^{2}_{u} & - 0.5 P^{x}_{\\gamma q} e^{2}_{d} + 0.5 P^{x}_{\\gamma q} e^{2}_{u} & 0 & 0 & 0 & 0 & 0 & 0 & 0 & 0 & 0 & 0\\\\6 P^{x}_{qg} e^{2}_{d} + 6 P^{x}_{qg} e^{2}_{u} + 12 P_{qg} & 6 P^{x}_{q\\gamma} e^{2}_{d} + 6 P^{x}_{q\\gamma} e^{2}_{u} & 0.5 P^{x}_{+} e^{2}_{d} + 0.5 P^{x}_{+} e^{2}_{u} - 1.11022302462516 \\cdot 10^{-16} P_{+} + 1.0 P_{qq} + 0.25 \\left(e^{2}_{d}\\right)^{2} \\left(- P^{x}_{+} + P^{x}_{qq}\\right) + 0.5 e^{2}_{d} e^{2}_{u} \\left(- P^{x}_{+} + P^{x}_{qq}\\right) + 0.25 \\left(e^{2}_{u}\\right)^{2} \\left(- P^{x}_{+} + P^{x}_{qq}\\right) & - 0.5 P^{x}_{+} e^{2}_{d} + 0.5 P^{x}_{+} e^{2}_{u} - 0.25 \\left(e^{2}_{d}\\right)^{2} \\left(- P^{x}_{+} + P^{x}_{qq}\\right) + 0.25 \\left(e^{2}_{u}\\right)^{2} \\left(- P^{x}_{+} + P^{x}_{qq}\\right) & 0 & 0 & 0 & 0 & 0 & 0 & 0 & 0 & 0 & 0\\\\- 6 P^{x}_{qg} e^{2}_{d} + 6.0 P^{x}_{qg} e^{2}_{u} & - 6 P^{x}_{q\\gamma} e^{2}_{d} + 6.0 P^{x}_{q\\gamma} e^{2}_{u} & - 0.5 P^{x}_{+} e^{2}_{d} + 0.5 P^{x}_{+} e^{2}_{u} - 0.25 \\left(e^{2}_{d}\\right)^{2} \\left(- P^{x}_{+} + P^{x}_{qq}\\right) + 0.25 \\left(e^{2}_{u}\\right)^{2} \\left(- P^{x}_{+} + P^{x}_{qq}\\right) & 0.5 P^{x}_{+} e^{2}_{d} + 0.5 P^{x}_{+} e^{2}_{u} + 1.0 P_{+} + 0.25 \\left(e^{2}_{d}\\right)^{2} \\left(- P^{x}_{+} + P^{x}_{qq}\\right) - 0.5 e^{2}_{d} e^{2}_{u} \\left(- P^{x}_{+} + P^{x}_{qq}\\right) + 0.25 \\left(e^{2}_{u}\\right)^{2} \\left(- P^{x}_{+} + P^{x}_{qq}\\right) & 0 & 0 & 0 & 0 & 0 & 0 & 0 & 0 & 0 & 0\\\\0 & 0 & 0 & 0 & 0.5 P^{x}_{-} e^{2}_{d} + 0.5 P^{x}_{-} e^{2}_{u} - 1.11022302462516 \\cdot 10^{-16} P_{-} + 1.0 P_{V} & - 0.5 P^{x}_{-} e^{2}_{d} + 0.5 P^{x}_{-} e^{2}_{u} & 0 & 0 & 0 & 0 & 0 & 0 & 0 & 0\\\\0 & 0 & 0 & 0 & - 0.5 P^{x}_{-} e^{2}_{d} + 0.5 P^{x}_{-} e^{2}_{u} & 0.5 P^{x}_{-} e^{2}_{d} + 0.5 P^{x}_{-} e^{2}_{u} + 1.0 P_{-} & 0 & 0 & 0 & 0 & 0 & 0 & 0 & 0\\\\0 & 0 & 0 & 0 & 0 & 0 & 1.0 P^{x}_{+} e^{2}_{d} + 1.0 P_{+} & 0 & 0 & 0 & 0 & 0 & 0 & 0\\\\0 & 0 & 0 & 0 & 0 & 0 & 0 & 1.0 P^{x}_{-} e^{2}_{d} + 1.0 P_{-} & 0 & 0 & 0 & 0 & 0 & 0\\\\0 & 0 & 0 & 0 & 0 & 0 & 0 & 0 & 1.0 P^{x}_{+} e^{2}_{u} + 1.0 P_{+} & 0 & 0 & 0 & 0 & 0\\\\0 & 0 & 0 & 0 & 0 & 0 & 0 & 0 & 0 & 1.0 P^{x}_{-} e^{2}_{u} + 1.0 P_{-} & 0 & 0 & 0 & 0\\\\0 & 0 & 0 & 0 & 0 & 0 & 0 & 0 & 0 & 0 & 1.0 P^{x}_{+} e^{2}_{d} + 1.0 P_{+} & 0 & 0 & 0\\\\0 & 0 & 0 & 0 & 0 & 0 & 0 & 0 & 0 & 0 & 0 & 1.0 P^{x}_{-} e^{2}_{d} + 1.0 P_{-} & 0 & 0\\\\0 & 0 & 0 & 0 & 0 & 0 & 0 & 0 & 0 & 0 & 0 & 0 & 1.0 P^{x}_{+} e^{2}_{u} + 1.0 P_{+} & 0\\\\0 & 0 & 0 & 0 & 0 & 0 & 0 & 0 & 0 & 0 & 0 & 0 & 0 & 1.0 P^{x}_{-} e^{2}_{u} + 1.0 P_{-}\\end{array}\\right]$"
      ],
      "text/plain": [
       "Matrix([\n",
       "[                 P^x_gg*e_\\Sigma^2 + P_gg,                       P^x_g\\gamma*e_\\Sigma^2,                                                                                                                                  0.5*P^x_gq*e_d^2 + 0.5*P^x_gq*e_u^2 + 1.0*P_gq,                                                                                                                -0.5*P^x_gq*e_d^2 + 0.5*P^x_gq*e_u^2,                                                                      0,                                           0,                         0,                         0,                         0,                         0,                         0,                         0,                         0,                         0],\n",
       "[                  P^x_\\gamma g*e_\\Sigma^2,                  P^x_\\gamma\\gamma*e_\\Sigma^2,                                                                                                                                 0.5*P^x_\\gamma q*e_d^2 + 0.5*P^x_\\gamma q*e_u^2,                                                                                                    -0.5*P^x_\\gamma q*e_d^2 + 0.5*P^x_\\gamma q*e_u^2,                                                                      0,                                           0,                         0,                         0,                         0,                         0,                         0,                         0,                         0,                         0],\n",
       "[6*P^x_qg*e_d^2 + 6*P^x_qg*e_u^2 + 12*P_qg,    6*P^x_q\\gamma*e_d^2 + 6*P^x_q\\gamma*e_u^2, 0.5*P^x_+*e_d^2 + 0.5*P^x_+*e_u^2 - 1.11022302462516e-16*P_+ + 1.0*P_qq + 0.25*e_d^2**2*(-P^x_+ + P^x_qq) + 0.5*e_d^2*e_u^2*(-P^x_+ + P^x_qq) + 0.25*e_u^2**2*(-P^x_+ + P^x_qq),                                              -0.5*P^x_+*e_d^2 + 0.5*P^x_+*e_u^2 - 0.25*e_d^2**2*(-P^x_+ + P^x_qq) + 0.25*e_u^2**2*(-P^x_+ + P^x_qq),                                                                      0,                                           0,                         0,                         0,                         0,                         0,                         0,                         0,                         0,                         0],\n",
       "[       -6*P^x_qg*e_d^2 + 6.0*P^x_qg*e_u^2, -6*P^x_q\\gamma*e_d^2 + 6.0*P^x_q\\gamma*e_u^2,                                                                          -0.5*P^x_+*e_d^2 + 0.5*P^x_+*e_u^2 - 0.25*e_d^2**2*(-P^x_+ + P^x_qq) + 0.25*e_u^2**2*(-P^x_+ + P^x_qq), 0.5*P^x_+*e_d^2 + 0.5*P^x_+*e_u^2 + 1.0*P_+ + 0.25*e_d^2**2*(-P^x_+ + P^x_qq) - 0.5*e_d^2*e_u^2*(-P^x_+ + P^x_qq) + 0.25*e_u^2**2*(-P^x_+ + P^x_qq),                                                                      0,                                           0,                         0,                         0,                         0,                         0,                         0,                         0,                         0,                         0],\n",
       "[                                        0,                                            0,                                                                                                                                                                               0,                                                                                                                                                   0, 0.5*P^x_-*e_d^2 + 0.5*P^x_-*e_u^2 - 1.11022302462516e-16*P_- + 1.0*P_V,          -0.5*P^x_-*e_d^2 + 0.5*P^x_-*e_u^2,                         0,                         0,                         0,                         0,                         0,                         0,                         0,                         0],\n",
       "[                                        0,                                            0,                                                                                                                                                                               0,                                                                                                                                                   0,                                     -0.5*P^x_-*e_d^2 + 0.5*P^x_-*e_u^2, 0.5*P^x_-*e_d^2 + 0.5*P^x_-*e_u^2 + 1.0*P_-,                         0,                         0,                         0,                         0,                         0,                         0,                         0,                         0],\n",
       "[                                        0,                                            0,                                                                                                                                                                               0,                                                                                                                                                   0,                                                                      0,                                           0, 1.0*P^x_+*e_d^2 + 1.0*P_+,                         0,                         0,                         0,                         0,                         0,                         0,                         0],\n",
       "[                                        0,                                            0,                                                                                                                                                                               0,                                                                                                                                                   0,                                                                      0,                                           0,                         0, 1.0*P^x_-*e_d^2 + 1.0*P_-,                         0,                         0,                         0,                         0,                         0,                         0],\n",
       "[                                        0,                                            0,                                                                                                                                                                               0,                                                                                                                                                   0,                                                                      0,                                           0,                         0,                         0, 1.0*P^x_+*e_u^2 + 1.0*P_+,                         0,                         0,                         0,                         0,                         0],\n",
       "[                                        0,                                            0,                                                                                                                                                                               0,                                                                                                                                                   0,                                                                      0,                                           0,                         0,                         0,                         0, 1.0*P^x_-*e_u^2 + 1.0*P_-,                         0,                         0,                         0,                         0],\n",
       "[                                        0,                                            0,                                                                                                                                                                               0,                                                                                                                                                   0,                                                                      0,                                           0,                         0,                         0,                         0,                         0, 1.0*P^x_+*e_d^2 + 1.0*P_+,                         0,                         0,                         0],\n",
       "[                                        0,                                            0,                                                                                                                                                                               0,                                                                                                                                                   0,                                                                      0,                                           0,                         0,                         0,                         0,                         0,                         0, 1.0*P^x_-*e_d^2 + 1.0*P_-,                         0,                         0],\n",
       "[                                        0,                                            0,                                                                                                                                                                               0,                                                                                                                                                   0,                                                                      0,                                           0,                         0,                         0,                         0,                         0,                         0,                         0, 1.0*P^x_+*e_u^2 + 1.0*P_+,                         0],\n",
       "[                                        0,                                            0,                                                                                                                                                                               0,                                                                                                                                                   0,                                                                      0,                                           0,                         0,                         0,                         0,                         0,                         0,                         0,                         0, 1.0*P^x_-*e_u^2 + 1.0*P_-]])"
      ]
     },
     "execution_count": 154,
     "metadata": {},
     "output_type": "execute_result"
    }
   ],
   "source": [
    "P_ev(6)"
   ]
  },
  {
   "cell_type": "code",
   "execution_count": null,
   "id": "53626511",
   "metadata": {},
   "outputs": [],
   "source": []
  }
 ],
 "metadata": {
  "kernelspec": {
   "display_name": "Python 3 (ipykernel)",
   "language": "python",
   "name": "python3"
  },
  "language_info": {
   "codemirror_mode": {
    "name": "ipython",
    "version": 3
   },
   "file_extension": ".py",
   "mimetype": "text/x-python",
   "name": "python",
   "nbconvert_exporter": "python",
   "pygments_lexer": "ipython3",
   "version": "3.8.12"
  }
 },
 "nbformat": 4,
 "nbformat_minor": 5
}
