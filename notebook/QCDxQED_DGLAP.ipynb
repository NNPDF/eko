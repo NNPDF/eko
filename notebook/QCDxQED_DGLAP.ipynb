{
 "cells": [
  {
   "cell_type": "code",
   "execution_count": 2,
   "id": "e9589ad4",
   "metadata": {},
   "outputs": [],
   "source": [
    "import sympy"
   ]
  },
  {
   "cell_type": "markdown",
   "id": "83c8a5aa",
   "metadata": {},
   "source": [
    "## Flavor basis :\n",
    "### [u+, c+, t+, d+, s+, b+, g, \\gamma, b-, s-, d-, t-, c-, u-]\n",
    "## Singlet basis :\n",
    "### [\\Sigma_u, \\Sigma_d, g, \\gamma, V_d, V_u, T_3^d, V_3^d, T_3^u / c+, V_3^u / c-, T_8^d / b+, V_8^d / b-, T_8^u / t+, V_8^u / t-]\n",
    "## Intrinsic evolution basis :\n",
    "### [g, \\gamma, \\Sigma, \\Delta_\\Sigma, V, \\Delta_V, T_3^d, V_3^d, T_3^u / c+, V_3^u / c-, T_8^d / b+, V_8^d / b-, T_8^u / t+, V_8^u / t-]"
   ]
  },
  {
   "cell_type": "markdown",
   "id": "34f7316a",
   "metadata": {},
   "source": [
    "### [T_3^u, V_3^u, T_8^d, V_8^d, T_8^u, V_8^u] is: \n",
    "### [c+, c-, b+, b-, t+, t-] in nf=3, \n",
    "### [T_3^u, V_3^u, b+, b-, t+, t-] in nf=4, \n",
    "### [T_3^u, V_3^u, T_8^d, V_8^d, t+, t-] in nf=5, \n",
    "### [T_3^u, V_3^u, T_8^d, V_8^d, T_8^u, V_8^u] in nf=6"
   ]
  },
  {
   "cell_type": "code",
   "execution_count": 3,
   "id": "d17e49bd",
   "metadata": {},
   "outputs": [],
   "source": [
    "#QCD\n",
    "Pv, Pp, Pm, Pqq, Pqg, Pgq, Pgg = sympy.symbols(\"P_V P_+ P_- P_qq P_qg P_gq P_gg\")\n",
    "nf = sympy.symbols(\"n_f\")"
   ]
  },
  {
   "cell_type": "code",
   "execution_count": 4,
   "id": "48aa792c",
   "metadata": {},
   "outputs": [],
   "source": [
    "# QED\n",
    "Pxv, Pxp, Pxm, Pxqq, Pxqg, Pxgq, Pxgg = sympy.symbols(\"P^x_V P^x_+ P^x_- P^x_qq P^x_qg P^x_gq P^x_gg\")\n",
    "Pxqy, Pxyq, Pxyg, Pxgy, Pxyy = sympy.symbols(\"P^x_q\\gamma P^x_\\gamma\\ q P^x_\\gamma\\ g P^x_g\\gamma P^x_\\gamma\\gamma\")\n",
    "eu2, ed2, es2 = sympy.symbols(\"e_u^2 e_d^2 e_\\Sigma^2\") # charges"
   ]
  },
  {
   "cell_type": "markdown",
   "id": "ea0536a9",
   "metadata": {},
   "source": [
    "# Unified Evolution for generic n_f"
   ]
  },
  {
   "cell_type": "code",
   "execution_count": 5,
   "id": "b48ccd4b",
   "metadata": {},
   "outputs": [],
   "source": [
    "def theta(x):\n",
    "    if x>=0 :\n",
    "        return 1\n",
    "    else:\n",
    "        return 0"
   ]
  },
  {
   "cell_type": "code",
   "execution_count": 6,
   "id": "6c5d10c1",
   "metadata": {},
   "outputs": [],
   "source": [
    "#QCD\n",
    "\n",
    "def P_qcd(nf): \n",
    "    return sympy.Matrix([[Pp , 0, 0, 0, 0, 0, 2 * Pqg, 0, 0, 0, 0, 0, 0, 0], #u+\n",
    "                         [0, theta(nf-4)*Pp, 0, 0, 0, 0, theta(nf-4)*2*Pqg, 0, 0, 0, 0, 0, 0, 0], #c+\n",
    "                         [0, 0, theta(nf-6)*Pp, 0, 0, 0, theta(nf-6)*2*Pqg, 0, 0, 0, 0, 0, 0, 0], #t+\n",
    "                         [0, 0, 0, Pp, 0, 0, 2 * Pqg, 0, 0, 0, 0, 0, 0, 0], #d+\n",
    "                         [0, 0, 0, 0, Pp, 0, 2 * Pqg, 0, 0, 0, 0, 0, 0, 0], #s+\n",
    "                         [0, 0, 0, 0, 0, theta(nf-5)*Pp, theta(nf-5)*2*Pqg, 0, 0, 0, 0, 0, 0, 0], #b+\n",
    "                         [Pgq, theta(nf-4)*Pgq, theta(nf-6)*Pgq, Pgq, Pgq, theta(nf-5)*Pgq, Pgg, 0, 0, 0, 0, 0, 0, 0], #g\n",
    "                         [0, 0, 0, 0, 0, 0, 0, 0, 0, 0, 0, 0, 0, 0], #\\gamma\n",
    "                         [0, 0, 0, 0, 0, 0, 0, 0, theta(nf-5)*Pm, 0, 0, 0, 0, 0], #b-\n",
    "                         [0, 0, 0, 0, 0, 0, 0, 0, 0, Pm, 0, 0, 0, 0], #s-\n",
    "                         [0, 0, 0, 0, 0, 0, 0, 0, 0, 0, Pm, 0, 0, 0], #d-\n",
    "                         [0, 0, 0, 0, 0, 0, 0, 0, 0, 0, 0, theta(nf-6)*Pm, 0, 0], #t-\n",
    "                         [0, 0, 0, 0, 0, 0, 0, 0, 0, 0, 0, 0, theta(nf-4)*Pm, 0], #c-\n",
    "                         [0, 0, 0, 0, 0, 0, 0, 0, 0, 0, 0, 0, 0, Pm]]) #u-\n",
    "\n",
    "def Ps_qcd(nf):          #\\Sigma_u,\\Sigma_d,g,\\gamma,V_d,V_u,T_3^d,V_3^d,T_3^u,V_3^u,T_8^d,V_8^d,T_8^u,V_8^u\n",
    "    return sympy.Matrix([[Pqq - Pp, Pqq - Pp, 0, 0, 0, 0, 0, 0, 0, 0, 0, 0, 0, 0],#u+\n",
    "                         [theta(nf-4)*(Pqq - Pp),theta(nf-4)*(Pqq - Pp), 0, 0, 0, 0, 0, 0, 0, 0, 0, 0, 0, 0],#c+\n",
    "                         [theta(nf-6)*(Pqq - Pp),theta(nf-6)*(Pqq - Pp), 0, 0, 0, 0, 0, 0, 0, 0, 0, 0, 0, 0], #t+\n",
    "                         [Pqq - Pp, Pqq - Pp, 0, 0, 0, 0, 0, 0, 0, 0, 0, 0, 0, 0], #d+\n",
    "                         [Pqq - Pp, Pqq - Pp, 0, 0, 0,0, 0, 0, 0, 0, 0, 0, 0, 0], #s+\n",
    "                         [theta(nf-5)*(Pqq - Pp),theta(nf-5)*(Pqq - Pp), 0, 0, 0,0, 0, 0, 0, 0, 0, 0, 0, 0], #b+\n",
    "                         [0, 0, 0, 0, 0, 0, 0, 0, 0, 0, 0, 0, 0, 0], #g\n",
    "                         [0, 0, 0, 0, 0, 0, 0, 0, 0, 0, 0, 0, 0, 0], #\\gamma\n",
    "                         [0, 0, 0, 0, theta(nf-5)*(Pv - Pm), theta(nf-5)*(Pv - Pm), 0, 0, 0, 0, 0, 0, 0, 0], #b-\n",
    "                         [0, 0, 0, 0, Pv - Pm, Pv - Pm, 0, 0, 0, 0, 0, 0, 0, 0], #s-\n",
    "                         [0, 0, 0, 0, Pv - Pm, Pv - Pm, 0, 0, 0, 0, 0, 0, 0, 0], #d-\n",
    "                         [0, 0, 0, 0, theta(nf-6)*(Pv - Pm), theta(nf-6)*(Pv - Pm), 0, 0, 0, 0, 0, 0, 0, 0], #t-\n",
    "                         [0, 0, 0, 0, theta(nf-4)*(Pv - Pm), theta(nf-4)*(Pv - Pm), 0, 0, 0, 0, 0, 0, 0, 0], #c-\n",
    "                         [0, 0, 0, 0, Pv - Pm, Pv - Pm, 0, 0, 0, 0, 0, 0, 0, 0]]) / nf #u-"
   ]
  },
  {
   "cell_type": "code",
   "execution_count": 7,
   "id": "287b8cd2",
   "metadata": {},
   "outputs": [],
   "source": [
    "#QED\n",
    "\n",
    "def P_qed(nf):\n",
    "    return sympy.Matrix([[eu2 * Pxp, 0, 0, 0, 0, 0, 2 * eu2 * Pxqg, 2 * eu2 * Pxqy, 0, 0, 0, 0, 0, 0], #u+\n",
    "                         [0, theta(nf-4)*eu2 * Pxp, 0, 0, 0, 0, theta(nf-4)*2 * eu2 * Pxqg, theta(nf-4)*2 * eu2 * Pxqy, 0, 0, 0, 0, 0, 0], #c+\n",
    "                         [0, 0, theta(nf-6)*eu2 * Pxp, 0, 0, 0, theta(nf-6)*2 * eu2 * Pxqg, theta(nf-6)*2 * eu2 * Pxqy, 0, 0, 0, 0, 0, 0], #t+\n",
    "                         [0, 0, 0, ed2 * Pxp, 0, 0, 2 * ed2 * Pxqg, 2 * ed2 * Pxqy, 0, 0, 0, 0, 0, 0], #d+\n",
    "                         [0, 0, 0, 0, ed2 * Pxp, 0, 2 * ed2 * Pxqg, 2 * ed2 * Pxqy, 0, 0, 0, 0, 0, 0], #s+\n",
    "                         [0, 0, 0, 0, 0, theta(nf-5)*ed2 * Pxp, theta(nf-5)*2 * ed2 * Pxqg, theta(nf-5)*2 * ed2 * Pxqy, 0, 0, 0, 0, 0, 0], #b+\n",
    "                         [eu2 * Pxgq, theta(nf-4)*eu2 * Pxgq, theta(nf-6)*eu2 * Pxgq, ed2 * Pxgq, ed2 * Pxgq, theta(nf-5)*ed2 * Pxgq, es2 * Pxgg, es2 * Pxgy, 0, 0, 0, 0, 0, 0], #g\n",
    "                         [eu2 * Pxyq, theta(nf-4)*eu2 * Pxyq, theta(nf-6)*eu2 * Pxyq, ed2 * Pxyq, ed2 * Pxyq, theta(nf-5)*ed2 * Pxyq, es2 * Pxyg, es2 * Pxyy, 0, 0, 0, 0, 0, 0], #\\gamma\n",
    "                         [0, 0, 0, 0, 0, 0, 0, 0, theta(nf-5)*ed2 * Pxm, 0, 0, 0, 0, 0], #b-\n",
    "                         [0, 0, 0, 0, 0, 0, 0, 0, 0, ed2 * Pxm, 0, 0, 0, 0],#s-\n",
    "                         [0, 0, 0, 0, 0, 0, 0, 0, 0, 0, ed2 * Pxm, 0, 0, 0],#d-\n",
    "                         [0, 0, 0, 0, 0, 0, 0, 0, 0, 0, 0, theta(nf-6)*eu2 * Pxm, 0, 0], #t-\n",
    "                         [0, 0, 0, 0, 0, 0, 0, 0, 0, 0, 0, 0, theta(nf-4)*eu2 * Pxm, 0], #c-\n",
    "                         [0, 0, 0, 0, 0, 0, 0, 0, 0, 0, 0, 0, 0, eu2 * Pxm]]) #u-\n",
    "def Ps_qed(nf):          #\\Sigma_u,\\Sigma_d,g,\\gamma,V_d,V_u,T_3^d,V_3^d,T_3^u,V_3^u,T_8^d,V_8^d,T_8^u,V_8^u\n",
    "    return sympy.Matrix([[(Pxqq - Pxp)*eu2**2, eu2 * ed2 * (Pxqq - Pxp), 0, 0, 0, 0, 0, 0, 0, 0, 0, 0, 0, 0],#u+\n",
    "                         [theta(nf-4)*(Pxqq - Pxp)*eu2**2, theta(nf-4)*eu2 * ed2 * (Pxqq - Pxp), 0, 0, 0, 0, 0, 0, 0, 0, 0, 0, 0, 0],#c+\n",
    "                         [theta(nf-6)*(Pxqq - Pxp)*eu2**2, theta(nf-6)*eu2 * ed2 * (Pxqq - Pxp), 0, 0, 0, 0, 0, 0, 0, 0, 0, 0, 0, 0], #t+\n",
    "                         [eu2 * ed2 * (Pxqq - Pxp), ed2**2 * (Pxqq - Pxp), 0, 0, 0, 0, 0, 0, 0, 0, 0, 0, 0, 0], #d+\n",
    "                         [eu2 * ed2 * (Pxqq - Pxp), ed2**2 * (Pxqq - Pxp), 0, 0, 0, 0, 0, 0, 0, 0, 0, 0, 0, 0], #s+\n",
    "                         [theta(nf-5)*eu2 * ed2 * (Pxqq - Pxp), theta(nf-5)*ed2**2 * (Pxqq - Pxp), 0, 0, 0, 0, 0, 0, 0, 0, 0, 0, 0, 0], #b+\n",
    "                         [0, 0, 0, 0, 0, 0, 0, 0, 0, 0, 0, 0, 0, 0], #g\n",
    "                         [0, 0, 0, 0, 0, 0, 0, 0, 0, 0, 0, 0, 0, 0], #\\gamma\n",
    "                         [0, 0, 0, 0, 0, 0, 0, 0, 0, 0, 0, 0, 0, 0], #b-\n",
    "                         [0, 0, 0, 0, 0, 0, 0, 0, 0, 0, 0, 0, 0, 0], #s-\n",
    "                         [0, 0, 0, 0, 0, 0, 0, 0, 0, 0, 0, 0, 0, 0], #d-\n",
    "                         [0, 0, 0, 0, 0, 0, 0, 0, 0, 0, 0, 0, 0, 0], #t-\n",
    "                         [0, 0, 0, 0, 0, 0, 0, 0, 0, 0, 0, 0, 0, 0], #c-\n",
    "                         [0, 0, 0, 0, 0, 0, 0, 0, 0, 0, 0, 0, 0, 0]]) / nf #u-"
   ]
  },
  {
   "cell_type": "code",
   "execution_count": 8,
   "id": "57bb7421",
   "metadata": {},
   "outputs": [],
   "source": [
    "def P_uni(nf):\n",
    "    return P_qcd(nf)+P_qed(nf)\n",
    "\n",
    "def Ps_uni(nf):\n",
    "    return Ps_qcd(nf)+Ps_qed(nf)"
   ]
  },
  {
   "cell_type": "code",
   "execution_count": 9,
   "id": "cd1200b7",
   "metadata": {},
   "outputs": [],
   "source": [
    "def rot_fl_to_ev(nf):\n",
    "    if nf==3 :\n",
    "        nu=1\n",
    "        nd=2\n",
    "    if nf==4 :\n",
    "        nu=2\n",
    "        nd=2\n",
    "    if nf==5 :\n",
    "        nu=2\n",
    "        nd=3\n",
    "    if nf==6 :\n",
    "        nu=3\n",
    "        nd=3\n",
    "    return sympy.Matrix([[0, 0, 0, 0, 0, 0, 1, 0, 0, 0, 0, 0, 0, 0], #g\n",
    "                         [0, 0, 0, 0, 0, 0, 0, 1, 0, 0, 0, 0, 0, 0], #\\gamma\n",
    "                         [1, theta(nf-4), theta(nf-6), 1, 1, theta(nf-5), 0, 0, 0, 0, 0, 0, 0, 0], #\\Sigma\n",
    "                         [nd/nu, theta(nf-4)*nd/nu, theta(nf-6)*nd/nu, -1, -1, -theta(nf-5), 0, 0, 0, 0, 0, 0, 0, 0], #\\Delta_\\Sigma\n",
    "                         [0, 0, 0, 0, 0, 0, 0, 0, theta(nf-5), 1, 1, theta(nf-6), theta(nf-4), 1], #V\n",
    "                         [0, 0, 0, 0, 0, 0, 0, 0, -theta(nf-5), -1, -1, nd/nu*theta(nf-6), nd/nu*theta(nf-4), nd/nu], #\\Delta_V\n",
    "                         [0, 0, 0, 1, -1, 0, 0, 0, 0, 0, 0, 0, 0, 0], #T_3^d\n",
    "                         [0, 0, 0, 0, 0, 0, 0, 0, 0, -1, 1, 0, 0, 0], #V_3^d\n",
    "                         [theta(nf-4), theta(3-nf)-theta(nf-4), 0, 0, 0, 0, 0, 0, 0, 0, 0, 0, 0, 0], #T_3^u / c+\n",
    "                         [0, 0, 0, 0, 0, 0, 0, 0, 0, 0, 0, 0, theta(3-nf)-theta(nf-4), theta(nf-4)], #V_3^u / c-\n",
    "                         [0, 0, 0, theta(nf-5), theta(nf-5), theta(4-nf)-2*theta(nf-5), 0, 0, 0, 0, 0, 0, 0, 0], #T_8^d / b+\n",
    "                         [0, 0, 0, 0, 0, 0, 0, 0, theta(4-nf)-2*theta(nf-5), theta(nf-5), theta(nf-5), 0, 0, 0], #V_8^d / b-\n",
    "                         [theta(nf-6), theta(nf-6), theta(5-nf)-2*theta(nf-6), 0, 0, 0, 0, 0, 0, 0, 0, 0, 0, 0], #T_8^u / t+\n",
    "                         [0, 0, 0, 0, 0, 0, 0, 0, 0, 0, 0, theta(5-nf)-2*theta(nf-6), theta(nf-6), theta(nf-6)]]) #V_8^u / t-"
   ]
  },
  {
   "cell_type": "code",
   "execution_count": 10,
   "id": "77982ede",
   "metadata": {},
   "outputs": [],
   "source": [
    "def rot_ev_to_fl(nf):\n",
    "    return rot_fl_to_ev(nf).inv()"
   ]
  },
  {
   "cell_type": "code",
   "execution_count": 11,
   "id": "5ab19866",
   "metadata": {},
   "outputs": [],
   "source": [
    "def rot_sin_to_ev(nf):\n",
    "    if nf==3 :\n",
    "        nu=1\n",
    "        nd=2\n",
    "    if nf==4 :\n",
    "        nu=2\n",
    "        nd=2\n",
    "    if nf==5 :\n",
    "        nu=2\n",
    "        nd=3\n",
    "    if nf==6 :\n",
    "        nu=3\n",
    "        nd=3\n",
    "    return sympy.Matrix([[0, 0, 1, 0, 0, 0, 0, 0, 0, 0, 0, 0, 0, 0], #g\n",
    "                         [0, 0, 0, 1, 0, 0, 0, 0, 0, 0, 0, 0, 0, 0], #\\gamma\n",
    "                         [1, 1, 0, 0, 0, 0, 0, 0, 0, 0, 0, 0, 0, 0], #Sigma\n",
    "                         [nd/nu, -1, 0, 0, 0, 0, 0, 0, 0, 0, 0, 0, 0, 0], #\\Delta_\\Sigma\n",
    "                         [0, 0, 0, 0, 1, 1, 0, 0, 0, 0, 0, 0, 0, 0], #V\n",
    "                         [0, 0, 0, 0, -1, nd/nu, 0, 0, 0, 0, 0, 0, 0, 0], #\\Delta_V\n",
    "                         [0, 0, 0, 0, 0, 0, 1, 0, 0, 0, 0, 0, 0, 0], #T_3^d\n",
    "                         [0, 0, 0, 0, 0, 0, 0, 1, 0, 0, 0, 0, 0, 0], #V_3^d\n",
    "                         [0, 0, 0, 0, 0, 0, 0, 0, 1, 0, 0, 0, 0, 0], #T_3^u / c+\n",
    "                         [0, 0, 0, 0, 0, 0, 0, 0, 0, 1, 0, 0, 0, 0], #V_3^u / c-\n",
    "                         [0, 0, 0, 0, 0, 0, 0, 0, 0, 0, 1, 0, 0, 0], #T_8^d / b+\n",
    "                         [0, 0, 0, 0, 0, 0, 0, 0, 0, 0, 0, 1, 0, 0], #V_8^d / b-\n",
    "                         [0, 0, 0, 0, 0, 0, 0, 0, 0, 0, 0, 0, 1, 0], #T_8^u / t+\n",
    "                         [0, 0, 0, 0, 0, 0, 0, 0, 0, 0, 0, 0, 0, 1]]) #V_8^u / t-"
   ]
  },
  {
   "cell_type": "code",
   "execution_count": 12,
   "id": "601fe92c",
   "metadata": {},
   "outputs": [],
   "source": [
    "def rot_ev_to_sin(nf):\n",
    "    return rot_sin_to_ev(nf).inv()"
   ]
  },
  {
   "cell_type": "code",
   "execution_count": 13,
   "id": "ebfaa9ad",
   "metadata": {},
   "outputs": [],
   "source": [
    "def P_ev(nf):\n",
    "    res = rot_fl_to_ev(nf) * P_uni(nf) * rot_ev_to_fl(nf) + rot_fl_to_ev(nf) * Ps_uni(nf) * rot_ev_to_sin(nf)\n",
    "    return res"
   ]
  },
  {
   "cell_type": "code",
   "execution_count": 20,
   "id": "6f5d3f7c",
   "metadata": {},
   "outputs": [
    {
     "data": {
      "text/latex": [
       "$\\displaystyle \\left[\\begin{array}{cccccccccccccc}P^{x}_{gg} e^{2}_{\\Sigma} + P_{gg} & P^{x}_{g\\gamma} e^{2}_{\\Sigma} & 0.666666666666667 P^{x}_{gq} e^{2}_{d} + 0.333333333333333 P^{x}_{gq} e^{2}_{u} + 1.0 P_{gq} & - 0.333333333333333 P^{x}_{gq} e^{2}_{d} + 0.333333333333333 P^{x}_{gq} e^{2}_{u} & 0 & 0 & 0 & 0 & 0 & 0 & 0 & 0 & 0 & 0\\\\P^{x}_{\\gamma g} e^{2}_{\\Sigma} & P^{x}_{\\gamma\\gamma} e^{2}_{\\Sigma} & 0.666666666666667 P^{x}_{\\gamma q} e^{2}_{d} + 0.333333333333333 P^{x}_{\\gamma q} e^{2}_{u} & - 0.333333333333333 P^{x}_{\\gamma q} e^{2}_{d} + 0.333333333333333 P^{x}_{\\gamma q} e^{2}_{u} & 0 & 0 & 0 & 0 & 0 & 0 & 0 & 0 & 0 & 0\\\\4 P^{x}_{qg} e^{2}_{d} + 2 P^{x}_{qg} e^{2}_{u} + 6 P_{qg} & 4 P^{x}_{q\\gamma} e^{2}_{d} + 2 P^{x}_{q\\gamma} e^{2}_{u} & 0.666666666666667 P^{x}_{+} e^{2}_{d} + 0.333333333333333 P^{x}_{+} e^{2}_{u} + 1.0 P_{qq} + 0.444444444444444 \\left(e^{2}_{d}\\right)^{2} \\left(- P^{x}_{+} + P^{x}_{qq}\\right) + 0.444444444444444 e^{2}_{d} e^{2}_{u} \\left(- P^{x}_{+} + P^{x}_{qq}\\right) + 0.111111111111111 \\left(e^{2}_{u}\\right)^{2} \\left(- P^{x}_{+} + P^{x}_{qq}\\right) & - 0.333333333333333 P^{x}_{+} e^{2}_{d} + 0.333333333333333 P^{x}_{+} e^{2}_{u} - 0.222222222222222 \\left(e^{2}_{d}\\right)^{2} \\left(- P^{x}_{+} + P^{x}_{qq}\\right) + 0.111111111111111 e^{2}_{d} e^{2}_{u} \\left(- P^{x}_{+} + P^{x}_{qq}\\right) + 0.111111111111111 \\left(e^{2}_{u}\\right)^{2} \\left(- P^{x}_{+} + P^{x}_{qq}\\right) & 0 & 0 & 0 & 0 & 0 & 0 & 0 & 0 & 0 & 0\\\\- 4 P^{x}_{qg} e^{2}_{d} + 4.0 P^{x}_{qg} e^{2}_{u} & - 4 P^{x}_{q\\gamma} e^{2}_{d} + 4.0 P^{x}_{q\\gamma} e^{2}_{u} & - 0.666666666666667 P^{x}_{+} e^{2}_{d} + 0.666666666666667 P^{x}_{+} e^{2}_{u} - 0.444444444444444 \\left(e^{2}_{d}\\right)^{2} \\left(- P^{x}_{+} + P^{x}_{qq}\\right) + 0.222222222222222 e^{2}_{d} e^{2}_{u} \\left(- P^{x}_{+} + P^{x}_{qq}\\right) + 0.222222222222222 \\left(e^{2}_{u}\\right)^{2} \\left(- P^{x}_{+} + P^{x}_{qq}\\right) & 0.333333333333333 P^{x}_{+} e^{2}_{d} + 0.666666666666667 P^{x}_{+} e^{2}_{u} + 1.0 P_{+} + 0.222222222222222 \\left(e^{2}_{d}\\right)^{2} \\left(- P^{x}_{+} + P^{x}_{qq}\\right) - 0.444444444444444 e^{2}_{d} e^{2}_{u} \\left(- P^{x}_{+} + P^{x}_{qq}\\right) + 0.222222222222222 \\left(e^{2}_{u}\\right)^{2} \\left(- P^{x}_{+} + P^{x}_{qq}\\right) & 0 & 0 & 0 & 0 & 0 & 0 & 0 & 0 & 0 & 0\\\\0 & 0 & 0 & 0 & 0.666666666666667 P^{x}_{-} e^{2}_{d} + 0.333333333333333 P^{x}_{-} e^{2}_{u} + 1.0 P_{V} & - 0.333333333333333 P^{x}_{-} e^{2}_{d} + 0.333333333333333 P^{x}_{-} e^{2}_{u} & 0 & 0 & 0 & 0 & 0 & 0 & 0 & 0\\\\0 & 0 & 0 & 0 & - 0.666666666666667 P^{x}_{-} e^{2}_{d} + 0.666666666666667 P^{x}_{-} e^{2}_{u} & 0.333333333333333 P^{x}_{-} e^{2}_{d} + 0.666666666666667 P^{x}_{-} e^{2}_{u} + 1.0 P_{-} & 0 & 0 & 0 & 0 & 0 & 0 & 0 & 0\\\\0 & 0 & 0 & 0 & 0 & 0 & 1.0 P^{x}_{+} e^{2}_{d} + 1.0 P_{+} & 0 & 0 & 0 & 0 & 0 & 0 & 0\\\\0 & 0 & 0 & 0 & 0 & 0 & 0 & 1.0 P^{x}_{-} e^{2}_{d} + 1.0 P_{-} & 0 & 0 & 0 & 0 & 0 & 0\\\\0 & 0 & 0 & 0 & 0 & 0 & 0 & 0 & 0 & 0 & 0 & 0 & 0 & 0\\\\0 & 0 & 0 & 0 & 0 & 0 & 0 & 0 & 0 & 0 & 0 & 0 & 0 & 0\\\\0 & 0 & 0 & 0 & 0 & 0 & 0 & 0 & 0 & 0 & 0 & 0 & 0 & 0\\\\0 & 0 & 0 & 0 & 0 & 0 & 0 & 0 & 0 & 0 & 0 & 0 & 0 & 0\\\\0 & 0 & 0 & 0 & 0 & 0 & 0 & 0 & 0 & 0 & 0 & 0 & 0 & 0\\\\0 & 0 & 0 & 0 & 0 & 0 & 0 & 0 & 0 & 0 & 0 & 0 & 0 & 0\\end{array}\\right]$"
      ],
      "text/plain": [
       "Matrix([\n",
       "[                P^x_gg*e_\\Sigma^2 + P_gg,                       P^x_g\\gamma*e_\\Sigma^2,                                                                                                                                               0.666666666666667*P^x_gq*e_d^2 + 0.333333333333333*P^x_gq*e_u^2 + 1.0*P_gq,                                                                                                                                                        -0.333333333333333*P^x_gq*e_d^2 + 0.333333333333333*P^x_gq*e_u^2,                                                                       0,                                                                       0,                         0,                         0, 0, 0, 0, 0, 0, 0],\n",
       "[                 P^x_\\gamma g*e_\\Sigma^2,                  P^x_\\gamma\\gamma*e_\\Sigma^2,                                                                                                                                              0.666666666666667*P^x_\\gamma q*e_d^2 + 0.333333333333333*P^x_\\gamma q*e_u^2,                                                                                                                                            -0.333333333333333*P^x_\\gamma q*e_d^2 + 0.333333333333333*P^x_\\gamma q*e_u^2,                                                                       0,                                                                       0,                         0,                         0, 0, 0, 0, 0, 0, 0],\n",
       "[4*P^x_qg*e_d^2 + 2*P^x_qg*e_u^2 + 6*P_qg,    4*P^x_q\\gamma*e_d^2 + 2*P^x_q\\gamma*e_u^2, 0.666666666666667*P^x_+*e_d^2 + 0.333333333333333*P^x_+*e_u^2 + 1.0*P_qq + 0.444444444444444*e_d^2**2*(-P^x_+ + P^x_qq) + 0.444444444444444*e_d^2*e_u^2*(-P^x_+ + P^x_qq) + 0.111111111111111*e_u^2**2*(-P^x_+ + P^x_qq),          -0.333333333333333*P^x_+*e_d^2 + 0.333333333333333*P^x_+*e_u^2 - 0.222222222222222*e_d^2**2*(-P^x_+ + P^x_qq) + 0.111111111111111*e_d^2*e_u^2*(-P^x_+ + P^x_qq) + 0.111111111111111*e_u^2**2*(-P^x_+ + P^x_qq),                                                                       0,                                                                       0,                         0,                         0, 0, 0, 0, 0, 0, 0],\n",
       "[      -4*P^x_qg*e_d^2 + 4.0*P^x_qg*e_u^2, -4*P^x_q\\gamma*e_d^2 + 4.0*P^x_q\\gamma*e_u^2,           -0.666666666666667*P^x_+*e_d^2 + 0.666666666666667*P^x_+*e_u^2 - 0.444444444444444*e_d^2**2*(-P^x_+ + P^x_qq) + 0.222222222222222*e_d^2*e_u^2*(-P^x_+ + P^x_qq) + 0.222222222222222*e_u^2**2*(-P^x_+ + P^x_qq), 0.333333333333333*P^x_+*e_d^2 + 0.666666666666667*P^x_+*e_u^2 + 1.0*P_+ + 0.222222222222222*e_d^2**2*(-P^x_+ + P^x_qq) - 0.444444444444444*e_d^2*e_u^2*(-P^x_+ + P^x_qq) + 0.222222222222222*e_u^2**2*(-P^x_+ + P^x_qq),                                                                       0,                                                                       0,                         0,                         0, 0, 0, 0, 0, 0, 0],\n",
       "[                                       0,                                            0,                                                                                                                                                                                                                        0,                                                                                                                                                                                                                       0, 0.666666666666667*P^x_-*e_d^2 + 0.333333333333333*P^x_-*e_u^2 + 1.0*P_V,          -0.333333333333333*P^x_-*e_d^2 + 0.333333333333333*P^x_-*e_u^2,                         0,                         0, 0, 0, 0, 0, 0, 0],\n",
       "[                                       0,                                            0,                                                                                                                                                                                                                        0,                                                                                                                                                                                                                       0,          -0.666666666666667*P^x_-*e_d^2 + 0.666666666666667*P^x_-*e_u^2, 0.333333333333333*P^x_-*e_d^2 + 0.666666666666667*P^x_-*e_u^2 + 1.0*P_-,                         0,                         0, 0, 0, 0, 0, 0, 0],\n",
       "[                                       0,                                            0,                                                                                                                                                                                                                        0,                                                                                                                                                                                                                       0,                                                                       0,                                                                       0, 1.0*P^x_+*e_d^2 + 1.0*P_+,                         0, 0, 0, 0, 0, 0, 0],\n",
       "[                                       0,                                            0,                                                                                                                                                                                                                        0,                                                                                                                                                                                                                       0,                                                                       0,                                                                       0,                         0, 1.0*P^x_-*e_d^2 + 1.0*P_-, 0, 0, 0, 0, 0, 0],\n",
       "[                                       0,                                            0,                                                                                                                                                                                                                        0,                                                                                                                                                                                                                       0,                                                                       0,                                                                       0,                         0,                         0, 0, 0, 0, 0, 0, 0],\n",
       "[                                       0,                                            0,                                                                                                                                                                                                                        0,                                                                                                                                                                                                                       0,                                                                       0,                                                                       0,                         0,                         0, 0, 0, 0, 0, 0, 0],\n",
       "[                                       0,                                            0,                                                                                                                                                                                                                        0,                                                                                                                                                                                                                       0,                                                                       0,                                                                       0,                         0,                         0, 0, 0, 0, 0, 0, 0],\n",
       "[                                       0,                                            0,                                                                                                                                                                                                                        0,                                                                                                                                                                                                                       0,                                                                       0,                                                                       0,                         0,                         0, 0, 0, 0, 0, 0, 0],\n",
       "[                                       0,                                            0,                                                                                                                                                                                                                        0,                                                                                                                                                                                                                       0,                                                                       0,                                                                       0,                         0,                         0, 0, 0, 0, 0, 0, 0],\n",
       "[                                       0,                                            0,                                                                                                                                                                                                                        0,                                                                                                                                                                                                                       0,                                                                       0,                                                                       0,                         0,                         0, 0, 0, 0, 0, 0, 0]])"
      ]
     },
     "execution_count": 20,
     "metadata": {},
     "output_type": "execute_result"
    }
   ],
   "source": [
    "P_ev(3)"
   ]
  },
  {
   "cell_type": "code",
   "execution_count": 17,
   "id": "28ecee8c",
   "metadata": {},
   "outputs": [
    {
     "data": {
      "text/latex": [
       "$\\displaystyle \\left[\\begin{array}{cccccccccccccc}P^{x}_{gg} e^{2}_{\\Sigma} + P_{gg} & P^{x}_{g\\gamma} e^{2}_{\\Sigma} & 0.5 P^{x}_{gq} e^{2}_{d} + 0.5 P^{x}_{gq} e^{2}_{u} + 1.0 P_{gq} & - 0.5 P^{x}_{gq} e^{2}_{d} + 0.5 P^{x}_{gq} e^{2}_{u} & 0 & 0 & 0 & 0 & 0 & 0 & 0 & 0 & 0 & 0\\\\P^{x}_{\\gamma g} e^{2}_{\\Sigma} & P^{x}_{\\gamma\\gamma} e^{2}_{\\Sigma} & 0.5 P^{x}_{\\gamma q} e^{2}_{d} + 0.5 P^{x}_{\\gamma q} e^{2}_{u} & - 0.5 P^{x}_{\\gamma q} e^{2}_{d} + 0.5 P^{x}_{\\gamma q} e^{2}_{u} & 0 & 0 & 0 & 0 & 0 & 0 & 0 & 0 & 0 & 0\\\\4 P^{x}_{qg} e^{2}_{d} + 4 P^{x}_{qg} e^{2}_{u} + 8 P_{qg} & 4 P^{x}_{q\\gamma} e^{2}_{d} + 4 P^{x}_{q\\gamma} e^{2}_{u} & 0.5 P^{x}_{+} e^{2}_{d} + 0.5 P^{x}_{+} e^{2}_{u} + 1.0 P_{qq} + 0.25 \\left(e^{2}_{d}\\right)^{2} \\left(- P^{x}_{+} + P^{x}_{qq}\\right) + 0.5 e^{2}_{d} e^{2}_{u} \\left(- P^{x}_{+} + P^{x}_{qq}\\right) + 0.25 \\left(e^{2}_{u}\\right)^{2} \\left(- P^{x}_{+} + P^{x}_{qq}\\right) & - 0.5 P^{x}_{+} e^{2}_{d} + 0.5 P^{x}_{+} e^{2}_{u} - 0.25 \\left(e^{2}_{d}\\right)^{2} \\left(- P^{x}_{+} + P^{x}_{qq}\\right) + 0.25 \\left(e^{2}_{u}\\right)^{2} \\left(- P^{x}_{+} + P^{x}_{qq}\\right) & 0 & 0 & 0 & 0 & 0 & 0 & 0 & 0 & 0 & 0\\\\- 4 P^{x}_{qg} e^{2}_{d} + 4.0 P^{x}_{qg} e^{2}_{u} & - 4 P^{x}_{q\\gamma} e^{2}_{d} + 4.0 P^{x}_{q\\gamma} e^{2}_{u} & - 0.5 P^{x}_{+} e^{2}_{d} + 0.5 P^{x}_{+} e^{2}_{u} - 0.25 \\left(e^{2}_{d}\\right)^{2} \\left(- P^{x}_{+} + P^{x}_{qq}\\right) + 0.25 \\left(e^{2}_{u}\\right)^{2} \\left(- P^{x}_{+} + P^{x}_{qq}\\right) & 0.5 P^{x}_{+} e^{2}_{d} + 0.5 P^{x}_{+} e^{2}_{u} + 1.0 P_{+} + 0.25 \\left(e^{2}_{d}\\right)^{2} \\left(- P^{x}_{+} + P^{x}_{qq}\\right) - 0.5 e^{2}_{d} e^{2}_{u} \\left(- P^{x}_{+} + P^{x}_{qq}\\right) + 0.25 \\left(e^{2}_{u}\\right)^{2} \\left(- P^{x}_{+} + P^{x}_{qq}\\right) & 0 & 0 & 0 & 0 & 0 & 0 & 0 & 0 & 0 & 0\\\\0 & 0 & 0 & 0 & 0.5 P^{x}_{-} e^{2}_{d} + 0.5 P^{x}_{-} e^{2}_{u} + 1.0 P_{V} & - 0.5 P^{x}_{-} e^{2}_{d} + 0.5 P^{x}_{-} e^{2}_{u} & 0 & 0 & 0 & 0 & 0 & 0 & 0 & 0\\\\0 & 0 & 0 & 0 & - 0.5 P^{x}_{-} e^{2}_{d} + 0.5 P^{x}_{-} e^{2}_{u} & 0.5 P^{x}_{-} e^{2}_{d} + 0.5 P^{x}_{-} e^{2}_{u} + 1.0 P_{-} & 0 & 0 & 0 & 0 & 0 & 0 & 0 & 0\\\\0 & 0 & 0 & 0 & 0 & 0 & 1.0 P^{x}_{+} e^{2}_{d} + 1.0 P_{+} & 0 & 0 & 0 & 0 & 0 & 0 & 0\\\\0 & 0 & 0 & 0 & 0 & 0 & 0 & 1.0 P^{x}_{-} e^{2}_{d} + 1.0 P_{-} & 0 & 0 & 0 & 0 & 0 & 0\\\\0 & 0 & 0 & 0 & 0 & 0 & 0 & 0 & 1.0 P^{x}_{+} e^{2}_{u} + 1.0 P_{+} & 0 & 0 & 0 & 0 & 0\\\\0 & 0 & 0 & 0 & 0 & 0 & 0 & 0 & 0 & 1.0 P^{x}_{-} e^{2}_{u} + 1.0 P_{-} & 0 & 0 & 0 & 0\\\\0 & 0 & 0 & 0 & 0 & 0 & 0 & 0 & 0 & 0 & 0 & 0 & 0 & 0\\\\0 & 0 & 0 & 0 & 0 & 0 & 0 & 0 & 0 & 0 & 0 & 0 & 0 & 0\\\\0 & 0 & 0 & 0 & 0 & 0 & 0 & 0 & 0 & 0 & 0 & 0 & 0 & 0\\\\0 & 0 & 0 & 0 & 0 & 0 & 0 & 0 & 0 & 0 & 0 & 0 & 0 & 0\\end{array}\\right]$"
      ],
      "text/plain": [
       "Matrix([\n",
       "[                P^x_gg*e_\\Sigma^2 + P_gg,                       P^x_g\\gamma*e_\\Sigma^2,                                                                                                       0.5*P^x_gq*e_d^2 + 0.5*P^x_gq*e_u^2 + 1.0*P_gq,                                                                                                                -0.5*P^x_gq*e_d^2 + 0.5*P^x_gq*e_u^2,                                           0,                                           0,                         0,                         0,                         0,                         0, 0, 0, 0, 0],\n",
       "[                 P^x_\\gamma g*e_\\Sigma^2,                  P^x_\\gamma\\gamma*e_\\Sigma^2,                                                                                                      0.5*P^x_\\gamma q*e_d^2 + 0.5*P^x_\\gamma q*e_u^2,                                                                                                    -0.5*P^x_\\gamma q*e_d^2 + 0.5*P^x_\\gamma q*e_u^2,                                           0,                                           0,                         0,                         0,                         0,                         0, 0, 0, 0, 0],\n",
       "[4*P^x_qg*e_d^2 + 4*P^x_qg*e_u^2 + 8*P_qg,    4*P^x_q\\gamma*e_d^2 + 4*P^x_q\\gamma*e_u^2, 0.5*P^x_+*e_d^2 + 0.5*P^x_+*e_u^2 + 1.0*P_qq + 0.25*e_d^2**2*(-P^x_+ + P^x_qq) + 0.5*e_d^2*e_u^2*(-P^x_+ + P^x_qq) + 0.25*e_u^2**2*(-P^x_+ + P^x_qq),                                              -0.5*P^x_+*e_d^2 + 0.5*P^x_+*e_u^2 - 0.25*e_d^2**2*(-P^x_+ + P^x_qq) + 0.25*e_u^2**2*(-P^x_+ + P^x_qq),                                           0,                                           0,                         0,                         0,                         0,                         0, 0, 0, 0, 0],\n",
       "[      -4*P^x_qg*e_d^2 + 4.0*P^x_qg*e_u^2, -4*P^x_q\\gamma*e_d^2 + 4.0*P^x_q\\gamma*e_u^2,                                               -0.5*P^x_+*e_d^2 + 0.5*P^x_+*e_u^2 - 0.25*e_d^2**2*(-P^x_+ + P^x_qq) + 0.25*e_u^2**2*(-P^x_+ + P^x_qq), 0.5*P^x_+*e_d^2 + 0.5*P^x_+*e_u^2 + 1.0*P_+ + 0.25*e_d^2**2*(-P^x_+ + P^x_qq) - 0.5*e_d^2*e_u^2*(-P^x_+ + P^x_qq) + 0.25*e_u^2**2*(-P^x_+ + P^x_qq),                                           0,                                           0,                         0,                         0,                         0,                         0, 0, 0, 0, 0],\n",
       "[                                       0,                                            0,                                                                                                                                                    0,                                                                                                                                                   0, 0.5*P^x_-*e_d^2 + 0.5*P^x_-*e_u^2 + 1.0*P_V,          -0.5*P^x_-*e_d^2 + 0.5*P^x_-*e_u^2,                         0,                         0,                         0,                         0, 0, 0, 0, 0],\n",
       "[                                       0,                                            0,                                                                                                                                                    0,                                                                                                                                                   0,          -0.5*P^x_-*e_d^2 + 0.5*P^x_-*e_u^2, 0.5*P^x_-*e_d^2 + 0.5*P^x_-*e_u^2 + 1.0*P_-,                         0,                         0,                         0,                         0, 0, 0, 0, 0],\n",
       "[                                       0,                                            0,                                                                                                                                                    0,                                                                                                                                                   0,                                           0,                                           0, 1.0*P^x_+*e_d^2 + 1.0*P_+,                         0,                         0,                         0, 0, 0, 0, 0],\n",
       "[                                       0,                                            0,                                                                                                                                                    0,                                                                                                                                                   0,                                           0,                                           0,                         0, 1.0*P^x_-*e_d^2 + 1.0*P_-,                         0,                         0, 0, 0, 0, 0],\n",
       "[                                       0,                                            0,                                                                                                                                                    0,                                                                                                                                                   0,                                           0,                                           0,                         0,                         0, 1.0*P^x_+*e_u^2 + 1.0*P_+,                         0, 0, 0, 0, 0],\n",
       "[                                       0,                                            0,                                                                                                                                                    0,                                                                                                                                                   0,                                           0,                                           0,                         0,                         0,                         0, 1.0*P^x_-*e_u^2 + 1.0*P_-, 0, 0, 0, 0],\n",
       "[                                       0,                                            0,                                                                                                                                                    0,                                                                                                                                                   0,                                           0,                                           0,                         0,                         0,                         0,                         0, 0, 0, 0, 0],\n",
       "[                                       0,                                            0,                                                                                                                                                    0,                                                                                                                                                   0,                                           0,                                           0,                         0,                         0,                         0,                         0, 0, 0, 0, 0],\n",
       "[                                       0,                                            0,                                                                                                                                                    0,                                                                                                                                                   0,                                           0,                                           0,                         0,                         0,                         0,                         0, 0, 0, 0, 0],\n",
       "[                                       0,                                            0,                                                                                                                                                    0,                                                                                                                                                   0,                                           0,                                           0,                         0,                         0,                         0,                         0, 0, 0, 0, 0]])"
      ]
     },
     "execution_count": 17,
     "metadata": {},
     "output_type": "execute_result"
    }
   ],
   "source": [
    "P_ev(4)"
   ]
  },
  {
   "cell_type": "code",
   "execution_count": 18,
   "id": "0d6f55c2",
   "metadata": {},
   "outputs": [
    {
     "data": {
      "text/latex": [
       "$\\displaystyle \\left[\\begin{array}{cccccccccccccc}P^{x}_{gg} e^{2}_{\\Sigma} + P_{gg} & P^{x}_{g\\gamma} e^{2}_{\\Sigma} & 0.6 P^{x}_{gq} e^{2}_{d} + 0.4 P^{x}_{gq} e^{2}_{u} + 1.0 P_{gq} & - 0.4 P^{x}_{gq} e^{2}_{d} + 0.4 P^{x}_{gq} e^{2}_{u} + 5.55111512312578 \\cdot 10^{-17} P_{gq} & 0 & 0 & 0 & 0 & 0 & 0 & 0 & 0 & 0 & 0\\\\P^{x}_{\\gamma g} e^{2}_{\\Sigma} & P^{x}_{\\gamma\\gamma} e^{2}_{\\Sigma} & 0.6 P^{x}_{\\gamma q} e^{2}_{d} + 0.4 P^{x}_{\\gamma q} e^{2}_{u} & - 0.4 P^{x}_{\\gamma q} e^{2}_{d} + 0.4 P^{x}_{\\gamma q} e^{2}_{u} & 0 & 0 & 0 & 0 & 0 & 0 & 0 & 0 & 0 & 0\\\\6 P^{x}_{qg} e^{2}_{d} + 4 P^{x}_{qg} e^{2}_{u} + 10 P_{qg} & 6 P^{x}_{q\\gamma} e^{2}_{d} + 4 P^{x}_{q\\gamma} e^{2}_{u} & 0.6 P^{x}_{+} e^{2}_{d} + 0.4 P^{x}_{+} e^{2}_{u} + 1.0 P_{qq} + 0.36 \\left(e^{2}_{d}\\right)^{2} \\left(- P^{x}_{+} + P^{x}_{qq}\\right) + 0.48 e^{2}_{d} e^{2}_{u} \\left(- P^{x}_{+} + P^{x}_{qq}\\right) + 0.16 \\left(e^{2}_{u}\\right)^{2} \\left(- P^{x}_{+} + P^{x}_{qq}\\right) & - 0.4 P^{x}_{+} e^{2}_{d} + 0.4 P^{x}_{+} e^{2}_{u} + 5.55111512312578 \\cdot 10^{-17} P_{+} - 0.24 \\left(e^{2}_{d}\\right)^{2} \\left(- P^{x}_{+} + P^{x}_{qq}\\right) + 0.08 e^{2}_{d} e^{2}_{u} \\left(- P^{x}_{+} + P^{x}_{qq}\\right) + 0.16 \\left(e^{2}_{u}\\right)^{2} \\left(- P^{x}_{+} + P^{x}_{qq}\\right) & 0 & 0 & 0 & 0 & 0 & 0 & 0 & 0 & 0 & 0\\\\- 6 P^{x}_{qg} e^{2}_{d} + 6.0 P^{x}_{qg} e^{2}_{u} & - 6 P^{x}_{q\\gamma} e^{2}_{d} + 6.0 P^{x}_{q\\gamma} e^{2}_{u} & - 0.6 P^{x}_{+} e^{2}_{d} + 0.6 P^{x}_{+} e^{2}_{u} + 5.55111512312578 \\cdot 10^{-17} P_{qq} - 0.36 \\left(e^{2}_{d}\\right)^{2} \\left(- P^{x}_{+} + P^{x}_{qq}\\right) + 0.12 e^{2}_{d} e^{2}_{u} \\left(- P^{x}_{+} + P^{x}_{qq}\\right) + 0.24 \\left(e^{2}_{u}\\right)^{2} \\left(- P^{x}_{+} + P^{x}_{qq}\\right) & 0.4 P^{x}_{+} e^{2}_{d} + 0.6 P^{x}_{+} e^{2}_{u} + 1.0 P_{+} + 0.24 \\left(e^{2}_{d}\\right)^{2} \\left(- P^{x}_{+} + P^{x}_{qq}\\right) - 0.48 e^{2}_{d} e^{2}_{u} \\left(- P^{x}_{+} + P^{x}_{qq}\\right) + 0.24 \\left(e^{2}_{u}\\right)^{2} \\left(- P^{x}_{+} + P^{x}_{qq}\\right) & 0 & 0 & 0 & 0 & 0 & 0 & 0 & 0 & 0 & 0\\\\0 & 0 & 0 & 0 & 0.6 P^{x}_{-} e^{2}_{d} + 0.4 P^{x}_{-} e^{2}_{u} + 1.0 P_{V} & - 0.4 P^{x}_{-} e^{2}_{d} + 0.4 P^{x}_{-} e^{2}_{u} & 0 & 0 & 0 & 0 & 0 & 0 & 0 & 0\\\\0 & 0 & 0 & 0 & - 0.6 P^{x}_{-} e^{2}_{d} + 0.6 P^{x}_{-} e^{2}_{u} - 1.11022302462516 \\cdot 10^{-16} P_{-} + 1.11022302462516 \\cdot 10^{-16} P_{V} & 0.4 P^{x}_{-} e^{2}_{d} + 0.6 P^{x}_{-} e^{2}_{u} + 1.0 P_{-} & 0 & 0 & 0 & 0 & 0 & 0 & 0 & 0\\\\0 & 0 & 0 & 0 & 0 & 0 & 1.0 P^{x}_{+} e^{2}_{d} + 1.0 P_{+} & 0 & 0 & 0 & 0 & 0 & 0 & 0\\\\0 & 0 & 0 & 0 & 0 & 0 & 0 & 1.0 P^{x}_{-} e^{2}_{d} + 1.0 P_{-} & 0 & 0 & 0 & 0 & 0 & 0\\\\0 & 0 & 0 & 0 & 0 & 0 & 0 & 0 & 1.0 P^{x}_{+} e^{2}_{u} + 1.0 P_{+} & 0 & 0 & 0 & 0 & 0\\\\0 & 0 & 0 & 0 & 0 & 0 & 0 & 0 & 0 & 1.0 P^{x}_{-} e^{2}_{u} + 1.0 P_{-} & 0 & 0 & 0 & 0\\\\0 & 0 & 0 & 0 & 0 & 0 & 0 & 0 & 0 & 0 & 1.0 P^{x}_{+} e^{2}_{d} + 1.0 P_{+} & 0 & 0 & 0\\\\0 & 0 & 0 & 0 & 0 & 0 & 0 & 0 & 0 & 0 & 0 & 1.0 P^{x}_{-} e^{2}_{d} + 1.0 P_{-} & 0 & 0\\\\0 & 0 & 0 & 0 & 0 & 0 & 0 & 0 & 0 & 0 & 0 & 0 & 0 & 0\\\\0 & 0 & 0 & 0 & 0 & 0 & 0 & 0 & 0 & 0 & 0 & 0 & 0 & 0\\end{array}\\right]$"
      ],
      "text/plain": [
       "Matrix([\n",
       "[                 P^x_gg*e_\\Sigma^2 + P_gg,                       P^x_g\\gamma*e_\\Sigma^2,                                                                                                                          0.6*P^x_gq*e_d^2 + 0.4*P^x_gq*e_u^2 + 1.0*P_gq,                                                                                                       -0.4*P^x_gq*e_d^2 + 0.4*P^x_gq*e_u^2 + 5.55111512312578e-17*P_gq,                                                                                        0,                                           0,                         0,                         0,                         0,                         0,                         0,                         0, 0, 0],\n",
       "[                  P^x_\\gamma g*e_\\Sigma^2,                  P^x_\\gamma\\gamma*e_\\Sigma^2,                                                                                                                         0.6*P^x_\\gamma q*e_d^2 + 0.4*P^x_\\gamma q*e_u^2,                                                                                                                       -0.4*P^x_\\gamma q*e_d^2 + 0.4*P^x_\\gamma q*e_u^2,                                                                                        0,                                           0,                         0,                         0,                         0,                         0,                         0,                         0, 0, 0],\n",
       "[6*P^x_qg*e_d^2 + 4*P^x_qg*e_u^2 + 10*P_qg,    6*P^x_q\\gamma*e_d^2 + 4*P^x_q\\gamma*e_u^2,                   0.6*P^x_+*e_d^2 + 0.4*P^x_+*e_u^2 + 1.0*P_qq + 0.36*e_d^2**2*(-P^x_+ + P^x_qq) + 0.48*e_d^2*e_u^2*(-P^x_+ + P^x_qq) + 0.16*e_u^2**2*(-P^x_+ + P^x_qq), -0.4*P^x_+*e_d^2 + 0.4*P^x_+*e_u^2 + 5.55111512312578e-17*P_+ - 0.24*e_d^2**2*(-P^x_+ + P^x_qq) + 0.08*e_d^2*e_u^2*(-P^x_+ + P^x_qq) + 0.16*e_u^2**2*(-P^x_+ + P^x_qq),                                                                                        0,                                           0,                         0,                         0,                         0,                         0,                         0,                         0, 0, 0],\n",
       "[       -6*P^x_qg*e_d^2 + 6.0*P^x_qg*e_u^2, -6*P^x_q\\gamma*e_d^2 + 6.0*P^x_q\\gamma*e_u^2, -0.6*P^x_+*e_d^2 + 0.6*P^x_+*e_u^2 + 5.55111512312578e-17*P_qq - 0.36*e_d^2**2*(-P^x_+ + P^x_qq) + 0.12*e_d^2*e_u^2*(-P^x_+ + P^x_qq) + 0.24*e_u^2**2*(-P^x_+ + P^x_qq),                   0.4*P^x_+*e_d^2 + 0.6*P^x_+*e_u^2 + 1.0*P_+ + 0.24*e_d^2**2*(-P^x_+ + P^x_qq) - 0.48*e_d^2*e_u^2*(-P^x_+ + P^x_qq) + 0.24*e_u^2**2*(-P^x_+ + P^x_qq),                                                                                        0,                                           0,                         0,                         0,                         0,                         0,                         0,                         0, 0, 0],\n",
       "[                                        0,                                            0,                                                                                                                                                                       0,                                                                                                                                                                      0,                                              0.6*P^x_-*e_d^2 + 0.4*P^x_-*e_u^2 + 1.0*P_V,          -0.4*P^x_-*e_d^2 + 0.4*P^x_-*e_u^2,                         0,                         0,                         0,                         0,                         0,                         0, 0, 0],\n",
       "[                                        0,                                            0,                                                                                                                                                                       0,                                                                                                                                                                      0, -0.6*P^x_-*e_d^2 + 0.6*P^x_-*e_u^2 - 1.11022302462516e-16*P_- + 1.11022302462516e-16*P_V, 0.4*P^x_-*e_d^2 + 0.6*P^x_-*e_u^2 + 1.0*P_-,                         0,                         0,                         0,                         0,                         0,                         0, 0, 0],\n",
       "[                                        0,                                            0,                                                                                                                                                                       0,                                                                                                                                                                      0,                                                                                        0,                                           0, 1.0*P^x_+*e_d^2 + 1.0*P_+,                         0,                         0,                         0,                         0,                         0, 0, 0],\n",
       "[                                        0,                                            0,                                                                                                                                                                       0,                                                                                                                                                                      0,                                                                                        0,                                           0,                         0, 1.0*P^x_-*e_d^2 + 1.0*P_-,                         0,                         0,                         0,                         0, 0, 0],\n",
       "[                                        0,                                            0,                                                                                                                                                                       0,                                                                                                                                                                      0,                                                                                        0,                                           0,                         0,                         0, 1.0*P^x_+*e_u^2 + 1.0*P_+,                         0,                         0,                         0, 0, 0],\n",
       "[                                        0,                                            0,                                                                                                                                                                       0,                                                                                                                                                                      0,                                                                                        0,                                           0,                         0,                         0,                         0, 1.0*P^x_-*e_u^2 + 1.0*P_-,                         0,                         0, 0, 0],\n",
       "[                                        0,                                            0,                                                                                                                                                                       0,                                                                                                                                                                      0,                                                                                        0,                                           0,                         0,                         0,                         0,                         0, 1.0*P^x_+*e_d^2 + 1.0*P_+,                         0, 0, 0],\n",
       "[                                        0,                                            0,                                                                                                                                                                       0,                                                                                                                                                                      0,                                                                                        0,                                           0,                         0,                         0,                         0,                         0,                         0, 1.0*P^x_-*e_d^2 + 1.0*P_-, 0, 0],\n",
       "[                                        0,                                            0,                                                                                                                                                                       0,                                                                                                                                                                      0,                                                                                        0,                                           0,                         0,                         0,                         0,                         0,                         0,                         0, 0, 0],\n",
       "[                                        0,                                            0,                                                                                                                                                                       0,                                                                                                                                                                      0,                                                                                        0,                                           0,                         0,                         0,                         0,                         0,                         0,                         0, 0, 0]])"
      ]
     },
     "execution_count": 18,
     "metadata": {},
     "output_type": "execute_result"
    }
   ],
   "source": [
    "P_ev(5)"
   ]
  },
  {
   "cell_type": "code",
   "execution_count": 19,
   "id": "c11fad98",
   "metadata": {},
   "outputs": [
    {
     "data": {
      "text/latex": [
       "$\\displaystyle \\left[\\begin{array}{cccccccccccccc}P^{x}_{gg} e^{2}_{\\Sigma} + P_{gg} & P^{x}_{g\\gamma} e^{2}_{\\Sigma} & 0.5 P^{x}_{gq} e^{2}_{d} + 0.5 P^{x}_{gq} e^{2}_{u} + 1.0 P_{gq} & - 0.5 P^{x}_{gq} e^{2}_{d} + 0.5 P^{x}_{gq} e^{2}_{u} + 5.55111512312578 \\cdot 10^{-17} P_{gq} & 0 & 0 & 0 & 0 & 0 & 0 & 0 & 0 & 0 & 0\\\\P^{x}_{\\gamma g} e^{2}_{\\Sigma} & P^{x}_{\\gamma\\gamma} e^{2}_{\\Sigma} & 0.5 P^{x}_{\\gamma q} e^{2}_{d} + 0.5 P^{x}_{\\gamma q} e^{2}_{u} & - 0.5 P^{x}_{\\gamma q} e^{2}_{d} + 0.5 P^{x}_{\\gamma q} e^{2}_{u} & 0 & 0 & 0 & 0 & 0 & 0 & 0 & 0 & 0 & 0\\\\6 P^{x}_{qg} e^{2}_{d} + 6 P^{x}_{qg} e^{2}_{u} + 12 P_{qg} & 6 P^{x}_{q\\gamma} e^{2}_{d} + 6 P^{x}_{q\\gamma} e^{2}_{u} & 0.5 P^{x}_{+} e^{2}_{d} + 0.5 P^{x}_{+} e^{2}_{u} - 1.11022302462516 \\cdot 10^{-16} P_{+} + 1.0 P_{qq} + 0.25 \\left(e^{2}_{d}\\right)^{2} \\left(- P^{x}_{+} + P^{x}_{qq}\\right) + 0.5 e^{2}_{d} e^{2}_{u} \\left(- P^{x}_{+} + P^{x}_{qq}\\right) + 0.25 \\left(e^{2}_{u}\\right)^{2} \\left(- P^{x}_{+} + P^{x}_{qq}\\right) & - 0.5 P^{x}_{+} e^{2}_{d} + 0.5 P^{x}_{+} e^{2}_{u} + 5.55111512312578 \\cdot 10^{-17} P_{+} - 0.25 \\left(e^{2}_{d}\\right)^{2} \\left(- P^{x}_{+} + P^{x}_{qq}\\right) + 0.25 \\left(e^{2}_{u}\\right)^{2} \\left(- P^{x}_{+} + P^{x}_{qq}\\right) & 0 & 0 & 0 & 0 & 0 & 0 & 0 & 0 & 0 & 0\\\\- 6 P^{x}_{qg} e^{2}_{d} + 6.0 P^{x}_{qg} e^{2}_{u} & - 6 P^{x}_{q\\gamma} e^{2}_{d} + 6.0 P^{x}_{q\\gamma} e^{2}_{u} & - 0.5 P^{x}_{+} e^{2}_{d} + 0.5 P^{x}_{+} e^{2}_{u} + 5.55111512312578 \\cdot 10^{-17} P_{qq} - 0.25 \\left(e^{2}_{d}\\right)^{2} \\left(- P^{x}_{+} + P^{x}_{qq}\\right) + 0.25 \\left(e^{2}_{u}\\right)^{2} \\left(- P^{x}_{+} + P^{x}_{qq}\\right) & 0.5 P^{x}_{+} e^{2}_{d} + 0.5 P^{x}_{+} e^{2}_{u} + 1.0 P_{+} + 0.25 \\left(e^{2}_{d}\\right)^{2} \\left(- P^{x}_{+} + P^{x}_{qq}\\right) - 0.5 e^{2}_{d} e^{2}_{u} \\left(- P^{x}_{+} + P^{x}_{qq}\\right) + 0.25 \\left(e^{2}_{u}\\right)^{2} \\left(- P^{x}_{+} + P^{x}_{qq}\\right) & 0 & 0 & 0 & 0 & 0 & 0 & 0 & 0 & 0 & 0\\\\0 & 0 & 0 & 0 & 0.5 P^{x}_{-} e^{2}_{d} + 0.5 P^{x}_{-} e^{2}_{u} - 1.11022302462516 \\cdot 10^{-16} P_{-} + 1.0 P_{V} & - 0.5 P^{x}_{-} e^{2}_{d} + 0.5 P^{x}_{-} e^{2}_{u} - 5.55111512312578 \\cdot 10^{-17} P_{-} & 0 & 0 & 0 & 0 & 0 & 0 & 0 & 0\\\\0 & 0 & 0 & 0 & - 0.5 P^{x}_{-} e^{2}_{d} + 0.5 P^{x}_{-} e^{2}_{u} - 5.55111512312578 \\cdot 10^{-17} P_{V} & 0.5 P^{x}_{-} e^{2}_{d} + 0.5 P^{x}_{-} e^{2}_{u} + 1.0 P_{-} & 0 & 0 & 0 & 0 & 0 & 0 & 0 & 0\\\\0 & 0 & 0 & 0 & 0 & 0 & 1.0 P^{x}_{+} e^{2}_{d} + 1.0 P_{+} & 0 & 0 & 0 & 0 & 0 & 0 & 0\\\\0 & 0 & 0 & 0 & 0 & 0 & 0 & 1.0 P^{x}_{-} e^{2}_{d} + 1.0 P_{-} & 0 & 0 & 0 & 0 & 0 & 0\\\\0 & 0 & 0 & 0 & 0 & 0 & 0 & 0 & 1.0 P^{x}_{+} e^{2}_{u} + 1.0 P_{+} & 0 & 0 & 0 & 0 & 0\\\\0 & 0 & 0 & 0 & 0 & 0 & 0 & 0 & 0 & 1.0 P^{x}_{-} e^{2}_{u} + 1.0 P_{-} & 0 & 0 & 0 & 0\\\\0 & 0 & 0 & 0 & 0 & 0 & 0 & 0 & 0 & 0 & 1.0 P^{x}_{+} e^{2}_{d} + 1.0 P_{+} & 0 & 0 & 0\\\\0 & 0 & 0 & 0 & 0 & 0 & 0 & 0 & 0 & 0 & 0 & 1.0 P^{x}_{-} e^{2}_{d} + 1.0 P_{-} & 0 & 0\\\\0 & 0 & 0 & 0 & 0 & 0 & 0 & 0 & 0 & 0 & 0 & 0 & 1.0 P^{x}_{+} e^{2}_{u} + 1.0 P_{+} & 0\\\\0 & 0 & 0 & 0 & 0 & 0 & 0 & 0 & 0 & 0 & 0 & 0 & 0 & 1.0 P^{x}_{-} e^{2}_{u} + 1.0 P_{-}\\end{array}\\right]$"
      ],
      "text/plain": [
       "Matrix([\n",
       "[                 P^x_gg*e_\\Sigma^2 + P_gg,                       P^x_g\\gamma*e_\\Sigma^2,                                                                                                                                  0.5*P^x_gq*e_d^2 + 0.5*P^x_gq*e_u^2 + 1.0*P_gq,                                                                                    -0.5*P^x_gq*e_d^2 + 0.5*P^x_gq*e_u^2 + 5.55111512312578e-17*P_gq,                                                                      0,                                                             0,                         0,                         0,                         0,                         0,                         0,                         0,                         0,                         0],\n",
       "[                  P^x_\\gamma g*e_\\Sigma^2,                  P^x_\\gamma\\gamma*e_\\Sigma^2,                                                                                                                                 0.5*P^x_\\gamma q*e_d^2 + 0.5*P^x_\\gamma q*e_u^2,                                                                                                    -0.5*P^x_\\gamma q*e_d^2 + 0.5*P^x_\\gamma q*e_u^2,                                                                      0,                                                             0,                         0,                         0,                         0,                         0,                         0,                         0,                         0,                         0],\n",
       "[6*P^x_qg*e_d^2 + 6*P^x_qg*e_u^2 + 12*P_qg,    6*P^x_q\\gamma*e_d^2 + 6*P^x_q\\gamma*e_u^2, 0.5*P^x_+*e_d^2 + 0.5*P^x_+*e_u^2 - 1.11022302462516e-16*P_+ + 1.0*P_qq + 0.25*e_d^2**2*(-P^x_+ + P^x_qq) + 0.5*e_d^2*e_u^2*(-P^x_+ + P^x_qq) + 0.25*e_u^2**2*(-P^x_+ + P^x_qq),                   -0.5*P^x_+*e_d^2 + 0.5*P^x_+*e_u^2 + 5.55111512312578e-17*P_+ - 0.25*e_d^2**2*(-P^x_+ + P^x_qq) + 0.25*e_u^2**2*(-P^x_+ + P^x_qq),                                                                      0,                                                             0,                         0,                         0,                         0,                         0,                         0,                         0,                         0,                         0],\n",
       "[       -6*P^x_qg*e_d^2 + 6.0*P^x_qg*e_u^2, -6*P^x_q\\gamma*e_d^2 + 6.0*P^x_q\\gamma*e_u^2,                                              -0.5*P^x_+*e_d^2 + 0.5*P^x_+*e_u^2 + 5.55111512312578e-17*P_qq - 0.25*e_d^2**2*(-P^x_+ + P^x_qq) + 0.25*e_u^2**2*(-P^x_+ + P^x_qq), 0.5*P^x_+*e_d^2 + 0.5*P^x_+*e_u^2 + 1.0*P_+ + 0.25*e_d^2**2*(-P^x_+ + P^x_qq) - 0.5*e_d^2*e_u^2*(-P^x_+ + P^x_qq) + 0.25*e_u^2**2*(-P^x_+ + P^x_qq),                                                                      0,                                                             0,                         0,                         0,                         0,                         0,                         0,                         0,                         0,                         0],\n",
       "[                                        0,                                            0,                                                                                                                                                                               0,                                                                                                                                                   0, 0.5*P^x_-*e_d^2 + 0.5*P^x_-*e_u^2 - 1.11022302462516e-16*P_- + 1.0*P_V, -0.5*P^x_-*e_d^2 + 0.5*P^x_-*e_u^2 - 5.55111512312578e-17*P_-,                         0,                         0,                         0,                         0,                         0,                         0,                         0,                         0],\n",
       "[                                        0,                                            0,                                                                                                                                                                               0,                                                                                                                                                   0,          -0.5*P^x_-*e_d^2 + 0.5*P^x_-*e_u^2 - 5.55111512312578e-17*P_V,                   0.5*P^x_-*e_d^2 + 0.5*P^x_-*e_u^2 + 1.0*P_-,                         0,                         0,                         0,                         0,                         0,                         0,                         0,                         0],\n",
       "[                                        0,                                            0,                                                                                                                                                                               0,                                                                                                                                                   0,                                                                      0,                                                             0, 1.0*P^x_+*e_d^2 + 1.0*P_+,                         0,                         0,                         0,                         0,                         0,                         0,                         0],\n",
       "[                                        0,                                            0,                                                                                                                                                                               0,                                                                                                                                                   0,                                                                      0,                                                             0,                         0, 1.0*P^x_-*e_d^2 + 1.0*P_-,                         0,                         0,                         0,                         0,                         0,                         0],\n",
       "[                                        0,                                            0,                                                                                                                                                                               0,                                                                                                                                                   0,                                                                      0,                                                             0,                         0,                         0, 1.0*P^x_+*e_u^2 + 1.0*P_+,                         0,                         0,                         0,                         0,                         0],\n",
       "[                                        0,                                            0,                                                                                                                                                                               0,                                                                                                                                                   0,                                                                      0,                                                             0,                         0,                         0,                         0, 1.0*P^x_-*e_u^2 + 1.0*P_-,                         0,                         0,                         0,                         0],\n",
       "[                                        0,                                            0,                                                                                                                                                                               0,                                                                                                                                                   0,                                                                      0,                                                             0,                         0,                         0,                         0,                         0, 1.0*P^x_+*e_d^2 + 1.0*P_+,                         0,                         0,                         0],\n",
       "[                                        0,                                            0,                                                                                                                                                                               0,                                                                                                                                                   0,                                                                      0,                                                             0,                         0,                         0,                         0,                         0,                         0, 1.0*P^x_-*e_d^2 + 1.0*P_-,                         0,                         0],\n",
       "[                                        0,                                            0,                                                                                                                                                                               0,                                                                                                                                                   0,                                                                      0,                                                             0,                         0,                         0,                         0,                         0,                         0,                         0, 1.0*P^x_+*e_u^2 + 1.0*P_+,                         0],\n",
       "[                                        0,                                            0,                                                                                                                                                                               0,                                                                                                                                                   0,                                                                      0,                                                             0,                         0,                         0,                         0,                         0,                         0,                         0,                         0, 1.0*P^x_-*e_u^2 + 1.0*P_-]])"
      ]
     },
     "execution_count": 19,
     "metadata": {},
     "output_type": "execute_result"
    }
   ],
   "source": [
    "P_ev(6)"
   ]
  },
  {
   "cell_type": "code",
   "execution_count": null,
   "id": "21fe7814",
   "metadata": {},
   "outputs": [],
   "source": []
  }
 ],
 "metadata": {
  "kernelspec": {
   "display_name": "Python 3 (ipykernel)",
   "language": "python",
   "name": "python3"
  },
  "language_info": {
   "codemirror_mode": {
    "name": "ipython",
    "version": 3
   },
   "file_extension": ".py",
   "mimetype": "text/x-python",
   "name": "python",
   "nbconvert_exporter": "python",
   "pygments_lexer": "ipython3",
   "version": "3.8.12"
  }
 },
 "nbformat": 4,
 "nbformat_minor": 5
}
